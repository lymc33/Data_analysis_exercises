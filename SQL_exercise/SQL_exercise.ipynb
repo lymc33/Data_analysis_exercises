{
 "cells": [
  {
   "cell_type": "code",
   "execution_count": 1,
   "id": "ff117fe9",
   "metadata": {},
   "outputs": [],
   "source": [
    "### Importaciones\n",
    "import pandas as pd\n",
    "import matplotlib.pyplot as plt"
   ]
  },
  {
   "cell_type": "code",
   "execution_count": 2,
   "id": "966f796b",
   "metadata": {},
   "outputs": [
    {
     "name": "stdout",
     "output_type": "stream",
     "text": [
      "(438557, 18) (1048575, 3)\n"
     ]
    }
   ],
   "source": [
    "### Lector de archivo\n",
    "df1 = pd.read_csv(\"/Users/yairmartinez/Documents/GitHub/Data_analysis_exercises/Extract/DB/Datos/application_record.csv\")\n",
    "df2 = pd.read_csv(\"/Users/yairmartinez/Documents/GitHub/Data_analysis_exercises/Extract/DB/Datos/credit_record.csv\")\n",
    "print( df1.shape, df2.shape)"
   ]
  },
  {
   "cell_type": "code",
   "execution_count": 3,
   "id": "ebc4fe86",
   "metadata": {},
   "outputs": [
    {
     "data": {
      "text/html": [
       "<div>\n",
       "<style scoped>\n",
       "    .dataframe tbody tr th:only-of-type {\n",
       "        vertical-align: middle;\n",
       "    }\n",
       "\n",
       "    .dataframe tbody tr th {\n",
       "        vertical-align: top;\n",
       "    }\n",
       "\n",
       "    .dataframe thead th {\n",
       "        text-align: right;\n",
       "    }\n",
       "</style>\n",
       "<table border=\"1\" class=\"dataframe\">\n",
       "  <thead>\n",
       "    <tr style=\"text-align: right;\">\n",
       "      <th></th>\n",
       "      <th>ID</th>\n",
       "      <th>CODE_GENDER</th>\n",
       "      <th>FLAG_OWN_CAR</th>\n",
       "      <th>FLAG_OWN_REALTY</th>\n",
       "      <th>CNT_CHILDREN</th>\n",
       "      <th>AMT_INCOME_TOTAL</th>\n",
       "      <th>NAME_INCOME_TYPE</th>\n",
       "      <th>NAME_EDUCATION_TYPE</th>\n",
       "      <th>NAME_FAMILY_STATUS</th>\n",
       "      <th>NAME_HOUSING_TYPE</th>\n",
       "      <th>DAYS_BIRTH</th>\n",
       "      <th>DAYS_EMPLOYED</th>\n",
       "      <th>FLAG_MOBIL</th>\n",
       "      <th>FLAG_WORK_PHONE</th>\n",
       "      <th>FLAG_PHONE</th>\n",
       "      <th>FLAG_EMAIL</th>\n",
       "      <th>OCCUPATION_TYPE</th>\n",
       "      <th>CNT_FAM_MEMBERS</th>\n",
       "    </tr>\n",
       "  </thead>\n",
       "  <tbody>\n",
       "    <tr>\n",
       "      <th>0</th>\n",
       "      <td>5008804</td>\n",
       "      <td>M</td>\n",
       "      <td>Y</td>\n",
       "      <td>Y</td>\n",
       "      <td>0</td>\n",
       "      <td>427500.0</td>\n",
       "      <td>Working</td>\n",
       "      <td>Higher education</td>\n",
       "      <td>Civil marriage</td>\n",
       "      <td>Rented apartment</td>\n",
       "      <td>-12005</td>\n",
       "      <td>-4542</td>\n",
       "      <td>1</td>\n",
       "      <td>1</td>\n",
       "      <td>0</td>\n",
       "      <td>0</td>\n",
       "      <td>NaN</td>\n",
       "      <td>2.0</td>\n",
       "    </tr>\n",
       "    <tr>\n",
       "      <th>1</th>\n",
       "      <td>5008805</td>\n",
       "      <td>M</td>\n",
       "      <td>Y</td>\n",
       "      <td>Y</td>\n",
       "      <td>0</td>\n",
       "      <td>427500.0</td>\n",
       "      <td>Working</td>\n",
       "      <td>Higher education</td>\n",
       "      <td>Civil marriage</td>\n",
       "      <td>Rented apartment</td>\n",
       "      <td>-12005</td>\n",
       "      <td>-4542</td>\n",
       "      <td>1</td>\n",
       "      <td>1</td>\n",
       "      <td>0</td>\n",
       "      <td>0</td>\n",
       "      <td>NaN</td>\n",
       "      <td>2.0</td>\n",
       "    </tr>\n",
       "    <tr>\n",
       "      <th>2</th>\n",
       "      <td>5008806</td>\n",
       "      <td>M</td>\n",
       "      <td>Y</td>\n",
       "      <td>Y</td>\n",
       "      <td>0</td>\n",
       "      <td>112500.0</td>\n",
       "      <td>Working</td>\n",
       "      <td>Secondary / secondary special</td>\n",
       "      <td>Married</td>\n",
       "      <td>House / apartment</td>\n",
       "      <td>-21474</td>\n",
       "      <td>-1134</td>\n",
       "      <td>1</td>\n",
       "      <td>0</td>\n",
       "      <td>0</td>\n",
       "      <td>0</td>\n",
       "      <td>Security staff</td>\n",
       "      <td>2.0</td>\n",
       "    </tr>\n",
       "    <tr>\n",
       "      <th>3</th>\n",
       "      <td>5008808</td>\n",
       "      <td>F</td>\n",
       "      <td>N</td>\n",
       "      <td>Y</td>\n",
       "      <td>0</td>\n",
       "      <td>270000.0</td>\n",
       "      <td>Commercial associate</td>\n",
       "      <td>Secondary / secondary special</td>\n",
       "      <td>Single / not married</td>\n",
       "      <td>House / apartment</td>\n",
       "      <td>-19110</td>\n",
       "      <td>-3051</td>\n",
       "      <td>1</td>\n",
       "      <td>0</td>\n",
       "      <td>1</td>\n",
       "      <td>1</td>\n",
       "      <td>Sales staff</td>\n",
       "      <td>1.0</td>\n",
       "    </tr>\n",
       "    <tr>\n",
       "      <th>4</th>\n",
       "      <td>5008809</td>\n",
       "      <td>F</td>\n",
       "      <td>N</td>\n",
       "      <td>Y</td>\n",
       "      <td>0</td>\n",
       "      <td>270000.0</td>\n",
       "      <td>Commercial associate</td>\n",
       "      <td>Secondary / secondary special</td>\n",
       "      <td>Single / not married</td>\n",
       "      <td>House / apartment</td>\n",
       "      <td>-19110</td>\n",
       "      <td>-3051</td>\n",
       "      <td>1</td>\n",
       "      <td>0</td>\n",
       "      <td>1</td>\n",
       "      <td>1</td>\n",
       "      <td>Sales staff</td>\n",
       "      <td>1.0</td>\n",
       "    </tr>\n",
       "  </tbody>\n",
       "</table>\n",
       "</div>"
      ],
      "text/plain": [
       "        ID CODE_GENDER FLAG_OWN_CAR FLAG_OWN_REALTY  CNT_CHILDREN  \\\n",
       "0  5008804           M            Y               Y             0   \n",
       "1  5008805           M            Y               Y             0   \n",
       "2  5008806           M            Y               Y             0   \n",
       "3  5008808           F            N               Y             0   \n",
       "4  5008809           F            N               Y             0   \n",
       "\n",
       "   AMT_INCOME_TOTAL      NAME_INCOME_TYPE            NAME_EDUCATION_TYPE  \\\n",
       "0          427500.0               Working               Higher education   \n",
       "1          427500.0               Working               Higher education   \n",
       "2          112500.0               Working  Secondary / secondary special   \n",
       "3          270000.0  Commercial associate  Secondary / secondary special   \n",
       "4          270000.0  Commercial associate  Secondary / secondary special   \n",
       "\n",
       "     NAME_FAMILY_STATUS  NAME_HOUSING_TYPE  DAYS_BIRTH  DAYS_EMPLOYED  \\\n",
       "0        Civil marriage   Rented apartment      -12005          -4542   \n",
       "1        Civil marriage   Rented apartment      -12005          -4542   \n",
       "2               Married  House / apartment      -21474          -1134   \n",
       "3  Single / not married  House / apartment      -19110          -3051   \n",
       "4  Single / not married  House / apartment      -19110          -3051   \n",
       "\n",
       "   FLAG_MOBIL  FLAG_WORK_PHONE  FLAG_PHONE  FLAG_EMAIL OCCUPATION_TYPE  \\\n",
       "0           1                1           0           0             NaN   \n",
       "1           1                1           0           0             NaN   \n",
       "2           1                0           0           0  Security staff   \n",
       "3           1                0           1           1     Sales staff   \n",
       "4           1                0           1           1     Sales staff   \n",
       "\n",
       "   CNT_FAM_MEMBERS  \n",
       "0              2.0  \n",
       "1              2.0  \n",
       "2              2.0  \n",
       "3              1.0  \n",
       "4              1.0  "
      ]
     },
     "execution_count": 3,
     "metadata": {},
     "output_type": "execute_result"
    }
   ],
   "source": [
    "### Data Cleaning\n",
    "\n",
    "df1.head()"
   ]
  },
  {
   "cell_type": "code",
   "execution_count": 4,
   "id": "0c868964",
   "metadata": {
    "scrolled": true
   },
   "outputs": [
    {
     "data": {
      "text/html": [
       "<div>\n",
       "<style scoped>\n",
       "    .dataframe tbody tr th:only-of-type {\n",
       "        vertical-align: middle;\n",
       "    }\n",
       "\n",
       "    .dataframe tbody tr th {\n",
       "        vertical-align: top;\n",
       "    }\n",
       "\n",
       "    .dataframe thead th {\n",
       "        text-align: right;\n",
       "    }\n",
       "</style>\n",
       "<table border=\"1\" class=\"dataframe\">\n",
       "  <thead>\n",
       "    <tr style=\"text-align: right;\">\n",
       "      <th></th>\n",
       "      <th>ID</th>\n",
       "      <th>MONTHS_BALANCE</th>\n",
       "      <th>STATUS</th>\n",
       "    </tr>\n",
       "  </thead>\n",
       "  <tbody>\n",
       "    <tr>\n",
       "      <th>0</th>\n",
       "      <td>5001711</td>\n",
       "      <td>0</td>\n",
       "      <td>X</td>\n",
       "    </tr>\n",
       "    <tr>\n",
       "      <th>1</th>\n",
       "      <td>5001711</td>\n",
       "      <td>-1</td>\n",
       "      <td>0</td>\n",
       "    </tr>\n",
       "    <tr>\n",
       "      <th>2</th>\n",
       "      <td>5001711</td>\n",
       "      <td>-2</td>\n",
       "      <td>0</td>\n",
       "    </tr>\n",
       "    <tr>\n",
       "      <th>3</th>\n",
       "      <td>5001711</td>\n",
       "      <td>-3</td>\n",
       "      <td>0</td>\n",
       "    </tr>\n",
       "    <tr>\n",
       "      <th>4</th>\n",
       "      <td>5001712</td>\n",
       "      <td>0</td>\n",
       "      <td>C</td>\n",
       "    </tr>\n",
       "  </tbody>\n",
       "</table>\n",
       "</div>"
      ],
      "text/plain": [
       "        ID  MONTHS_BALANCE STATUS\n",
       "0  5001711               0      X\n",
       "1  5001711              -1      0\n",
       "2  5001711              -2      0\n",
       "3  5001711              -3      0\n",
       "4  5001712               0      C"
      ]
     },
     "execution_count": 4,
     "metadata": {},
     "output_type": "execute_result"
    }
   ],
   "source": [
    "df2.head()"
   ]
  },
  {
   "cell_type": "code",
   "execution_count": 7,
   "id": "c043ab09",
   "metadata": {
    "scrolled": true
   },
   "outputs": [
    {
     "name": "stdout",
     "output_type": "stream",
     "text": [
      "List of column names :  ['ID', 'CODE_GENDER', 'FLAG_OWN_CAR', 'FLAG_OWN_REALTY', 'CNT_CHILDREN', 'AMT_INCOME_TOTAL', 'NAME_INCOME_TYPE', 'NAME_EDUCATION_TYPE', 'NAME_FAMILY_STATUS', 'NAME_HOUSING_TYPE', 'DAYS_BIRTH', 'DAYS_EMPLOYED', 'FLAG_MOBIL', 'FLAG_WORK_PHONE', 'FLAG_PHONE', 'FLAG_EMAIL', 'OCCUPATION_TYPE', 'CNT_FAM_MEMBERS']\n"
     ]
    }
   ],
   "source": [
    "#Título de las columnas\n",
    "list_of_column_names = list(df1.columns)\n",
    "print('List of column names : ', \n",
    "      list_of_column_names)"
   ]
  },
  {
   "cell_type": "code",
   "execution_count": null,
   "id": "6440f05d",
   "metadata": {},
   "outputs": [],
   "source": [
    "#DESECHAR COLUMNAS \n",
    "df2000=df.drop([2, 3, 4, 5, 6, 7, 11, 12, 13, 14, 15, 16, 17, 18, 19], axis=1, inplace=False)"
   ]
  },
  {
   "cell_type": "code",
   "execution_count": null,
   "id": "4414b73c",
   "metadata": {},
   "outputs": [],
   "source": [
    "#Cambiar título de las columnas \n",
    "new_header = df2000.iloc[0] #grab the first row for the header\n",
    "df2000 = df2000[1:] #take the data less the header row\n",
    "df2000.columns = new_header #set the header row as the df header"
   ]
  },
  {
   "cell_type": "code",
   "execution_count": null,
   "id": "371f9009",
   "metadata": {},
   "outputs": [],
   "source": [
    "#Título de las columnas\n",
    "list_of_column_names = list(df2000.columns)\n",
    "print('List of column names : ', \n",
    "      list_of_column_names)"
   ]
  },
  {
   "cell_type": "code",
   "execution_count": null,
   "id": "72194fb7",
   "metadata": {},
   "outputs": [],
   "source": [
    "df2000.head()"
   ]
  },
  {
   "cell_type": "code",
   "execution_count": null,
   "id": "98afc0e4",
   "metadata": {},
   "outputs": [],
   "source": [
    "df2000.shape"
   ]
  },
  {
   "cell_type": "code",
   "execution_count": null,
   "id": "c7e7fd2c",
   "metadata": {},
   "outputs": [],
   "source": [
    "df2000.tail()"
   ]
  },
  {
   "cell_type": "code",
   "execution_count": null,
   "id": "718f4709",
   "metadata": {},
   "outputs": [],
   "source": [
    "df2000.to_csv(r'/Users/yairmartinez/Documents/GitHub/Data_Analysis/INEGI/Extract/DB/df2000.csv', index=False)"
   ]
  },
  {
   "cell_type": "code",
   "execution_count": null,
   "id": "b8204144",
   "metadata": {},
   "outputs": [],
   "source": [
    "###2005###"
   ]
  },
  {
   "cell_type": "code",
   "execution_count": null,
   "id": "1f0400b2",
   "metadata": {},
   "outputs": [],
   "source": [
    "#DESECHAR COLUMNAS \n",
    "df2005=df.drop([2, 3, 4, 5, 6, 7, 8, 9, 10, 14, 15, 16, 17, 18, 19], axis=1, inplace=False)"
   ]
  },
  {
   "cell_type": "code",
   "execution_count": null,
   "id": "a52a8b6d",
   "metadata": {},
   "outputs": [],
   "source": [
    "#Cambiar título de las columnas \n",
    "new_header = df2005.iloc[0] #grab the first row for the header\n",
    "df2005 = df2005[1:] #take the data less the header row\n",
    "df2005.columns = new_header #set the header row as the df header"
   ]
  },
  {
   "cell_type": "code",
   "execution_count": null,
   "id": "d583a2ca",
   "metadata": {},
   "outputs": [],
   "source": [
    "#Título de las columnas\n",
    "list_of_column_names = list(df2005.columns)\n",
    "print('List of column names : ', \n",
    "      list_of_column_names)"
   ]
  },
  {
   "cell_type": "code",
   "execution_count": null,
   "id": "73457ec8",
   "metadata": {},
   "outputs": [],
   "source": [
    "df2005.head()"
   ]
  },
  {
   "cell_type": "code",
   "execution_count": null,
   "id": "4c038a05",
   "metadata": {},
   "outputs": [],
   "source": [
    "df2005.shape"
   ]
  },
  {
   "cell_type": "code",
   "execution_count": null,
   "id": "dc5cd60e",
   "metadata": {},
   "outputs": [],
   "source": [
    "df2005.tail()"
   ]
  },
  {
   "cell_type": "code",
   "execution_count": null,
   "id": "b2d15e90",
   "metadata": {},
   "outputs": [],
   "source": [
    "df2005.to_csv(r'/Users/yairmartinez/Documents/GitHub/Data_Analysis/INEGI/Extract/DB/df2005.csv', index=False)"
   ]
  },
  {
   "cell_type": "code",
   "execution_count": null,
   "id": "6f602427",
   "metadata": {},
   "outputs": [],
   "source": [
    "###2010###"
   ]
  },
  {
   "cell_type": "code",
   "execution_count": null,
   "id": "91e34ac8",
   "metadata": {},
   "outputs": [],
   "source": [
    "#DESECHAR COLUMNAS \n",
    "df2010=df.drop([2, 3, 4, 5, 6, 7, 8, 9, 10, 11, 12, 13, 17, 18, 19], axis=1, inplace=False)"
   ]
  },
  {
   "cell_type": "code",
   "execution_count": null,
   "id": "fe308ffd",
   "metadata": {},
   "outputs": [],
   "source": [
    "#Cambiar título de las columnas \n",
    "new_header = df2010.iloc[0] #grab the first row for the header\n",
    "df2010 = df2010[1:] #take the data less the header row\n",
    "df2010.columns = new_header #set the header row as the df header"
   ]
  },
  {
   "cell_type": "code",
   "execution_count": null,
   "id": "978c114d",
   "metadata": {},
   "outputs": [],
   "source": [
    "#Título de las columnas\n",
    "list_of_column_names = list(df2010.columns)\n",
    "print('List of column names : ', \n",
    "      list_of_column_names)"
   ]
  },
  {
   "cell_type": "code",
   "execution_count": null,
   "id": "fa7af9a6",
   "metadata": {},
   "outputs": [],
   "source": [
    "df2010.head()"
   ]
  },
  {
   "cell_type": "code",
   "execution_count": null,
   "id": "e023bbc2",
   "metadata": {},
   "outputs": [],
   "source": [
    "df2010.shape"
   ]
  },
  {
   "cell_type": "code",
   "execution_count": null,
   "id": "eb7559b8",
   "metadata": {},
   "outputs": [],
   "source": [
    "df2010.tail()"
   ]
  },
  {
   "cell_type": "code",
   "execution_count": null,
   "id": "1198c715",
   "metadata": {},
   "outputs": [],
   "source": [
    "df2010.to_csv(r'/Users/yairmartinez/Documents/GitHub/Data_Analysis/INEGI/Extract/DB/df2010.csv', index=False)"
   ]
  },
  {
   "cell_type": "code",
   "execution_count": null,
   "id": "4cd33e66",
   "metadata": {},
   "outputs": [],
   "source": [
    "###2020###"
   ]
  },
  {
   "cell_type": "code",
   "execution_count": null,
   "id": "f75e6d16",
   "metadata": {},
   "outputs": [],
   "source": [
    "#DESECHAR COLUMNAS \n",
    "df2020=df.drop([2, 3, 4, 5, 6, 7, 8, 9, 10, 11, 12, 13, 14, 15, 16], axis=1, inplace=False)"
   ]
  },
  {
   "cell_type": "code",
   "execution_count": null,
   "id": "af475498",
   "metadata": {},
   "outputs": [],
   "source": [
    "#Cambiar título de las columnas \n",
    "new_header = df2020.iloc[0] #grab the first row for the header\n",
    "df2020 = df2020[1:] #take the data less the header row\n",
    "df2020.columns = new_header #set the header row as the df header"
   ]
  },
  {
   "cell_type": "code",
   "execution_count": null,
   "id": "329de4bb",
   "metadata": {},
   "outputs": [],
   "source": [
    "#Título de las columnas\n",
    "list_of_column_names = list(df2020.columns)\n",
    "print('List of column names : ', \n",
    "      list_of_column_names)"
   ]
  },
  {
   "cell_type": "code",
   "execution_count": null,
   "id": "c83e6173",
   "metadata": {},
   "outputs": [],
   "source": [
    "df2020.head()"
   ]
  },
  {
   "cell_type": "code",
   "execution_count": null,
   "id": "ee9df9e5",
   "metadata": {},
   "outputs": [],
   "source": [
    "df2020.shape"
   ]
  },
  {
   "cell_type": "code",
   "execution_count": null,
   "id": "6ebd82f6",
   "metadata": {},
   "outputs": [],
   "source": [
    "df2020.tail()"
   ]
  },
  {
   "cell_type": "code",
   "execution_count": null,
   "id": "e4bc7d86",
   "metadata": {},
   "outputs": [],
   "source": [
    "df2020.to_csv(r'/Users/yairmartinez/Documents/GitHub/Data_Analysis/INEGI/Extract/DB/df2020.csv', index=False)"
   ]
  }
 ],
 "metadata": {
  "interpreter": {
   "hash": "40d3a090f54c6569ab1632332b64b2c03c39dcf918b08424e98f38b5ae0af88f"
  },
  "kernelspec": {
   "display_name": "Python 3.9.7 ('base')",
   "language": "python",
   "name": "python3"
  },
  "language_info": {
   "codemirror_mode": {
    "name": "ipython",
    "version": 3
   },
   "file_extension": ".py",
   "mimetype": "text/x-python",
   "name": "python",
   "nbconvert_exporter": "python",
   "pygments_lexer": "ipython3",
   "version": "3.9.7"
  }
 },
 "nbformat": 4,
 "nbformat_minor": 5
}
