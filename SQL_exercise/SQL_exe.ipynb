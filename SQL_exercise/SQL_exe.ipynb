{
 "cells": [
  {
   "cell_type": "code",
   "execution_count": 1,
   "metadata": {},
   "outputs": [],
   "source": [
    "### Importaciones ###\n",
    "\n",
    "import sqlite3 as sql"
   ]
  },
  {
   "cell_type": "code",
   "execution_count": 2,
   "metadata": {},
   "outputs": [],
   "source": [
    "# Conectar de SQLite\n",
    "con = sql.connect('db.db') #Conector\n",
    "cur = con.cursor() #Cursor"
   ]
  },
  {
   "cell_type": "code",
   "execution_count": 3,
   "metadata": {},
   "outputs": [
    {
     "name": "stdout",
     "output_type": "stream",
     "text": [
      "(5117032,)\n",
      "(5118442,)\n",
      "(5088222,)\n"
     ]
    }
   ],
   "source": [
    "# 1.- Cuales son los tres clientes solteros, con coche y con 30-59 días de atraso que tienen los mayores ingresos ??? R = 5117032, 5118442, 5088222\n",
    "\n",
    "sql_1 = \" SELECT df2.ID FROM df1 JOIN df2 ON df1.ID = df2.ID WHERE MONTHS_BALANCE == 0 AND df1.NAME_FAMILY_STATUS =='Single / not married' AND df1.FLAG_OWN_CAR == 'Y' AND df2.STATUS == 1 GROUP BY df1.ID ORDER BY df1.AMT_INCOME_TOTAL LIMIT 3 \"\n",
    "\n",
    "cur.execute(sql_1).fetchall\n",
    "result = cur.fetchall()\n",
    "for row in result:\n",
    "    print(row)"
   ]
  },
  {
   "cell_type": "code",
   "execution_count": 4,
   "metadata": {},
   "outputs": [],
   "source": [
    "# 2.- Cuántos clientes tienen entre 701 y 1822 días en su actual empleo ??? R= 104780\n",
    "#Hint: DAYS_EMPLOYED 0 = dia actual, -1 = dos dias al actual, -2 = tres dias al actual :. -700 = setecientos un dia al actual, -1821 = mil ochocientos veintidós días al actual\n",
    "\n",
    "sql_2 = \" SELECT COUNT(DAYS_EMPLOYED) FROM df1 WHERE DAYS_EMPLOYED BETWEEN -1821 AND -700  \""
   ]
  },
  {
   "cell_type": "code",
   "execution_count": 5,
   "metadata": {},
   "outputs": [
    {
     "name": "stdout",
     "output_type": "stream",
     "text": [
      "(104780,)\n"
     ]
    }
   ],
   "source": [
    "cur.execute(sql_2).fetchall\n",
    "result = cur.fetchall()\n",
    "for row in result:\n",
    "    print(row)"
   ]
  },
  {
   "cell_type": "code",
   "execution_count": 6,
   "metadata": {},
   "outputs": [],
   "source": [
    "# 3.- Clientes que en su número telefónico esté el patrón “55”\n",
    "# La respuesta es que no hay porque las instancias varian entre 0 y 1\n",
    "\n",
    "### Se prodece a buscar ese patron con los ID = 30269 clientes ###\n",
    "\n",
    "sql_3 = \" SELECT COUNT(ID) FROM df1 WHERE FLAG_MOBIL LIKE '%5%' \"\n",
    "sql_3_2 = \" SELECT COUNT(ID) FROM df1 WHERE FLAG_MOBIL LIKE '%1%' \" #Corroborar clientes con 1 en su ID\n",
    "\n",
    "sql_3_3 = \" SELECT COUNT(ID) FROM df1 WHERE ID LIKE '%55%' \""
   ]
  },
  {
   "cell_type": "code",
   "execution_count": 7,
   "metadata": {},
   "outputs": [
    {
     "name": "stdout",
     "output_type": "stream",
     "text": [
      "(0,)\n"
     ]
    }
   ],
   "source": [
    "cur.execute(sql_3).fetchall\n",
    "result = cur.fetchall()\n",
    "for row in result:\n",
    "    print(row)"
   ]
  },
  {
   "cell_type": "code",
   "execution_count": 8,
   "metadata": {},
   "outputs": [
    {
     "name": "stdout",
     "output_type": "stream",
     "text": [
      "(438557,)\n"
     ]
    }
   ],
   "source": [
    "cur.execute(sql_3_2).fetchall\n",
    "result = cur.fetchall()\n",
    "for row in result:\n",
    "    print(row)"
   ]
  },
  {
   "cell_type": "code",
   "execution_count": 9,
   "metadata": {},
   "outputs": [
    {
     "name": "stdout",
     "output_type": "stream",
     "text": [
      "(30269,)\n"
     ]
    }
   ],
   "source": [
    "cur.execute(sql_3_3).fetchall\n",
    "result = cur.fetchall()\n",
    "for row in result:\n",
    "    print(row)"
   ]
  },
  {
   "cell_type": "code",
   "execution_count": 10,
   "metadata": {},
   "outputs": [],
   "source": [
    "# Clientes que pertenezcan a la tabla “application_record.csv” pero no a “credit_record.csv” R= 402100\n",
    "\n",
    "sql_4 = \" SELECT COUNT(df1.ID) FROM df1 LEFT JOIN df2 ON  df1.ID = df2.ID WHERE df2.ID is NULL \"\n",
    "sql_4_2 = \" SELECT COUNT(df1.ID) FROM df1 \" # Verificador que cuenta a todos de “application_record.csv”"
   ]
  },
  {
   "cell_type": "code",
   "execution_count": 11,
   "metadata": {},
   "outputs": [
    {
     "name": "stdout",
     "output_type": "stream",
     "text": [
      "(402100,)\n"
     ]
    }
   ],
   "source": [
    "cur.execute(sql_4).fetchall\n",
    "result = cur.fetchall()\n",
    "for row in result:\n",
    "    print(row)"
   ]
  },
  {
   "cell_type": "code",
   "execution_count": 12,
   "metadata": {},
   "outputs": [
    {
     "name": "stdout",
     "output_type": "stream",
     "text": [
      "(438557,)\n"
     ]
    }
   ],
   "source": [
    "cur.execute(sql_4_2).fetchall\n",
    "result = cur.fetchall()\n",
    "for row in result:\n",
    "    print(row)"
   ]
  },
  {
   "cell_type": "code",
   "execution_count": 13,
   "metadata": {},
   "outputs": [],
   "source": [
    "# Cerrar SQLite\n",
    "#con.commit() # Ejecutar acciones en DB\n",
    "#con.close() # Cerrar DB"
   ]
  }
 ],
 "metadata": {
  "interpreter": {
   "hash": "40d3a090f54c6569ab1632332b64b2c03c39dcf918b08424e98f38b5ae0af88f"
  },
  "kernelspec": {
   "display_name": "Python 3.9.7 ('base')",
   "language": "python",
   "name": "python3"
  },
  "language_info": {
   "codemirror_mode": {
    "name": "ipython",
    "version": 3
   },
   "file_extension": ".py",
   "mimetype": "text/x-python",
   "name": "python",
   "nbconvert_exporter": "python",
   "pygments_lexer": "ipython3",
   "version": "3.9.7"
  },
  "orig_nbformat": 4
 },
 "nbformat": 4,
 "nbformat_minor": 2
}
