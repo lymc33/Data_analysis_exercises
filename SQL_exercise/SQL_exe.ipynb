{
 "cells": [
  {
   "cell_type": "code",
   "execution_count": 1,
   "metadata": {},
   "outputs": [],
   "source": [
    "### Importaciones ###\n",
    "\n",
    "import sqlite3 as sql"
   ]
  },
  {
   "cell_type": "code",
   "execution_count": 2,
   "metadata": {},
   "outputs": [],
   "source": [
    "# Conectar de SQLite\n",
    "con = sql.connect('db.db') #Conector\n",
    "cur = con.cursor() #Cursor"
   ]
  },
  {
   "cell_type": "code",
   "execution_count": 3,
   "metadata": {},
   "outputs": [
    {
     "name": "stdout",
     "output_type": "stream",
     "text": [
      "(5117032,)\n",
      "(5118442,)\n",
      "(5088222,)\n"
     ]
    }
   ],
   "source": [
    "# Cuales son los tres clientes solteros, con coche y con 30-59 días de atraso que tienen los mayores ingresos ???\n",
    "\n",
    "sql_1 = \" SELECT df2.ID FROM df1 INNER JOIN df2 ON df1.ID = df2.ID WHERE MONTHS_BALANCE == 0 AND df1.NAME_FAMILY_STATUS =='Single / not married' AND df1.FLAG_OWN_CAR == 'Y' AND df2.STATUS == 1 GROUP BY df1.ID ORDER BY df1.AMT_INCOME_TOTAL LIMIT 3 \"\n",
    "\n",
    "cur.execute(sql_1).fetchall\n",
    "result = cur.fetchall()\n",
    "for row in result:\n",
    "    print(row)"
   ]
  },
  {
   "cell_type": "code",
   "execution_count": 4,
   "metadata": {},
   "outputs": [],
   "source": [
    "# Cuántos clientes tienen entre 701 y 1822 días en su actual empleo\n",
    "\n",
    "sql_2 = \" SELECT COUNT(DAYS_EMPLOYED) FROM df1 WHERE  \""
   ]
  },
  {
   "cell_type": "code",
   "execution_count": 5,
   "metadata": {},
   "outputs": [
    {
     "name": "stdout",
     "output_type": "stream",
     "text": [
      "(438557,)\n"
     ]
    }
   ],
   "source": [
    "cur.execute(sql_2).fetchall\n",
    "result = cur.fetchall()\n",
    "for row in result:\n",
    "    print(row)"
   ]
  },
  {
   "cell_type": "code",
   "execution_count": null,
   "metadata": {},
   "outputs": [],
   "source": [
    "# Clientes que en su número telefónico esté el patrón “55”\n",
    "\n",
    "sql_3 = \" x \"\n",
    "\n",
    "#  SELECT df2.ID FROM df1 INNER JOIN df2 ON df1.ID = df2.ID WHERE MONTHS_BALANCE == 0 AND df1.NAME_FAMILY_STATUS =='Single / not married' AND df1.FLAG_OWN_CAR == 'Y' AND df2.STATUS == 1 GROUP BY df1.ID ORDER BY df1.AMT_INCOME_TOTAL LIMIT 3 \""
   ]
  },
  {
   "cell_type": "code",
   "execution_count": null,
   "metadata": {},
   "outputs": [],
   "source": [
    "cur.execute(sql_3).fetchall\n",
    "result = cur.fetchall()\n",
    "for row in result:\n",
    "    print(row)"
   ]
  },
  {
   "cell_type": "code",
   "execution_count": null,
   "metadata": {},
   "outputs": [],
   "source": [
    "# Clientes que pertenezcan a la tabla “application_record.csv” pero no a “credit_record.csv”\n",
    "\n",
    "sql_4 = \" x \"\n",
    "\n",
    "#  SELECT df2.ID FROM df1 INNER JOIN df2 ON df1.ID = df2.ID WHERE MONTHS_BALANCE == 0 AND df1.NAME_FAMILY_STATUS =='Single / not married' AND df1.FLAG_OWN_CAR == 'Y' AND df2.STATUS == 1 GROUP BY df1.ID ORDER BY df1.AMT_INCOME_TOTAL LIMIT 3 \""
   ]
  },
  {
   "cell_type": "code",
   "execution_count": null,
   "metadata": {},
   "outputs": [],
   "source": [
    "cur.execute(sql_4).fetchall\n",
    "result = cur.fetchall()\n",
    "for row in result:\n",
    "    print(row)"
   ]
  },
  {
   "cell_type": "code",
   "execution_count": null,
   "metadata": {},
   "outputs": [],
   "source": [
    "# Cerrar SQLite\n",
    "#con.commit() # Ejecutar acciones en DB\n",
    "#con.close() # Cerrar DB"
   ]
  }
 ],
 "metadata": {
  "interpreter": {
   "hash": "40d3a090f54c6569ab1632332b64b2c03c39dcf918b08424e98f38b5ae0af88f"
  },
  "kernelspec": {
   "display_name": "Python 3.9.7 ('base')",
   "language": "python",
   "name": "python3"
  },
  "language_info": {
   "codemirror_mode": {
    "name": "ipython",
    "version": 3
   },
   "file_extension": ".py",
   "mimetype": "text/x-python",
   "name": "python",
   "nbconvert_exporter": "python",
   "pygments_lexer": "ipython3",
   "version": "3.9.7"
  },
  "orig_nbformat": 4
 },
 "nbformat": 4,
 "nbformat_minor": 2
}
