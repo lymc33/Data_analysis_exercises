{
 "cells": [
  {
   "cell_type": "markdown",
   "metadata": {},
   "source": [
    "### Importaciones y lecturas"
   ]
  },
  {
   "cell_type": "code",
   "execution_count": 1,
   "metadata": {},
   "outputs": [
    {
     "ename": "ModuleNotFoundError",
     "evalue": "No module named 'dataframe_image'",
     "output_type": "error",
     "traceback": [
      "\u001b[0;31m---------------------------------------------------------------------------\u001b[0m",
      "\u001b[0;31mModuleNotFoundError\u001b[0m                       Traceback (most recent call last)",
      "\u001b[0;32m/var/folders/v1/3g8467xs4vvf3w4gs3sqq6qr0000gn/T/ipykernel_11761/2069436366.py\u001b[0m in \u001b[0;36m<module>\u001b[0;34m\u001b[0m\n\u001b[1;32m      3\u001b[0m \u001b[0;32mfrom\u001b[0m \u001b[0mdateutil\u001b[0m\u001b[0;34m.\u001b[0m\u001b[0mrelativedelta\u001b[0m \u001b[0;32mimport\u001b[0m \u001b[0mrelativedelta\u001b[0m\u001b[0;34m\u001b[0m\u001b[0;34m\u001b[0m\u001b[0m\n\u001b[1;32m      4\u001b[0m \u001b[0;32mimport\u001b[0m \u001b[0mshutil\u001b[0m\u001b[0;34m\u001b[0m\u001b[0;34m\u001b[0m\u001b[0m\n\u001b[0;32m----> 5\u001b[0;31m \u001b[0;32mimport\u001b[0m \u001b[0mdataframe_image\u001b[0m \u001b[0;32mas\u001b[0m \u001b[0mdfi\u001b[0m\u001b[0;34m\u001b[0m\u001b[0;34m\u001b[0m\u001b[0m\n\u001b[0m",
      "\u001b[0;31mModuleNotFoundError\u001b[0m: No module named 'dataframe_image'"
     ]
    }
   ],
   "source": [
    "import pandas as pd\n",
    "from datetime import date\n",
    "from dateutil.relativedelta import relativedelta\n",
    "import shutil\n",
    "import dataframe_image as dfi"
   ]
  },
  {
   "cell_type": "code",
   "execution_count": null,
   "metadata": {},
   "outputs": [],
   "source": [
    "df1 = pd.read_csv('/Users/yairmartinez/Documents/GitHub/Data_analysis_exercises/DB/Datos/application_record.csv')\n",
    "df2 = pd.read_csv('/Users/yairmartinez/Documents/GitHub/Data_analysis_exercises/DB/Datos/credit_record.csv')"
   ]
  },
  {
   "cell_type": "markdown",
   "metadata": {},
   "source": [
    "### Visualizaciones"
   ]
  },
  {
   "cell_type": "code",
   "execution_count": null,
   "metadata": {},
   "outputs": [],
   "source": [
    "df1.head()"
   ]
  },
  {
   "cell_type": "code",
   "execution_count": null,
   "metadata": {},
   "outputs": [],
   "source": [
    "# Se crea la imagen de la tabla anterior\n",
    "# Se mueve al dir :  /Data_visualization/Load/Gráficas/\n",
    "\n",
    "df_styled = df1.head().style.background_gradient()\n",
    "df1.export(df_styled, '12_dep_tab_percentage.png')\n",
    "\n",
    "pos1= '/Users/yairmartinez/Documents/GitHub/Data_visualization/12_dep_tab_percentage.png'\n",
    "pos2= '/Users/yairmartinez/Documents/GitHub/Data_visualization/Load/Gráficas/12_dep_tab_percentage.png'\n",
    "shutil.move(pos1,pos2)"
   ]
  },
  {
   "cell_type": "code",
   "execution_count": null,
   "metadata": {},
   "outputs": [],
   "source": [
    "df2.head()"
   ]
  },
  {
   "cell_type": "code",
   "execution_count": null,
   "metadata": {},
   "outputs": [],
   "source": [
    "df1.shape, df2.shape"
   ]
  },
  {
   "cell_type": "code",
   "execution_count": null,
   "metadata": {},
   "outputs": [],
   "source": [
    "df1.isna().sum()"
   ]
  },
  {
   "cell_type": "code",
   "execution_count": null,
   "metadata": {},
   "outputs": [],
   "source": [
    "df2.isna().sum()"
   ]
  },
  {
   "cell_type": "code",
   "execution_count": null,
   "metadata": {},
   "outputs": [],
   "source": [
    "### Transform data and renaming \n",
    "\n",
    "## df1 a df3\n",
    "\n",
    "# Definición df1 limpio\n",
    "df1 = df1.assign(DAYS_BIRTH= lambda x: round(   ( (df1['DAYS_BIRTH'] *-1))/365   , 2  )   ,\n",
    "DAYS_EMPLOYED=lambda x: round(  ( (df1['DAYS_EMPLOYED'] *-1)) / 365      , 2  )          )\n",
    "\n",
    "# Renombrar columnas df3\n",
    "df1.rename(columns = {'DAYS_BIRTH':'YEARS_BIRTH'}, inplace = True)\n",
    "df1.rename(columns = {'DAYS_EMPLOYED':'YEARS_EMPLOYED'}, inplace = True)\n",
    "\n",
    "\n",
    "# Renombrar columna del df2\n",
    "\n",
    "# hoy=date.today()\n",
    "# lista_mes_balance = []\n",
    "\n",
    "# for x in df2['MONTHS_BALANCE']:\n",
    "#     mes_balance = hoy + relativedelta(months=x)\n",
    "#     lista_mes_balance.append(mes_balance)\n",
    "\n",
    "# df2['MONTHS_BALANCE'] = lista_mes_balance\n"
   ]
  },
  {
   "cell_type": "code",
   "execution_count": null,
   "metadata": {},
   "outputs": [],
   "source": [
    "dfAll = pd.merge(df1, df2, how='inner', on=['ID'])\n",
    "print(dfAll.shape)"
   ]
  },
  {
   "cell_type": "code",
   "execution_count": null,
   "metadata": {},
   "outputs": [],
   "source": [
    "dfAll.isna().sum()"
   ]
  },
  {
   "cell_type": "code",
   "execution_count": null,
   "metadata": {},
   "outputs": [],
   "source": [
    "### Limpueza de datos nulos\n",
    "\n",
    "# Indagar en OCCUPATION_TYPE = NULL\n",
    "\n",
    "# Ver 'YEARS_EMPLOYED' negativos \n",
    "\n",
    "dfAll[dfAll['OCCUPATION_TYPE'].isnull()].describe()"
   ]
  },
  {
   "cell_type": "code",
   "execution_count": null,
   "metadata": {},
   "outputs": [],
   "source": [
    "### Limpueza de datos nulos\n",
    "\n",
    "\n",
    "# raros = OCCUPATION_TYPE = NULL with YEARS_EMPLOYED < 0\n",
    "\n",
    "\n",
    "raros= dfAll[ ( dfAll['OCCUPATION_TYPE'].isnull() ) &  (  dfAll['YEARS_EMPLOYED'] < 0  )   ]\n",
    "raros.groupby(['NAME_INCOME_TYPE']).describe( )\n"
   ]
  },
  {
   "cell_type": "code",
   "execution_count": null,
   "metadata": {},
   "outputs": [],
   "source": [
    "raros.shape"
   ]
  },
  {
   "cell_type": "code",
   "execution_count": null,
   "metadata": {},
   "outputs": [],
   "source": [
    "### Limpueza de datos nulos\n",
    "\n",
    "# Existen muy jovenes para ser Pensioner\n",
    "\n",
    "raros.YEARS_BIRTH.describe()"
   ]
  },
  {
   "cell_type": "code",
   "execution_count": null,
   "metadata": {},
   "outputs": [],
   "source": [
    "# Existen MUCHOS muy jovenes para ser Pensioner\n",
    "raros_jovenes= raros[ ( raros['YEARS_BIRTH'] < 57.15 ) ]\n",
    "raros_jovenes.shape"
   ]
  },
  {
   "cell_type": "code",
   "execution_count": null,
   "metadata": {},
   "outputs": [],
   "source": [
    "### Limpueza de datos nulos\n",
    "\n",
    "# OCCUPATION_TYPE = NULL \n",
    "\n",
    "# Se analizan pensionados positivos\n",
    "\n",
    "pensionados_p = dfAll[ ( dfAll['NAME_INCOME_TYPE'] == 'Pensioner' ) &  (   dfAll['YEARS_EMPLOYED'] > 0  ) & ( dfAll['OCCUPATION_TYPE'].isnull() ) ] \n",
    "pensionados_p.groupby(['NAME_INCOME_TYPE']).describe( )"
   ]
  },
  {
   "cell_type": "code",
   "execution_count": null,
   "metadata": {},
   "outputs": [],
   "source": [
    "pensionados_p.shape"
   ]
  },
  {
   "cell_type": "code",
   "execution_count": null,
   "metadata": {},
   "outputs": [],
   "source": [
    "# Existen muy jovenes para ser Pensionerpor lo que no es justificante la edad\n",
    "\n",
    "pensionados_p.YEARS_BIRTH.describe()"
   ]
  },
  {
   "cell_type": "code",
   "execution_count": null,
   "metadata": {},
   "outputs": [],
   "source": [
    "### Limpueza de datos nulos\n",
    "\n",
    "# OCCUPATION_TYPE = NULL no pensionados\n",
    "\n",
    "\n",
    "Nulos_no_pensionados= dfAll[ ( dfAll['OCCUPATION_TYPE'].isnull() ) &  (  dfAll['NAME_INCOME_TYPE'] != 'Pensioner'  )   ]\n",
    "Nulos_no_pensionados.groupby(['NAME_INCOME_TYPE']).describe( )"
   ]
  },
  {
   "cell_type": "code",
   "execution_count": null,
   "metadata": {},
   "outputs": [],
   "source": [
    "Nulos_no_pensionados.shape"
   ]
  },
  {
   "cell_type": "code",
   "execution_count": null,
   "metadata": {},
   "outputs": [],
   "source": [
    "#### TOTAL DE DATOS = 777715\n",
    "#### Del total de loa datos vacíos en dfAll : 240048,  \n",
    "\n",
    "# 127972 son marcados como ['NAME_INCOME_TYPE']= con  YEARS_EMPLOYED < 0  (negativo)\n",
    "# 88 son marcados como ['NAME_INCOME_TYPE']= 'Pensioner' de ['NAME_INCOME_TYPE']= 'Pensioner'  con  YEARS_EMPLOYED positivo\n",
    "\n",
    "# 31973 Commercial associate  ### 111,988 entre todos\n",
    "# 12704 State servant\n",
    "# 15 Student\n",
    "# 67296 Working\n",
    "\n",
    "#### No se podrán eliminar los datos ni modificar arbitrariamente\n"
   ]
  },
  {
   "cell_type": "code",
   "execution_count": null,
   "metadata": {},
   "outputs": [],
   "source": [
    "###       NO BORRAR\n",
    "\n",
    "dfAll.to_csv('/Users/yairmartinez/Documents/GitHub/data_analysis_exercises/DB/Tablas/dfAll.csv')"
   ]
  }
 ],
 "metadata": {
  "interpreter": {
   "hash": "40d3a090f54c6569ab1632332b64b2c03c39dcf918b08424e98f38b5ae0af88f"
  },
  "kernelspec": {
   "display_name": "Python 3.9.7 ('base')",
   "language": "python",
   "name": "python3"
  },
  "language_info": {
   "codemirror_mode": {
    "name": "ipython",
    "version": 3
   },
   "file_extension": ".py",
   "mimetype": "text/x-python",
   "name": "python",
   "nbconvert_exporter": "python",
   "pygments_lexer": "ipython3",
   "version": "3.9.7"
  },
  "orig_nbformat": 4
 },
 "nbformat": 4,
 "nbformat_minor": 2
}
