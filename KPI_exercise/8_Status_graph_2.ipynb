{
 "cells": [
  {
   "cell_type": "markdown",
   "metadata": {},
   "source": [
    "### Importaciones y lecturas"
   ]
  },
  {
   "cell_type": "code",
   "execution_count": null,
   "metadata": {},
   "outputs": [],
   "source": [
    "import pandas as pd\n",
    "import numpy as np\n",
    "import matplotlib.pyplot as plt\n",
    "import shutil"
   ]
  },
  {
   "cell_type": "code",
   "execution_count": null,
   "metadata": {},
   "outputs": [],
   "source": [
    "dfAll = pd.read_csv('/Users/yairmartinez/Documents/GitHub/data_analysis_exercises/DB/Tablas/dfAll.csv')\n",
    "\n",
    "df_clientes_malos = pd.read_csv('/Users/yairmartinez/Documents/GitHub/data_analysis_exercises/DB/Tablas/df_STATUSm/dfm_clientes_malos.csv')\n",
    "df_clientes_regulares = pd.read_csv('/Users/yairmartinez/Documents/GitHub/data_analysis_exercises/DB/Tablas/df_STATUSm/dfm_clientes_regulares.csv')\n",
    "df_clientes_vip = pd.read_csv('/Users/yairmartinez/Documents/GitHub/data_analysis_exercises/DB/Tablas/df_STATUSm/dfm_clientes_vip.csv')"
   ]
  },
  {
   "cell_type": "markdown",
   "metadata": {},
   "source": [
    "### Importaciones y lecturas"
   ]
  },
  {
   "cell_type": "code",
   "execution_count": null,
   "metadata": {},
   "outputs": [],
   "source": [
    "df_clientes_malos.head(3)"
   ]
  },
  {
   "cell_type": "code",
   "execution_count": null,
   "metadata": {},
   "outputs": [],
   "source": [
    "df_clientes_malos.shape, df_clientes_regulares.shape , df_clientes_vip.shape"
   ]
  },
  {
   "cell_type": "code",
   "execution_count": null,
   "metadata": {},
   "outputs": [],
   "source": [
    "data = len(df_clientes_malos), len(df_clientes_regulares), len(df_clientes_vip)\n",
    "grafica_STATUS= pd.DataFrame(data, columns= ['Status'], index= ['clientes_malos', 'clientes_regulares', 'clientes_vip' ])\n",
    "grafica_STATUS['Status']\n"
   ]
  },
  {
   "cell_type": "code",
   "execution_count": null,
   "metadata": {},
   "outputs": [],
   "source": [
    "# Se grafica en forma de pie y se guarda en el directorio:\n",
    "#  /Data_visualization/Load/Gráficas/\n",
    "\n",
    "plt.figure(figsize=(12,12))\n",
    "plt.pie(grafica_STATUS['Status'], \n",
    "labels= grafica_STATUS.index,\n",
    "textprops={\"fontsize\":20},\n",
    "explode=[0,0,0],\n",
    "shadow = True ,\n",
    "autopct= '%1.2f%%'\n",
    ")\n",
    "\n",
    "plt.title('Distrubución_de_clientes',fontsize=24)\n",
    "\n",
    "plt.legend(title= 'Status', fontsize=20, loc='upper center', bbox_to_anchor=(0.5, 0.05), ncol=1)\n",
    "\n",
    "plt.savefig(\"Distrubución_de_clientes_m.png\")\n",
    "pos1= '/Users/yairmartinez/Documents/GitHub/data_analysis_exercises/KPI_exercise/Distrubución_de_clientes_m.png'\n",
    "pos2= '/Users/yairmartinez/Documents/GitHub/data_analysis_exercises/DB/Graficas/Pie/Distrubución_de_clientes_m.png'\n",
    "shutil.move(pos1,pos2)\n",
    "\n",
    "plt.show"
   ]
  }
 ],
 "metadata": {
  "kernelspec": {
   "display_name": "Python 3.10.5 64-bit",
   "language": "python",
   "name": "python3"
  },
  "language_info": {
   "codemirror_mode": {
    "name": "ipython",
    "version": 3
   },
   "file_extension": ".py",
   "mimetype": "text/x-python",
   "name": "python",
   "nbconvert_exporter": "python",
   "pygments_lexer": "ipython3",
   "version": "3.10.5"
  },
  "orig_nbformat": 4,
  "vscode": {
   "interpreter": {
    "hash": "aee8b7b246df8f9039afb4144a1f6fd8d2ca17a180786b69acc140d282b71a49"
   }
  }
 },
 "nbformat": 4,
 "nbformat_minor": 2
}
