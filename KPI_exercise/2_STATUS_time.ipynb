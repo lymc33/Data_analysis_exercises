{
 "cells": [
  {
   "cell_type": "markdown",
   "metadata": {},
   "source": [
    "### Importaciones y lecturas"
   ]
  },
  {
   "cell_type": "code",
   "execution_count": 15,
   "metadata": {},
   "outputs": [],
   "source": [
    "import pandas as pd\n",
    "import numpy as np\n",
    "import collections\n",
    "from collections import Counter\n",
    "import matplotlib.pyplot as plt\n",
    "import shutil\n",
    "import dataframe_image as dfi"
   ]
  },
  {
   "cell_type": "code",
   "execution_count": 2,
   "metadata": {},
   "outputs": [],
   "source": [
    "dfAll = pd.read_csv('/Users/yairmartinez/Documents/GitHub/data_analysis_exercises/DB/Tablas/dfAll.csv')"
   ]
  },
  {
   "cell_type": "code",
   "execution_count": 3,
   "metadata": {},
   "outputs": [
    {
     "data": {
      "text/plain": [
       "(777715, 21)"
      ]
     },
     "execution_count": 3,
     "metadata": {},
     "output_type": "execute_result"
    }
   ],
   "source": [
    "dfAll.shape"
   ]
  },
  {
   "cell_type": "code",
   "execution_count": 4,
   "metadata": {},
   "outputs": [
    {
     "data": {
      "text/html": [
       "<div>\n",
       "<style scoped>\n",
       "    .dataframe tbody tr th:only-of-type {\n",
       "        vertical-align: middle;\n",
       "    }\n",
       "\n",
       "    .dataframe tbody tr th {\n",
       "        vertical-align: top;\n",
       "    }\n",
       "\n",
       "    .dataframe thead th {\n",
       "        text-align: right;\n",
       "    }\n",
       "</style>\n",
       "<table border=\"1\" class=\"dataframe\">\n",
       "  <thead>\n",
       "    <tr style=\"text-align: right;\">\n",
       "      <th></th>\n",
       "      <th>Unnamed: 0</th>\n",
       "      <th>ID</th>\n",
       "      <th>CODE_GENDER</th>\n",
       "      <th>FLAG_OWN_CAR</th>\n",
       "      <th>FLAG_OWN_REALTY</th>\n",
       "      <th>CNT_CHILDREN</th>\n",
       "      <th>AMT_INCOME_TOTAL</th>\n",
       "      <th>NAME_INCOME_TYPE</th>\n",
       "      <th>NAME_EDUCATION_TYPE</th>\n",
       "      <th>NAME_FAMILY_STATUS</th>\n",
       "      <th>...</th>\n",
       "      <th>YEARS_BIRTH</th>\n",
       "      <th>YEARS_EMPLOYED</th>\n",
       "      <th>FLAG_MOBIL</th>\n",
       "      <th>FLAG_WORK_PHONE</th>\n",
       "      <th>FLAG_PHONE</th>\n",
       "      <th>FLAG_EMAIL</th>\n",
       "      <th>OCCUPATION_TYPE</th>\n",
       "      <th>CNT_FAM_MEMBERS</th>\n",
       "      <th>MONTHS_BALANCE</th>\n",
       "      <th>STATUS</th>\n",
       "    </tr>\n",
       "  </thead>\n",
       "  <tbody>\n",
       "    <tr>\n",
       "      <th>0</th>\n",
       "      <td>0</td>\n",
       "      <td>5008804</td>\n",
       "      <td>M</td>\n",
       "      <td>Y</td>\n",
       "      <td>Y</td>\n",
       "      <td>0</td>\n",
       "      <td>427500.0</td>\n",
       "      <td>Working</td>\n",
       "      <td>Higher education</td>\n",
       "      <td>Civil marriage</td>\n",
       "      <td>...</td>\n",
       "      <td>32.89</td>\n",
       "      <td>12.44</td>\n",
       "      <td>1</td>\n",
       "      <td>1</td>\n",
       "      <td>0</td>\n",
       "      <td>0</td>\n",
       "      <td>NaN</td>\n",
       "      <td>2.0</td>\n",
       "      <td>0</td>\n",
       "      <td>C</td>\n",
       "    </tr>\n",
       "    <tr>\n",
       "      <th>1</th>\n",
       "      <td>1</td>\n",
       "      <td>5008804</td>\n",
       "      <td>M</td>\n",
       "      <td>Y</td>\n",
       "      <td>Y</td>\n",
       "      <td>0</td>\n",
       "      <td>427500.0</td>\n",
       "      <td>Working</td>\n",
       "      <td>Higher education</td>\n",
       "      <td>Civil marriage</td>\n",
       "      <td>...</td>\n",
       "      <td>32.89</td>\n",
       "      <td>12.44</td>\n",
       "      <td>1</td>\n",
       "      <td>1</td>\n",
       "      <td>0</td>\n",
       "      <td>0</td>\n",
       "      <td>NaN</td>\n",
       "      <td>2.0</td>\n",
       "      <td>-1</td>\n",
       "      <td>C</td>\n",
       "    </tr>\n",
       "    <tr>\n",
       "      <th>2</th>\n",
       "      <td>2</td>\n",
       "      <td>5008804</td>\n",
       "      <td>M</td>\n",
       "      <td>Y</td>\n",
       "      <td>Y</td>\n",
       "      <td>0</td>\n",
       "      <td>427500.0</td>\n",
       "      <td>Working</td>\n",
       "      <td>Higher education</td>\n",
       "      <td>Civil marriage</td>\n",
       "      <td>...</td>\n",
       "      <td>32.89</td>\n",
       "      <td>12.44</td>\n",
       "      <td>1</td>\n",
       "      <td>1</td>\n",
       "      <td>0</td>\n",
       "      <td>0</td>\n",
       "      <td>NaN</td>\n",
       "      <td>2.0</td>\n",
       "      <td>-2</td>\n",
       "      <td>C</td>\n",
       "    </tr>\n",
       "    <tr>\n",
       "      <th>3</th>\n",
       "      <td>3</td>\n",
       "      <td>5008804</td>\n",
       "      <td>M</td>\n",
       "      <td>Y</td>\n",
       "      <td>Y</td>\n",
       "      <td>0</td>\n",
       "      <td>427500.0</td>\n",
       "      <td>Working</td>\n",
       "      <td>Higher education</td>\n",
       "      <td>Civil marriage</td>\n",
       "      <td>...</td>\n",
       "      <td>32.89</td>\n",
       "      <td>12.44</td>\n",
       "      <td>1</td>\n",
       "      <td>1</td>\n",
       "      <td>0</td>\n",
       "      <td>0</td>\n",
       "      <td>NaN</td>\n",
       "      <td>2.0</td>\n",
       "      <td>-3</td>\n",
       "      <td>C</td>\n",
       "    </tr>\n",
       "    <tr>\n",
       "      <th>4</th>\n",
       "      <td>4</td>\n",
       "      <td>5008804</td>\n",
       "      <td>M</td>\n",
       "      <td>Y</td>\n",
       "      <td>Y</td>\n",
       "      <td>0</td>\n",
       "      <td>427500.0</td>\n",
       "      <td>Working</td>\n",
       "      <td>Higher education</td>\n",
       "      <td>Civil marriage</td>\n",
       "      <td>...</td>\n",
       "      <td>32.89</td>\n",
       "      <td>12.44</td>\n",
       "      <td>1</td>\n",
       "      <td>1</td>\n",
       "      <td>0</td>\n",
       "      <td>0</td>\n",
       "      <td>NaN</td>\n",
       "      <td>2.0</td>\n",
       "      <td>-4</td>\n",
       "      <td>C</td>\n",
       "    </tr>\n",
       "  </tbody>\n",
       "</table>\n",
       "<p>5 rows × 21 columns</p>\n",
       "</div>"
      ],
      "text/plain": [
       "   Unnamed: 0       ID CODE_GENDER FLAG_OWN_CAR FLAG_OWN_REALTY  CNT_CHILDREN  \\\n",
       "0           0  5008804           M            Y               Y             0   \n",
       "1           1  5008804           M            Y               Y             0   \n",
       "2           2  5008804           M            Y               Y             0   \n",
       "3           3  5008804           M            Y               Y             0   \n",
       "4           4  5008804           M            Y               Y             0   \n",
       "\n",
       "   AMT_INCOME_TOTAL NAME_INCOME_TYPE NAME_EDUCATION_TYPE NAME_FAMILY_STATUS  \\\n",
       "0          427500.0          Working    Higher education     Civil marriage   \n",
       "1          427500.0          Working    Higher education     Civil marriage   \n",
       "2          427500.0          Working    Higher education     Civil marriage   \n",
       "3          427500.0          Working    Higher education     Civil marriage   \n",
       "4          427500.0          Working    Higher education     Civil marriage   \n",
       "\n",
       "   ... YEARS_BIRTH  YEARS_EMPLOYED  FLAG_MOBIL  FLAG_WORK_PHONE  FLAG_PHONE  \\\n",
       "0  ...       32.89           12.44           1                1           0   \n",
       "1  ...       32.89           12.44           1                1           0   \n",
       "2  ...       32.89           12.44           1                1           0   \n",
       "3  ...       32.89           12.44           1                1           0   \n",
       "4  ...       32.89           12.44           1                1           0   \n",
       "\n",
       "   FLAG_EMAIL  OCCUPATION_TYPE CNT_FAM_MEMBERS  MONTHS_BALANCE  STATUS  \n",
       "0           0              NaN             2.0               0       C  \n",
       "1           0              NaN             2.0              -1       C  \n",
       "2           0              NaN             2.0              -2       C  \n",
       "3           0              NaN             2.0              -3       C  \n",
       "4           0              NaN             2.0              -4       C  \n",
       "\n",
       "[5 rows x 21 columns]"
      ]
     },
     "execution_count": 4,
     "metadata": {},
     "output_type": "execute_result"
    }
   ],
   "source": [
    "dfAll.head(5)"
   ]
  },
  {
   "cell_type": "markdown",
   "metadata": {},
   "source": [
    "### KPI 1 Cantidad en clientes por STATUS"
   ]
  },
  {
   "cell_type": "markdown",
   "metadata": {},
   "source": [
    "#### Parametros para ciclo"
   ]
  },
  {
   "cell_type": "code",
   "execution_count": 5,
   "metadata": {},
   "outputs": [],
   "source": [
    "### Definicion de variables\n",
    "\n",
    "### variable_df_mes                          ###   == variable_mes\n",
    "mes_actual= dfAll[ ( dfAll['MONTHS_BALANCE'] == 0 )   ]        \n",
    "mes_m1= dfAll[ ( dfAll['MONTHS_BALANCE'] == -1 )   ]"
   ]
  },
  {
   "cell_type": "code",
   "execution_count": 6,
   "metadata": {},
   "outputs": [
    {
     "data": {
      "text/plain": [
       "Counter({'C': 12797,\n",
       "         'X': 4201,\n",
       "         '0': 7606,\n",
       "         '1': 268,\n",
       "         '5': 57,\n",
       "         '4': 11,\n",
       "         '2': 17,\n",
       "         '3': 6})"
      ]
     },
     "execution_count": 6,
     "metadata": {},
     "output_type": "execute_result"
    }
   ],
   "source": [
    "### Keys y contadores (diccionario) para STATUS por cada mes\n",
    "\n",
    "### variable_dic_mes         # Variable_df_mes\n",
    "dic_mes_actual = Counter(mes_actual['STATUS'])\n",
    "dic_mes_m1 = Counter(mes_m1['STATUS'])\n",
    "dic_mes_m1"
   ]
  },
  {
   "cell_type": "code",
   "execution_count": 7,
   "metadata": {},
   "outputs": [
    {
     "data": {
      "text/plain": [
       "OrderedDict([('0', 7606),\n",
       "             ('1', 268),\n",
       "             ('2', 17),\n",
       "             ('3', 6),\n",
       "             ('4', 11),\n",
       "             ('5', 57),\n",
       "             ('C', 12797),\n",
       "             ('X', 4201)])"
      ]
     },
     "execution_count": 7,
     "metadata": {},
     "output_type": "execute_result"
    }
   ],
   "source": [
    "# Diccionario Ordenados por keys\n",
    "\n",
    "### variable_dic_mes                                 ### variable_dic_mes\n",
    "dic_mes_actual = collections.OrderedDict(  sorted(  dic_mes_actual.items()  )  )    \n",
    "dic_mes_m1 = collections.OrderedDict(  sorted(  dic_mes_m1.items()  )  )\n",
    "dic_mes_m1"
   ]
  },
  {
   "cell_type": "code",
   "execution_count": 8,
   "metadata": {},
   "outputs": [
    {
     "data": {
      "text/plain": [
       "(['0', '1', '2', '3', '4', '5', 'C', 'X'],\n",
       " [7606, 268, 17, 6, 11, 57, 12797, 4201])"
      ]
     },
     "execution_count": 8,
     "metadata": {},
     "output_type": "execute_result"
    }
   ],
   "source": [
    "# Diccionario a Listas de valores ordenados por keys\n",
    "\n",
    "# Index\n",
    "lista_index = list(  dic_mes_actual.keys()  )\n",
    "\n",
    "# Variable_lista_mes           ### Variable_dic_mes \n",
    "lista_mes_actual = list(  dic_mes_actual.values()  )    \n",
    "lista_mes_m1 = list(  dic_mes_m1.values()  ) \n",
    "\n",
    "lista_index, lista_mes_m1"
   ]
  },
  {
   "cell_type": "code",
   "execution_count": 9,
   "metadata": {},
   "outputs": [
    {
     "data": {
      "text/plain": [
       "[(6886, 7606),\n",
       " (236, 268),\n",
       " (19, 17),\n",
       " (6, 6),\n",
       " (5, 11),\n",
       " (59, 57),\n",
       " (12974, 12797),\n",
       " (4487, 4201)]"
      ]
     },
     "execution_count": 9,
     "metadata": {},
     "output_type": "execute_result"
    }
   ],
   "source": [
    "# Crear lista de sumatorias de lista por mes \n",
    "# Crear lista final\n",
    "\n",
    "lista_mes_total = list ( zip(lista_mes_actual, lista_mes_m1 ) )\n",
    "lista_mes_total"
   ]
  },
  {
   "cell_type": "code",
   "execution_count": 10,
   "metadata": {},
   "outputs": [
    {
     "data": {
      "text/html": [
       "<div>\n",
       "<style scoped>\n",
       "    .dataframe tbody tr th:only-of-type {\n",
       "        vertical-align: middle;\n",
       "    }\n",
       "\n",
       "    .dataframe tbody tr th {\n",
       "        vertical-align: top;\n",
       "    }\n",
       "\n",
       "    .dataframe thead th {\n",
       "        text-align: right;\n",
       "    }\n",
       "</style>\n",
       "<table border=\"1\" class=\"dataframe\">\n",
       "  <thead>\n",
       "    <tr style=\"text-align: right;\">\n",
       "      <th></th>\n",
       "      <th>mes_actual</th>\n",
       "      <th>mes_m1</th>\n",
       "    </tr>\n",
       "  </thead>\n",
       "  <tbody>\n",
       "    <tr>\n",
       "      <th>0</th>\n",
       "      <td>6886</td>\n",
       "      <td>7606</td>\n",
       "    </tr>\n",
       "    <tr>\n",
       "      <th>1</th>\n",
       "      <td>236</td>\n",
       "      <td>268</td>\n",
       "    </tr>\n",
       "    <tr>\n",
       "      <th>2</th>\n",
       "      <td>19</td>\n",
       "      <td>17</td>\n",
       "    </tr>\n",
       "    <tr>\n",
       "      <th>3</th>\n",
       "      <td>6</td>\n",
       "      <td>6</td>\n",
       "    </tr>\n",
       "    <tr>\n",
       "      <th>4</th>\n",
       "      <td>5</td>\n",
       "      <td>11</td>\n",
       "    </tr>\n",
       "    <tr>\n",
       "      <th>5</th>\n",
       "      <td>59</td>\n",
       "      <td>57</td>\n",
       "    </tr>\n",
       "    <tr>\n",
       "      <th>C</th>\n",
       "      <td>12974</td>\n",
       "      <td>12797</td>\n",
       "    </tr>\n",
       "    <tr>\n",
       "      <th>X</th>\n",
       "      <td>4487</td>\n",
       "      <td>4201</td>\n",
       "    </tr>\n",
       "  </tbody>\n",
       "</table>\n",
       "</div>"
      ],
      "text/plain": [
       "   mes_actual  mes_m1\n",
       "0        6886    7606\n",
       "1         236     268\n",
       "2          19      17\n",
       "3           6       6\n",
       "4           5      11\n",
       "5          59      57\n",
       "C       12974   12797\n",
       "X        4487    4201"
      ]
     },
     "execution_count": 10,
     "metadata": {},
     "output_type": "execute_result"
    }
   ],
   "source": [
    "### Convertir listas de sumatorias en Data Frames \n",
    "                                                                          # lista_nombre:                                                                      \n",
    "KPI = pd.DataFrame(  lista_mes_total, index= lista_index, columns= ('mes_actual', 'mes_m1') )  \n",
    "KPI"
   ]
  },
  {
   "cell_type": "markdown",
   "metadata": {},
   "source": [
    "#### Ciclo para Data Frame con KPI 1"
   ]
  },
  {
   "cell_type": "code",
   "execution_count": 11,
   "metadata": {},
   "outputs": [],
   "source": [
    "                            # Fijado a -2\n",
    "\n",
    "lista_mes = []\n",
    "lista_nombre_mes = []\n",
    "                             # Se fija a -26 meses\n",
    "for variable_mes in range (-26,1):\n",
    "    variable_df_mes = dfAll[ ( dfAll['MONTHS_BALANCE'] == variable_mes )   ] ### Definicion de meses\n",
    "    variable_dic_mes = Counter(variable_df_mes['STATUS'])  ### Keys y contadores para STATUS por cada mes\n",
    "    variable_dic_mes = collections.OrderedDict(  sorted(  variable_dic_mes.items()  )  ) # Valores de diccionarios ordenados por keys\n",
    "\n",
    "    variable_lista_mes = list(  variable_dic_mes.values()  )      # Valores YA ordenados por keys\n",
    "    lista_mes.append(variable_lista_mes) # Agregar valores YA ordenados a lista\n",
    "\n",
    "    variable_nombre_mes = variable_mes\n",
    "    lista_nombre_mes.append(variable_nombre_mes)\n",
    "\n",
    "lista_mes = np.array(lista_mes).T\n",
    "lista_index = list(  dic_mes_actual.keys()  )\n",
    "\n",
    "                                                                          # lista_nombre:                                                                      \n",
    "KPI_1 = pd.DataFrame(  lista_mes, index= lista_index, columns= lista_nombre_mes )  \n",
    "KPI_1.to_csv( '/Users/yairmartinez/Documents/GitHub/data_analysis_exercises/DB/Tablas/KPI_1.csv'  )"
   ]
  },
  {
   "cell_type": "code",
   "execution_count": 12,
   "metadata": {},
   "outputs": [
    {
     "data": {
      "text/html": [
       "<div>\n",
       "<style scoped>\n",
       "    .dataframe tbody tr th:only-of-type {\n",
       "        vertical-align: middle;\n",
       "    }\n",
       "\n",
       "    .dataframe tbody tr th {\n",
       "        vertical-align: top;\n",
       "    }\n",
       "\n",
       "    .dataframe thead th {\n",
       "        text-align: right;\n",
       "    }\n",
       "</style>\n",
       "<table border=\"1\" class=\"dataframe\">\n",
       "  <thead>\n",
       "    <tr style=\"text-align: right;\">\n",
       "      <th></th>\n",
       "      <th>-26</th>\n",
       "      <th>-25</th>\n",
       "      <th>-24</th>\n",
       "      <th>-23</th>\n",
       "      <th>-22</th>\n",
       "      <th>-21</th>\n",
       "      <th>-20</th>\n",
       "      <th>-19</th>\n",
       "      <th>-18</th>\n",
       "      <th>-17</th>\n",
       "      <th>...</th>\n",
       "      <th>-9</th>\n",
       "      <th>-8</th>\n",
       "      <th>-7</th>\n",
       "      <th>-6</th>\n",
       "      <th>-5</th>\n",
       "      <th>-4</th>\n",
       "      <th>-3</th>\n",
       "      <th>-2</th>\n",
       "      <th>-1</th>\n",
       "      <th>0</th>\n",
       "    </tr>\n",
       "  </thead>\n",
       "  <tbody>\n",
       "    <tr>\n",
       "      <th>0</th>\n",
       "      <td>5414</td>\n",
       "      <td>5586</td>\n",
       "      <td>5752</td>\n",
       "      <td>5882</td>\n",
       "      <td>6012</td>\n",
       "      <td>6024</td>\n",
       "      <td>6249</td>\n",
       "      <td>6245</td>\n",
       "      <td>6273</td>\n",
       "      <td>6413</td>\n",
       "      <td>...</td>\n",
       "      <td>7191</td>\n",
       "      <td>7231</td>\n",
       "      <td>7427</td>\n",
       "      <td>7461</td>\n",
       "      <td>7681</td>\n",
       "      <td>7687</td>\n",
       "      <td>7850</td>\n",
       "      <td>7700</td>\n",
       "      <td>7606</td>\n",
       "      <td>6886</td>\n",
       "    </tr>\n",
       "    <tr>\n",
       "      <th>1</th>\n",
       "      <td>166</td>\n",
       "      <td>172</td>\n",
       "      <td>172</td>\n",
       "      <td>165</td>\n",
       "      <td>167</td>\n",
       "      <td>179</td>\n",
       "      <td>181</td>\n",
       "      <td>183</td>\n",
       "      <td>178</td>\n",
       "      <td>182</td>\n",
       "      <td>...</td>\n",
       "      <td>214</td>\n",
       "      <td>224</td>\n",
       "      <td>238</td>\n",
       "      <td>248</td>\n",
       "      <td>241</td>\n",
       "      <td>307</td>\n",
       "      <td>219</td>\n",
       "      <td>274</td>\n",
       "      <td>268</td>\n",
       "      <td>236</td>\n",
       "    </tr>\n",
       "    <tr>\n",
       "      <th>2</th>\n",
       "      <td>17</td>\n",
       "      <td>18</td>\n",
       "      <td>13</td>\n",
       "      <td>15</td>\n",
       "      <td>11</td>\n",
       "      <td>19</td>\n",
       "      <td>12</td>\n",
       "      <td>24</td>\n",
       "      <td>28</td>\n",
       "      <td>12</td>\n",
       "      <td>...</td>\n",
       "      <td>20</td>\n",
       "      <td>24</td>\n",
       "      <td>15</td>\n",
       "      <td>19</td>\n",
       "      <td>18</td>\n",
       "      <td>19</td>\n",
       "      <td>30</td>\n",
       "      <td>19</td>\n",
       "      <td>17</td>\n",
       "      <td>19</td>\n",
       "    </tr>\n",
       "    <tr>\n",
       "      <th>3</th>\n",
       "      <td>6</td>\n",
       "      <td>4</td>\n",
       "      <td>5</td>\n",
       "      <td>3</td>\n",
       "      <td>9</td>\n",
       "      <td>1</td>\n",
       "      <td>5</td>\n",
       "      <td>3</td>\n",
       "      <td>8</td>\n",
       "      <td>9</td>\n",
       "      <td>...</td>\n",
       "      <td>6</td>\n",
       "      <td>7</td>\n",
       "      <td>9</td>\n",
       "      <td>7</td>\n",
       "      <td>9</td>\n",
       "      <td>5</td>\n",
       "      <td>6</td>\n",
       "      <td>11</td>\n",
       "      <td>6</td>\n",
       "      <td>6</td>\n",
       "    </tr>\n",
       "    <tr>\n",
       "      <th>4</th>\n",
       "      <td>7</td>\n",
       "      <td>5</td>\n",
       "      <td>3</td>\n",
       "      <td>5</td>\n",
       "      <td>3</td>\n",
       "      <td>9</td>\n",
       "      <td>1</td>\n",
       "      <td>4</td>\n",
       "      <td>2</td>\n",
       "      <td>6</td>\n",
       "      <td>...</td>\n",
       "      <td>4</td>\n",
       "      <td>4</td>\n",
       "      <td>6</td>\n",
       "      <td>8</td>\n",
       "      <td>9</td>\n",
       "      <td>8</td>\n",
       "      <td>5</td>\n",
       "      <td>3</td>\n",
       "      <td>11</td>\n",
       "      <td>5</td>\n",
       "    </tr>\n",
       "    <tr>\n",
       "      <th>5</th>\n",
       "      <td>25</td>\n",
       "      <td>25</td>\n",
       "      <td>29</td>\n",
       "      <td>27</td>\n",
       "      <td>27</td>\n",
       "      <td>31</td>\n",
       "      <td>34</td>\n",
       "      <td>36</td>\n",
       "      <td>33</td>\n",
       "      <td>36</td>\n",
       "      <td>...</td>\n",
       "      <td>42</td>\n",
       "      <td>38</td>\n",
       "      <td>40</td>\n",
       "      <td>44</td>\n",
       "      <td>50</td>\n",
       "      <td>50</td>\n",
       "      <td>50</td>\n",
       "      <td>52</td>\n",
       "      <td>57</td>\n",
       "      <td>59</td>\n",
       "    </tr>\n",
       "    <tr>\n",
       "      <th>C</th>\n",
       "      <td>6024</td>\n",
       "      <td>6315</td>\n",
       "      <td>6596</td>\n",
       "      <td>6886</td>\n",
       "      <td>7125</td>\n",
       "      <td>7429</td>\n",
       "      <td>7696</td>\n",
       "      <td>7955</td>\n",
       "      <td>8234</td>\n",
       "      <td>8550</td>\n",
       "      <td>...</td>\n",
       "      <td>10615</td>\n",
       "      <td>10885</td>\n",
       "      <td>11162</td>\n",
       "      <td>11444</td>\n",
       "      <td>11729</td>\n",
       "      <td>11995</td>\n",
       "      <td>12277</td>\n",
       "      <td>12531</td>\n",
       "      <td>12797</td>\n",
       "      <td>12974</td>\n",
       "    </tr>\n",
       "    <tr>\n",
       "      <th>X</th>\n",
       "      <td>2796</td>\n",
       "      <td>2825</td>\n",
       "      <td>2891</td>\n",
       "      <td>2954</td>\n",
       "      <td>3019</td>\n",
       "      <td>3071</td>\n",
       "      <td>3013</td>\n",
       "      <td>3148</td>\n",
       "      <td>3289</td>\n",
       "      <td>3399</td>\n",
       "      <td>...</td>\n",
       "      <td>3998</td>\n",
       "      <td>4081</td>\n",
       "      <td>4121</td>\n",
       "      <td>4242</td>\n",
       "      <td>4162</td>\n",
       "      <td>4203</td>\n",
       "      <td>4207</td>\n",
       "      <td>4281</td>\n",
       "      <td>4201</td>\n",
       "      <td>4487</td>\n",
       "    </tr>\n",
       "  </tbody>\n",
       "</table>\n",
       "<p>8 rows × 27 columns</p>\n",
       "</div>"
      ],
      "text/plain": [
       "    -26   -25   -24   -23   -22   -21   -20   -19   -18   -17  ...    -9   \\\n",
       "0  5414  5586  5752  5882  6012  6024  6249  6245  6273  6413  ...   7191   \n",
       "1   166   172   172   165   167   179   181   183   178   182  ...    214   \n",
       "2    17    18    13    15    11    19    12    24    28    12  ...     20   \n",
       "3     6     4     5     3     9     1     5     3     8     9  ...      6   \n",
       "4     7     5     3     5     3     9     1     4     2     6  ...      4   \n",
       "5    25    25    29    27    27    31    34    36    33    36  ...     42   \n",
       "C  6024  6315  6596  6886  7125  7429  7696  7955  8234  8550  ...  10615   \n",
       "X  2796  2825  2891  2954  3019  3071  3013  3148  3289  3399  ...   3998   \n",
       "\n",
       "     -8     -7     -6     -5     -4     -3     -2     -1      0   \n",
       "0   7231   7427   7461   7681   7687   7850   7700   7606   6886  \n",
       "1    224    238    248    241    307    219    274    268    236  \n",
       "2     24     15     19     18     19     30     19     17     19  \n",
       "3      7      9      7      9      5      6     11      6      6  \n",
       "4      4      6      8      9      8      5      3     11      5  \n",
       "5     38     40     44     50     50     50     52     57     59  \n",
       "C  10885  11162  11444  11729  11995  12277  12531  12797  12974  \n",
       "X   4081   4121   4242   4162   4203   4207   4281   4201   4487  \n",
       "\n",
       "[8 rows x 27 columns]"
      ]
     },
     "execution_count": 12,
     "metadata": {},
     "output_type": "execute_result"
    }
   ],
   "source": [
    "KPI_1"
   ]
  },
  {
   "cell_type": "code",
   "execution_count": 17,
   "metadata": {},
   "outputs": [
    {
     "name": "stderr",
     "output_type": "stream",
     "text": [
      "objc[9486]: Class WebSwapCGLLayer is implemented in both /System/Library/Frameworks/WebKit.framework/Versions/A/Frameworks/WebCore.framework/Versions/A/Frameworks/libANGLE-shared.dylib (0x7ffb56c02948) and /Applications/Google Chrome.app/Contents/Frameworks/Google Chrome Framework.framework/Versions/103.0.5060.114/Libraries/libGLESv2.dylib (0x11f099d18). One of the two will be used. Which one is undefined.\n",
      "[0712/181854.473967:INFO:headless_shell.cc(660)] Written to file /var/folders/v1/3g8467xs4vvf3w4gs3sqq6qr0000gn/T/tmpvr8v4kpz/temp.png.\n"
     ]
    },
    {
     "data": {
      "text/plain": [
       "'/Users/yairmartinez/Documents/GitHub/data_analysis_exercises/DB/Tablas/foto_encabezado_3.png'"
      ]
     },
     "execution_count": 17,
     "metadata": {},
     "output_type": "execute_result"
    }
   ],
   "source": [
    "# Se crea la imagen de la tabla anterior\n",
    "# Se mueve al dir :  data_analysis_exercises/DB/Tablas/\n",
    "\n",
    "df_styled = KPI_1.style.background_gradient()\n",
    "dfi.export(df_styled, 'foto_encabezado_3.png')\n",
    "\n",
    "pos1= '/Users/yairmartinez/Documents/GitHub/data_analysis_exercises/KPI_exercise/foto_encabezado_3.png'\n",
    "pos2= '/Users/yairmartinez/Documents/GitHub/data_analysis_exercises/DB/Tablas/foto_encabezado_3.png'\n",
    "shutil.move(pos1,pos2)"
   ]
  },
  {
   "cell_type": "code",
   "execution_count": null,
   "metadata": {},
   "outputs": [
    {
     "data": {
      "text/plain": [
       "count    777715.000000\n",
       "mean        -19.373564\n",
       "std          14.082208\n",
       "min         -60.000000\n",
       "25%         -29.000000\n",
       "50%         -17.000000\n",
       "75%          -8.000000\n",
       "max           0.000000\n",
       "Name: MONTHS_BALANCE, dtype: float64"
      ]
     },
     "execution_count": 41,
     "metadata": {},
     "output_type": "execute_result"
    }
   ],
   "source": [
    "dfAll.MONTHS_BALANCE.describe()"
   ]
  },
  {
   "cell_type": "markdown",
   "metadata": {},
   "source": [
    "#### Gráficas de KPI 1"
   ]
  },
  {
   "cell_type": "code",
   "execution_count": 20,
   "metadata": {},
   "outputs": [
    {
     "data": {
      "image/png": "[encoded data removed]",
      "text/plain": [
       "<Figure size 432x288 with 1 Axes>"
      ]
     },
     "metadata": {
      "needs_background": "light"
     },
     "output_type": "display_data"
    }
   ],
   "source": [
    "# GRAFICA KPI_1 :  STATUS a través del tiempo\n",
    "\n",
    "KPI_1_T = KPI_1.transpose() # Transpuesta para tener Index o Status en el eje Y y los meses en el eje x\n",
    "\n",
    "KPI_1_T['X'].plot( label = 'X')\n",
    "KPI_1_T['C'].plot( label = 'C' )\n",
    "KPI_1_T['0'].plot( label = '0')\n",
    "plt.title(\"KPI_1_1\")\n",
    "plt.xlabel(\"Meses\")\n",
    "plt.ylabel(\"Cantidad\")\n",
    "plt.legend()\n",
    "\n",
    "plt.savefig(\"KPI_1_1.jpg\")\n",
    "pos1= '/Users/yairmartinez/Documents/GitHub/data_analysis_exercises/KPI_exercise/KPI_1_1.jpg'\n",
    "pos2= '/Users/yairmartinez/Documents/GitHub/data_analysis_exercises/DB/Graficas/KPI_1_1.jpg'\n",
    "shutil.move(pos1,pos2)\n",
    "\n",
    "plt.show()  "
   ]
  },
  {
   "cell_type": "code",
   "execution_count": 22,
   "metadata": {},
   "outputs": [
    {
     "data": {
      "image/png": "[encoded data removed]",
      "text/plain": [
       "<Figure size 432x288 with 1 Axes>"
      ]
     },
     "metadata": {
      "needs_background": "light"
     },
     "output_type": "display_data"
    }
   ],
   "source": [
    "# GRAFICA KPI_1 :  STATUS a través del tiempo\n",
    "\n",
    "KPI_1_T['1'].plot( label = '1')\n",
    "plt.title(\"KPI_1_2\")\n",
    "plt.xlabel(\"Meses\")\n",
    "plt.ylabel(\"Cantidad\")\n",
    "plt.legend()\n",
    "\n",
    "plt.savefig(\"KPI_1_2.jpg\")\n",
    "pos1= '/Users/yairmartinez/Documents/GitHub/data_analysis_exercises/KPI_exercise/KPI_1_2.jpg'\n",
    "pos2= '/Users/yairmartinez/Documents/GitHub/data_analysis_exercises/DB/Graficas/KPI_1_2.jpg'\n",
    "shutil.move(pos1,pos2)\n",
    "\n",
    "plt.show()"
   ]
  },
  {
   "cell_type": "code",
   "execution_count": 23,
   "metadata": {},
   "outputs": [
    {
     "data": {
      "image/png": "[encoded data removed]",
      "text/plain": [
       "<Figure size 432x288 with 1 Axes>"
      ]
     },
     "metadata": {
      "needs_background": "light"
     },
     "output_type": "display_data"
    }
   ],
   "source": [
    "# GRAFICA KPI_1 :  STATUS a través del tiempo\n",
    "\n",
    "KPI_1_T['2'].plot( label = '2' )\n",
    "KPI_1_T['3'].plot( label = '3')\n",
    "KPI_1_T['4'].plot( label = '4' )\n",
    "KPI_1_T['5'].plot( label = '5')\n",
    "plt.title(\"KPI_1_3\")\n",
    "plt.xlabel(\"Meses\")\n",
    "plt.ylabel(\"Cantidad\")\n",
    "plt.legend()\n",
    "\n",
    "plt.savefig(\"KPI_1_3.jpg\")\n",
    "pos1= '/Users/yairmartinez/Documents/GitHub/data_analysis_exercises/KPI_exercise/KPI_1_3.jpg'\n",
    "pos2= '/Users/yairmartinez/Documents/GitHub/data_analysis_exercises/DB/Graficas/KPI_1_3.jpg'\n",
    "shutil.move(pos1,pos2)\n",
    "\n",
    "plt.show()"
   ]
  }
 ],
 "metadata": {
  "kernelspec": {
   "display_name": "Python 3.10.5 64-bit",
   "language": "python",
   "name": "python3"
  },
  "language_info": {
   "codemirror_mode": {
    "name": "ipython",
    "version": 3
   },
   "file_extension": ".py",
   "mimetype": "text/x-python",
   "name": "python",
   "nbconvert_exporter": "python",
   "pygments_lexer": "ipython3",
   "version": "3.10.5"
  },
  "orig_nbformat": 4,
  "vscode": {
   "interpreter": {
    "hash": "aee8b7b246df8f9039afb4144a1f6fd8d2ca17a180786b69acc140d282b71a49"
   }
  }
 },
 "nbformat": 4,
 "nbformat_minor": 2
}
