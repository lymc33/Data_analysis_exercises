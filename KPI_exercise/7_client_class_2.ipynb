{
 "cells": [
  {
   "cell_type": "markdown",
   "metadata": {},
   "source": [
    "### Importaciones y lecturas"
   ]
  },
  {
   "cell_type": "code",
   "execution_count": 1,
   "metadata": {},
   "outputs": [],
   "source": [
    "import pandas as pd\n",
    "import numpy as np\n",
    "from collections import Counter\n",
    "from itertools import chain\n",
    "import shutil"
   ]
  },
  {
   "cell_type": "code",
   "execution_count": 2,
   "metadata": {},
   "outputs": [],
   "source": [
    "dfAll = pd.read_csv('/Users/yairmartinez/Documents/GitHub/data_analysis_exercises/DB/Tablas/dfAll.csv')"
   ]
  },
  {
   "cell_type": "markdown",
   "metadata": {},
   "source": [
    "### Ciclo para crear diccionarios po STATUS con ID y contador por mes"
   ]
  },
  {
   "cell_type": "code",
   "execution_count": 3,
   "metadata": {},
   "outputs": [],
   "source": [
    "# lista_ID_mes = []\n",
    "# lista_STATUS_mes = []\n",
    "\n",
    "# dic_ID_STATUS_mes={} \n",
    "lista_ID_C_tot = []\n",
    "lista_ID_X_tot = []\n",
    "lista_ID_0_tot = []\n",
    "lista_ID_1_tot = []\n",
    "lista_ID_2_tot = []\n",
    "lista_ID_3_tot = []\n",
    "lista_ID_4_tot = []\n",
    "lista_ID_5_tot = []\n",
    "\n",
    "lista_TOTAL_C =[] \n",
    "lista_TOTAL_X =[] \n",
    "lista_TOTAL_0 =[] \n",
    "lista_TOTAL_1 =[] \n",
    "lista_TOTAL_2 =[] \n",
    "lista_TOTAL_3 =[] \n",
    "lista_TOTAL_4 =[] \n",
    "lista_TOTAL_5 =[] \n",
    "\n",
    "                       # Se fijan 12 meses para clasificacion por año \n",
    "for variable_mes in range(-11,1):\n",
    "    # variable_df_mes = df2[ ( df2['MONTHS_BALANCE'] == variable_mes )   ] ### Cortado \n",
    "    variable_df_mes = dfAll[ ( dfAll['MONTHS_BALANCE'] == variable_mes )   ]   ### Completo\n",
    "    lista_ID_index = []\n",
    "    lista_STATUS_index = []\n",
    "\n",
    "    lista_ID_C_mes = []\n",
    "    lista_ID_X_mes = []\n",
    "    lista_ID_0_mes = []\n",
    "    lista_ID_1_mes = []\n",
    "    lista_ID_2_mes = []\n",
    "    lista_ID_3_mes = []\n",
    "    lista_ID_4_mes = []\n",
    "    lista_ID_5_mes = []\n",
    "\n",
    "    for i in range (0,(len(variable_df_mes))) :     \n",
    "        lista_ID_index.append( variable_df_mes.iloc[i].ID  ) # Lista registro por ID al mes\n",
    "        lista_STATUS_index.append( variable_df_mes.iloc[i].STATUS  ) # Lista registro por STATUS al mes    \n",
    "        \n",
    "    tupla_index = tuple(zip(lista_ID_index , lista_STATUS_index)) \n",
    "\n",
    "    for j in range (0,len(tupla_index)):\n",
    "        if tupla_index[j][1] == 'C':\n",
    "            lista_ID_C_mes.append(tupla_index[j][0])\n",
    "        elif tupla_index[j][1] == 'X':\n",
    "            lista_ID_X_mes.append(tupla_index[j][0])\n",
    "        elif tupla_index[j][1] == '0':\n",
    "            lista_ID_0_mes.append(tupla_index[j][0])\n",
    "        elif tupla_index[j][1] == '1':\n",
    "            lista_ID_1_mes.append(tupla_index[j][0])\n",
    "        elif tupla_index[j][1] == '2':\n",
    "            lista_ID_2_mes.append(tupla_index[j][0])\n",
    "        elif tupla_index[j][1] == '3':\n",
    "            lista_ID_3_mes.append(tupla_index[j][0])\n",
    "        elif tupla_index[j][1] == '4':\n",
    "            lista_ID_4_mes.append(tupla_index[j][0])\n",
    "        elif tupla_index[j][1] == '5':\n",
    "            lista_ID_5_mes.append(tupla_index[j][0])\n",
    "\n",
    "    lista_ID_C_tot.append(lista_ID_C_mes)\n",
    "    lista_ID_X_tot.append(lista_ID_X_mes)\n",
    "    lista_ID_0_tot.append(lista_ID_0_mes)\n",
    "    lista_ID_1_tot.append(lista_ID_1_mes)\n",
    "    lista_ID_2_tot.append(lista_ID_2_mes)\n",
    "    lista_ID_3_tot.append(lista_ID_3_mes)\n",
    "    lista_ID_4_tot.append(lista_ID_4_mes)\n",
    "    lista_ID_5_tot.append(lista_ID_5_mes)\n",
    "\n",
    "for k in range(0, len(lista_ID_C_tot)):\n",
    "    lista_TOTAL_C.extend( lista_ID_C_tot[k] )\n",
    "    lista_TOTAL_X.extend( lista_ID_X_tot[k] )\n",
    "    lista_TOTAL_0.extend( lista_ID_0_tot[k] )\n",
    "    lista_TOTAL_1.extend( lista_ID_1_tot[k] )\n",
    "    lista_TOTAL_2.extend( lista_ID_2_tot[k] )\n",
    "    lista_TOTAL_3.extend( lista_ID_3_tot[k] )\n",
    "    lista_TOTAL_4.extend( lista_ID_4_tot[k] )\n",
    "    lista_TOTAL_5.extend( lista_ID_5_tot[k] )\n",
    "\n",
    "\n",
    "contador_C = Counter(chain(lista_TOTAL_C))\n",
    "contador_X = Counter(chain(lista_TOTAL_X))\n",
    "contador_0 = Counter(chain(lista_TOTAL_0))\n",
    "contador_1 = Counter(chain(lista_TOTAL_1))         \n",
    "contador_2 = Counter(chain(lista_TOTAL_2))\n",
    "contador_3 = Counter(chain(lista_TOTAL_3))    \n",
    "contador_4 = Counter(chain(lista_TOTAL_4))\n",
    "contador_5 = Counter(chain(lista_TOTAL_5))    \n"
   ]
  },
  {
   "cell_type": "markdown",
   "metadata": {},
   "source": [
    "### Clasificador de clientes"
   ]
  },
  {
   "cell_type": "markdown",
   "metadata": {},
   "source": [
    "#### Ciclo para ID Malo y VIP"
   ]
  },
  {
   "cell_type": "code",
   "execution_count": 4,
   "metadata": {},
   "outputs": [],
   "source": [
    "# ID Malo tiene al menos un valor 5 en un año  (Si paga, el STATUS va a 5,4,3,2,1 y 0 de deudas o medio año)\n",
    "# ID Malo tiene al menos un valor 4 en un año \n",
    "# ID Malo tiene al menos un valor 3 en un año \n",
    "# ID Malo tiene al menos un valor 2 en un año \n",
    "# ID Malo tiene al menos un valor 1 en un año \n",
    "# ID Malo tiene al menos un valor 0 en un año \n",
    "\n",
    "ID_malo_r= []\n",
    "ID_vip_r = []\n",
    "\n",
    "for key, value in contador_5.items() :\n",
    "    if contador_5[key] > 0 :\n",
    "        prueba = [] \n",
    "        prueba = [key]\n",
    "        ID_malo_r.append(prueba)\n",
    "\n",
    "\n",
    "for key, value in contador_4.items() :\n",
    "    if contador_4[key] > 0 :\n",
    "        prueba = [] \n",
    "        prueba = [key]\n",
    "        ID_malo_r.append(prueba)\n",
    "\n",
    "for key, value in contador_3.items() :\n",
    "    if contador_3[key] > 0 :\n",
    "        prueba = [] \n",
    "        prueba = [key]\n",
    "        ID_malo_r.append(prueba)\n",
    "\n",
    "for key, value in contador_2.items() :\n",
    "    if contador_3[key] > 0 :\n",
    "        prueba = [] \n",
    "        prueba = [key]\n",
    "        ID_malo_r.append(prueba)\n",
    "\n",
    "for key, value in contador_1.items() :\n",
    "    if contador_3[key] > 0 :\n",
    "        prueba = [] \n",
    "        prueba = [key]\n",
    "        ID_malo_r.append(prueba)\n",
    "\n",
    "for key, value in contador_0.items() :\n",
    "    if contador_3[key] > 0 :\n",
    "        prueba = [] \n",
    "        prueba = [key]\n",
    "        ID_malo_r.append(prueba)\n",
    "\n",
    "### ID VIP tienen los 12 pagos C en un año  \n",
    "\n",
    "for key, value in contador_C.items() :\n",
    "    if contador_C[key] > 11 :\n",
    "        prueba = [] \n",
    "        prueba = [key]\n",
    "        ID_vip_r.append(prueba)"
   ]
  },
  {
   "cell_type": "code",
   "execution_count": 5,
   "metadata": {},
   "outputs": [
    {
     "ename": "SyntaxError",
     "evalue": "'break' outside loop (668683560.py, line 1)",
     "output_type": "error",
     "traceback": [
      "\u001b[0;36m  File \u001b[0;32m\"/var/folders/v1/3g8467xs4vvf3w4gs3sqq6qr0000gn/T/ipykernel_11176/668683560.py\"\u001b[0;36m, line \u001b[0;32m1\u001b[0m\n\u001b[0;31m    break\u001b[0m\n\u001b[0m    ^\u001b[0m\n\u001b[0;31mSyntaxError\u001b[0m\u001b[0;31m:\u001b[0m 'break' outside loop\n"
     ]
    }
   ],
   "source": [
    "break"
   ]
  },
  {
   "cell_type": "code",
   "execution_count": null,
   "metadata": {},
   "outputs": [],
   "source": [
    "len(ID_malo_r), len(ID_vip_r), len(tupla_index) # La diferencia entre el total = 24,672 y la suma de ID_malo_r y ID_vip_r son los regulares"
   ]
  },
  {
   "cell_type": "code",
   "execution_count": null,
   "metadata": {},
   "outputs": [],
   "source": [
    "#Lista total\n",
    "\n",
    "dic_ID_todos = dict(tupla_index)\n",
    "ID_todos_r = list(dic_ID_todos.keys())"
   ]
  },
  {
   "cell_type": "code",
   "execution_count": null,
   "metadata": {},
   "outputs": [],
   "source": [
    "#Quitar repetidos\n",
    "\n",
    "ID_malo = []\n",
    "for i in ID_malo_r:\n",
    "    if i not in ID_malo:\n",
    "        ID_malo.append(i)\n",
    "\n",
    "ID_vip = []\n",
    "for i in ID_vip_r:\n",
    "    if i not in ID_vip:\n",
    "        ID_vip.append(i)\n",
    "\n",
    "\n",
    "ID_todos = []\n",
    "for i in ID_todos_r:\n",
    "    if i not in ID_todos:\n",
    "        ID_todos.append(i)\n",
    "  "
   ]
  },
  {
   "cell_type": "code",
   "execution_count": null,
   "metadata": {},
   "outputs": [],
   "source": [
    "len(ID_malo_r), len(ID_malo), len(ID_vip_r), len(ID_vip), len(ID_todos_r), len(ID_todos)"
   ]
  },
  {
   "cell_type": "markdown",
   "metadata": {},
   "source": [
    "#### Crear lista ID Regular"
   ]
  },
  {
   "cell_type": "code",
   "execution_count": null,
   "metadata": {},
   "outputs": [],
   "source": [
    "# Quitar del total a los ID definidos como malos del total\n",
    "\n",
    "list_1 = ID_malo\n",
    "list_2 = ID_todos\n",
    "\n",
    "for element in list_1:\n",
    "    if element in list_2:\n",
    "        list_2.remove(element)\n",
    "\n",
    "ID_regulares_1 = list_2\n",
    "\n"
   ]
  },
  {
   "cell_type": "code",
   "execution_count": null,
   "metadata": {},
   "outputs": [],
   "source": [
    "# Quitar del total anterior los ID definidos como VIP\n",
    "\n",
    "list_1 = ID_vip\n",
    "list_2 = ID_regulares_1\n",
    "\n",
    "for element in list_1:\n",
    "    if element in list_2:\n",
    "        list_2.remove(element)\n",
    "\n",
    "ID_regulares = list_2"
   ]
  },
  {
   "cell_type": "code",
   "execution_count": null,
   "metadata": {},
   "outputs": [],
   "source": [
    "len(ID_malo) + len(ID_vip) + len(ID_regulares)"
   ]
  },
  {
   "cell_type": "code",
   "execution_count": null,
   "metadata": {},
   "outputs": [],
   "source": [
    "# Comprobación de no repetidos\n",
    "len([x for x in ID_regulares if x in ID_malo])"
   ]
  },
  {
   "cell_type": "code",
   "execution_count": null,
   "metadata": {},
   "outputs": [],
   "source": [
    "## Comprobación de no repetidos\n",
    "len([x for x in ID_regulares if x in ID_vip])"
   ]
  },
  {
   "cell_type": "markdown",
   "metadata": {},
   "source": [
    "### Convertir listas Malo Regular y VIP a Data Frame"
   ]
  },
  {
   "cell_type": "markdown",
   "metadata": {},
   "source": [
    "#### Limpieza de data frame total y listas de clientes"
   ]
  },
  {
   "cell_type": "code",
   "execution_count": null,
   "metadata": {},
   "outputs": [],
   "source": [
    "# Se eliminan todos los ID duplicados del dfAll\n",
    "# Se eliminan todos los STATUS ya que serán divididos por ese grupo y Months Balance al no depender del tiempo\n",
    "\n",
    "dfAll_m = dfAll.drop_duplicates( subset= ['ID'] , keep='first')\n",
    "dfAll_m = dfAll_m.drop(['Unnamed: 0','STATUS', 'MONTHS_BALANCE'], axis = 1)\n",
    "dfAll_m.head()"
   ]
  },
  {
   "cell_type": "code",
   "execution_count": null,
   "metadata": {},
   "outputs": [],
   "source": [
    "# Se verifica valor a eliminar =  YEARS_EMPLOYED negativos\n",
    "dfAll_m['YEARS_EMPLOYED'].describe()"
   ]
  },
  {
   "cell_type": "code",
   "execution_count": null,
   "metadata": {},
   "outputs": [],
   "source": [
    "# Verificador index lista\n",
    "\n",
    "clientes_malos = pd.DataFrame(ID_malo)\n",
    "clientes_regulares = pd.DataFrame(ID_regulares)\n",
    "clientes_vip = pd.DataFrame(ID_vip)"
   ]
  },
  {
   "cell_type": "code",
   "execution_count": null,
   "metadata": {},
   "outputs": [],
   "source": [
    "type(clientes_malos)"
   ]
  },
  {
   "cell_type": "code",
   "execution_count": null,
   "metadata": {},
   "outputs": [],
   "source": [
    "clientes_malos"
   ]
  },
  {
   "cell_type": "code",
   "execution_count": null,
   "metadata": {},
   "outputs": [],
   "source": [
    "clientes_malos[0]"
   ]
  },
  {
   "cell_type": "markdown",
   "metadata": {},
   "source": [
    "#### Crear data frame de clientes malo, regular y vip"
   ]
  },
  {
   "cell_type": "code",
   "execution_count": null,
   "metadata": {},
   "outputs": [],
   "source": [
    "# Listas de clientes y reseteo de index\n",
    "\n",
    "df_clientes_malos = dfAll_m.set_index('ID').loc[clientes_malos[0]].reset_index(inplace=False)\n",
    "df_clientes_regulares = dfAll_m.set_index('ID').loc[clientes_regulares[0]].reset_index(inplace=False)\n",
    "df_clientes_vip = dfAll_m.set_index('ID').loc[clientes_vip[0]].reset_index(inplace=False)"
   ]
  },
  {
   "cell_type": "code",
   "execution_count": null,
   "metadata": {},
   "outputs": [],
   "source": [
    "df_clientes_malos"
   ]
  },
  {
   "cell_type": "code",
   "execution_count": null,
   "metadata": {},
   "outputs": [],
   "source": [
    "df_clientes_malos.shape , df_clientes_regulares.shape , df_clientes_vip.shape"
   ]
  },
  {
   "cell_type": "code",
   "execution_count": null,
   "metadata": {},
   "outputs": [],
   "source": [
    "# Para YEARS_EMPLOYED, se seleccionaron solamente los datos positivos, \n",
    "# dejando fuera a los jubilados debido a las inconsistencias entre los registros\n",
    "\n",
    "df_clientes_malos= df_clientes_malos.drop(df_clientes_malos.index[df_clientes_malos['YEARS_EMPLOYED']<0])\n",
    "df_clientes_regulares= df_clientes_regulares.drop(df_clientes_regulares.index[df_clientes_regulares['YEARS_EMPLOYED']<0])\n",
    "df_clientes_vip= df_clientes_vip.drop(df_clientes_vip.index[df_clientes_vip['YEARS_EMPLOYED']<0])"
   ]
  },
  {
   "cell_type": "code",
   "execution_count": null,
   "metadata": {},
   "outputs": [],
   "source": [
    "df_clientes_malos.shape , df_clientes_regulares.shape , df_clientes_vip.shape"
   ]
  },
  {
   "cell_type": "markdown",
   "metadata": {},
   "source": [
    "### Salvar Data Frames Malo Regular y VIP a Data Frame"
   ]
  },
  {
   "cell_type": "code",
   "execution_count": null,
   "metadata": {},
   "outputs": [],
   "source": [
    "df_clientes_malos.to_csv('dfm_clientes_malos.csv', index=False)\n",
    "df_clientes_regulares.to_csv('dfm_clientes_regulares.csv', index=False)\n",
    "df_clientes_vip.to_csv('dfm_clientes_vip.csv', index=False)\n",
    "\n",
    "pos1= '/Users/yairmartinez/Documents/GitHub/data_analysis_exercises/KPI_exercise/dfm_clientes_malos.csv'\n",
    "pos11= '/Users/yairmartinez/Documents/GitHub/data_analysis_exercises/DB/Tablas/df_STATUSm/dfm_clientes_malos.csv'\n",
    "\n",
    "pos2= '/Users/yairmartinez/Documents/GitHub/data_analysis_exercises/KPI_exercise/dfm_clientes_regulares.csv'\n",
    "pos22= '/Users/yairmartinez/Documents/GitHub/data_analysis_exercises/DB/Tablas/df_STATUSm/dfm_clientes_regulares.csv'\n",
    "\n",
    "pos3= '/Users/yairmartinez/Documents/GitHub/data_analysis_exercises/KPI_exercise/dfm_clientes_vip.csv'\n",
    "pos33= '/Users/yairmartinez/Documents/GitHub/data_analysis_exercises/DB/Tablas/df_STATUSm/dfm_clientes_vip.csv'\n",
    "\n",
    "shutil.move(pos1,pos11)\n",
    "shutil.move(pos2,pos22)\n",
    "shutil.move(pos3,pos33)"
   ]
  }
 ],
 "metadata": {
  "kernelspec": {
   "display_name": "Python 3.10.5 64-bit",
   "language": "python",
   "name": "python3"
  },
  "language_info": {
   "codemirror_mode": {
    "name": "ipython",
    "version": 3
   },
   "file_extension": ".py",
   "mimetype": "text/x-python",
   "name": "python",
   "nbconvert_exporter": "python",
   "pygments_lexer": "ipython3",
   "version": "3.10.5"
  },
  "orig_nbformat": 4,
  "vscode": {
   "interpreter": {
    "hash": "aee8b7b246df8f9039afb4144a1f6fd8d2ca17a180786b69acc140d282b71a49"
   }
  }
 },
 "nbformat": 4,
 "nbformat_minor": 2
}
