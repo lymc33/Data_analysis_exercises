{
 "cells": [
  {
   "cell_type": "markdown",
   "metadata": {},
   "source": [
    "### Importaciones y lecturas"
   ]
  },
  {
   "cell_type": "code",
   "execution_count": 47,
   "metadata": {},
   "outputs": [],
   "source": [
    "import pandas as pd\n",
    "import numpy as np\n",
    "from collections import Counter\n",
    "from itertools import chain\n",
    "import shutil"
   ]
  },
  {
   "cell_type": "code",
   "execution_count": 48,
   "metadata": {},
   "outputs": [],
   "source": [
    "dfAll = pd.read_csv('/Users/yairmartinez/Documents/GitHub/data_analysis_exercises/DB/Tablas/dfAll.csv')"
   ]
  },
  {
   "cell_type": "markdown",
   "metadata": {},
   "source": [
    "### Ciclo para crear diccionarios po STATUS con ID y contador por mes"
   ]
  },
  {
   "cell_type": "code",
   "execution_count": 49,
   "metadata": {},
   "outputs": [],
   "source": [
    "# lista_ID_mes = []\n",
    "# lista_STATUS_mes = []\n",
    "\n",
    "# dic_ID_STATUS_mes={} \n",
    "lista_ID_C_tot = []\n",
    "lista_ID_X_tot = []\n",
    "lista_ID_0_tot = []\n",
    "lista_ID_1_tot = []\n",
    "lista_ID_2_tot = []\n",
    "lista_ID_3_tot = []\n",
    "lista_ID_4_tot = []\n",
    "lista_ID_5_tot = []\n",
    "\n",
    "lista_TOTAL_C =[] \n",
    "lista_TOTAL_X =[] \n",
    "lista_TOTAL_0 =[] \n",
    "lista_TOTAL_1 =[] \n",
    "lista_TOTAL_2 =[] \n",
    "lista_TOTAL_3 =[] \n",
    "lista_TOTAL_4 =[] \n",
    "lista_TOTAL_5 =[] \n",
    "\n",
    "                       # Se fijan 12 meses para clasificacion por año \n",
    "for variable_mes in range(-11,1):\n",
    "    # variable_df_mes = df2[ ( df2['MONTHS_BALANCE'] == variable_mes )   ] ### Cortado \n",
    "    variable_df_mes = dfAll[ ( dfAll['MONTHS_BALANCE'] == variable_mes )   ]   ### Completo\n",
    "    lista_ID_index = []\n",
    "    lista_STATUS_index = []\n",
    "\n",
    "    lista_ID_C_mes = []\n",
    "    lista_ID_X_mes = []\n",
    "    lista_ID_0_mes = []\n",
    "    lista_ID_1_mes = []\n",
    "    lista_ID_2_mes = []\n",
    "    lista_ID_3_mes = []\n",
    "    lista_ID_4_mes = []\n",
    "    lista_ID_5_mes = []\n",
    "\n",
    "    for i in range (0,(len(variable_df_mes))) :     \n",
    "        lista_ID_index.append( variable_df_mes.iloc[i].ID  ) # Lista registro por ID al mes\n",
    "        lista_STATUS_index.append( variable_df_mes.iloc[i].STATUS  ) # Lista registro por STATUS al mes    \n",
    "        \n",
    "    tupla_index = tuple(zip(lista_ID_index , lista_STATUS_index)) \n",
    "\n",
    "    for j in range (0,len(tupla_index)):\n",
    "        if tupla_index[j][1] == 'C':\n",
    "            lista_ID_C_mes.append(tupla_index[j][0])\n",
    "        elif tupla_index[j][1] == 'X':\n",
    "            lista_ID_X_mes.append(tupla_index[j][0])\n",
    "        elif tupla_index[j][1] == '0':\n",
    "            lista_ID_0_mes.append(tupla_index[j][0])\n",
    "        elif tupla_index[j][1] == '1':\n",
    "            lista_ID_1_mes.append(tupla_index[j][0])\n",
    "        elif tupla_index[j][1] == '2':\n",
    "            lista_ID_2_mes.append(tupla_index[j][0])\n",
    "        elif tupla_index[j][1] == '3':\n",
    "            lista_ID_3_mes.append(tupla_index[j][0])\n",
    "        elif tupla_index[j][1] == '4':\n",
    "            lista_ID_4_mes.append(tupla_index[j][0])\n",
    "        elif tupla_index[j][1] == '5':\n",
    "            lista_ID_5_mes.append(tupla_index[j][0])\n",
    "\n",
    "    lista_ID_C_tot.append(lista_ID_C_mes)\n",
    "    lista_ID_X_tot.append(lista_ID_X_mes)\n",
    "    lista_ID_0_tot.append(lista_ID_0_mes)\n",
    "    lista_ID_1_tot.append(lista_ID_1_mes)\n",
    "    lista_ID_2_tot.append(lista_ID_2_mes)\n",
    "    lista_ID_3_tot.append(lista_ID_3_mes)\n",
    "    lista_ID_4_tot.append(lista_ID_4_mes)\n",
    "    lista_ID_5_tot.append(lista_ID_5_mes)\n",
    "\n",
    "for k in range(0, len(lista_ID_C_tot)):\n",
    "    lista_TOTAL_C.extend( lista_ID_C_tot[k] )\n",
    "    lista_TOTAL_X.extend( lista_ID_X_tot[k] )\n",
    "    lista_TOTAL_0.extend( lista_ID_0_tot[k] )\n",
    "    lista_TOTAL_1.extend( lista_ID_1_tot[k] )\n",
    "    lista_TOTAL_2.extend( lista_ID_2_tot[k] )\n",
    "    lista_TOTAL_3.extend( lista_ID_3_tot[k] )\n",
    "    lista_TOTAL_4.extend( lista_ID_4_tot[k] )\n",
    "    lista_TOTAL_5.extend( lista_ID_5_tot[k] )\n",
    "\n",
    "\n",
    "contador_C = Counter(chain(lista_TOTAL_C))\n",
    "contador_X = Counter(chain(lista_TOTAL_X))\n",
    "contador_0 = Counter(chain(lista_TOTAL_0))\n",
    "contador_1 = Counter(chain(lista_TOTAL_1))         \n",
    "contador_2 = Counter(chain(lista_TOTAL_2))\n",
    "contador_3 = Counter(chain(lista_TOTAL_3))    \n",
    "contador_4 = Counter(chain(lista_TOTAL_4))\n",
    "contador_5 = Counter(chain(lista_TOTAL_5))    \n"
   ]
  },
  {
   "cell_type": "markdown",
   "metadata": {},
   "source": [
    "### Clasificador de clientes"
   ]
  },
  {
   "cell_type": "markdown",
   "metadata": {},
   "source": [
    "#### Ciclo para ID Malo y VIP"
   ]
  },
  {
   "cell_type": "code",
   "execution_count": 50,
   "metadata": {},
   "outputs": [],
   "source": [
    "# ID Malo tiene al menos un valor 5 en un año  (Si paga, el STATUS va a 5,4,3,2,1 y 0 de deudas o medio año)\n",
    "# ID Malo tiene al menos un valor 4 en un año \n",
    "# ID Malo tiene al menos un valor 3 en un año \n",
    "# ID Malo tiene al menos un valor 2 en un año \n",
    "# ID Malo tiene al menos un valor 1 en un año \n",
    "# ID Malo tiene al menos un valor 0 en un año \n",
    "\n",
    "ID_malo_r= []\n",
    "ID_vip_r = []\n",
    "\n",
    "for key, value in contador_5.items() :\n",
    "    if contador_5[key] > 0 :\n",
    "        prueba = [] \n",
    "        prueba = [key]\n",
    "        ID_malo_r.append(prueba)\n",
    "\n",
    "\n",
    "for key, value in contador_4.items() :\n",
    "    if contador_4[key] > 0 :\n",
    "        prueba = [] \n",
    "        prueba = [key]\n",
    "        ID_malo_r.append(prueba)\n",
    "\n",
    "for key, value in contador_3.items() :\n",
    "    if contador_3[key] > 0 :\n",
    "        prueba = [] \n",
    "        prueba = [key]\n",
    "        ID_malo_r.append(prueba)\n",
    "\n",
    "for key, value in contador_2.items() :\n",
    "    if contador_2[key] > 0 :\n",
    "        prueba = [] \n",
    "        prueba = [key]\n",
    "        ID_malo_r.append(prueba)\n",
    "\n",
    "for key, value in contador_1.items() :\n",
    "    if contador_1[key] > 0 :\n",
    "        prueba = [] \n",
    "        prueba = [key]\n",
    "        ID_malo_r.append(prueba)\n",
    "\n",
    "# for key, value in contador_0.items() :\n",
    "#     if contador_0[key] > 0 :\n",
    "#         prueba = [] \n",
    "#         prueba = [key]\n",
    "#         ID_malo_r.append(prueba)\n",
    "\n",
    "### ID VIP tienen los 12 pagos C en un año  \n",
    "\n",
    "for key, value in contador_C.items() :\n",
    "    if contador_C[key] > 11 :\n",
    "        prueba = [] \n",
    "        prueba = [key]\n",
    "        ID_vip_r.append(prueba)"
   ]
  },
  {
   "cell_type": "code",
   "execution_count": 51,
   "metadata": {},
   "outputs": [
    {
     "data": {
      "text/plain": [
       "(2023, 8283, 24672)"
      ]
     },
     "execution_count": 51,
     "metadata": {},
     "output_type": "execute_result"
    }
   ],
   "source": [
    "len(ID_malo_r), len(ID_vip_r), len(tupla_index) # La diferencia entre el total = 24,672 y la suma de ID_malo_r y ID_vip_r son los regulares"
   ]
  },
  {
   "cell_type": "code",
   "execution_count": 52,
   "metadata": {},
   "outputs": [
    {
     "data": {
      "text/plain": [
       "(399, 8283, 24672)"
      ]
     },
     "execution_count": 52,
     "metadata": {},
     "output_type": "execute_result"
    }
   ],
   "source": [
    "(399, 8283, 24672)"
   ]
  },
  {
   "cell_type": "code",
   "execution_count": 53,
   "metadata": {},
   "outputs": [],
   "source": [
    "#Lista total\n",
    "\n",
    "dic_ID_todos = dict(tupla_index)\n",
    "ID_todos_r = list(dic_ID_todos.keys())"
   ]
  },
  {
   "cell_type": "code",
   "execution_count": 54,
   "metadata": {},
   "outputs": [],
   "source": [
    "#Quitar repetidos\n",
    "\n",
    "ID_malo = []\n",
    "for i in ID_malo_r:\n",
    "    if i not in ID_malo:\n",
    "        ID_malo.append(i)\n",
    "\n",
    "ID_vip = []\n",
    "for i in ID_vip_r:\n",
    "    if i not in ID_vip:\n",
    "        ID_vip.append(i)\n",
    "\n",
    "\n",
    "ID_todos = []\n",
    "for i in ID_todos_r:\n",
    "    if i not in ID_todos:\n",
    "        ID_todos.append(i)\n",
    "  "
   ]
  },
  {
   "cell_type": "code",
   "execution_count": 55,
   "metadata": {},
   "outputs": [
    {
     "data": {
      "text/plain": [
       "(2023, 1740, 8283, 8283, 24672, 24672)"
      ]
     },
     "execution_count": 55,
     "metadata": {},
     "output_type": "execute_result"
    }
   ],
   "source": [
    "len(ID_malo_r), len(ID_malo), len(ID_vip_r), len(ID_vip), len(ID_todos_r), len(ID_todos)"
   ]
  },
  {
   "cell_type": "markdown",
   "metadata": {},
   "source": [
    "#### Crear lista ID Regular"
   ]
  },
  {
   "cell_type": "code",
   "execution_count": 56,
   "metadata": {},
   "outputs": [],
   "source": [
    "# Quitar del total a los ID definidos como malos del total\n",
    "\n",
    "list_1 = ID_malo\n",
    "list_2 = ID_todos\n",
    "\n",
    "for element in list_1:\n",
    "    if element in list_2:\n",
    "        list_2.remove(element)\n",
    "\n",
    "ID_regulares_1 = list_2\n",
    "\n"
   ]
  },
  {
   "cell_type": "code",
   "execution_count": 57,
   "metadata": {},
   "outputs": [],
   "source": [
    "# Quitar del total anterior los ID definidos como VIP\n",
    "\n",
    "list_1 = ID_vip\n",
    "list_2 = ID_regulares_1\n",
    "\n",
    "for element in list_1:\n",
    "    if element in list_2:\n",
    "        list_2.remove(element)\n",
    "\n",
    "ID_regulares = list_2"
   ]
  },
  {
   "cell_type": "code",
   "execution_count": 58,
   "metadata": {},
   "outputs": [
    {
     "data": {
      "text/plain": [
       "24854"
      ]
     },
     "execution_count": 58,
     "metadata": {},
     "output_type": "execute_result"
    }
   ],
   "source": [
    "len(ID_malo) + len(ID_vip) + len(ID_regulares)"
   ]
  },
  {
   "cell_type": "code",
   "execution_count": 59,
   "metadata": {},
   "outputs": [
    {
     "data": {
      "text/plain": [
       "0"
      ]
     },
     "execution_count": 59,
     "metadata": {},
     "output_type": "execute_result"
    }
   ],
   "source": [
    "# Comprobación de no repetidos\n",
    "len([x for x in ID_regulares if x in ID_malo])"
   ]
  },
  {
   "cell_type": "code",
   "execution_count": 60,
   "metadata": {},
   "outputs": [
    {
     "data": {
      "text/plain": [
       "0"
      ]
     },
     "execution_count": 60,
     "metadata": {},
     "output_type": "execute_result"
    }
   ],
   "source": [
    "## Comprobación de no repetidos\n",
    "len([x for x in ID_regulares if x in ID_vip])"
   ]
  },
  {
   "cell_type": "markdown",
   "metadata": {},
   "source": [
    "### Convertir listas Malo Regular y VIP a Data Frame"
   ]
  },
  {
   "cell_type": "markdown",
   "metadata": {},
   "source": [
    "#### Limpieza de data frame total y listas de clientes"
   ]
  },
  {
   "cell_type": "code",
   "execution_count": 61,
   "metadata": {},
   "outputs": [
    {
     "data": {
      "text/html": [
       "<div>\n",
       "<style scoped>\n",
       "    .dataframe tbody tr th:only-of-type {\n",
       "        vertical-align: middle;\n",
       "    }\n",
       "\n",
       "    .dataframe tbody tr th {\n",
       "        vertical-align: top;\n",
       "    }\n",
       "\n",
       "    .dataframe thead th {\n",
       "        text-align: right;\n",
       "    }\n",
       "</style>\n",
       "<table border=\"1\" class=\"dataframe\">\n",
       "  <thead>\n",
       "    <tr style=\"text-align: right;\">\n",
       "      <th></th>\n",
       "      <th>ID</th>\n",
       "      <th>CODE_GENDER</th>\n",
       "      <th>FLAG_OWN_CAR</th>\n",
       "      <th>FLAG_OWN_REALTY</th>\n",
       "      <th>CNT_CHILDREN</th>\n",
       "      <th>AMT_INCOME_TOTAL</th>\n",
       "      <th>NAME_INCOME_TYPE</th>\n",
       "      <th>NAME_EDUCATION_TYPE</th>\n",
       "      <th>NAME_FAMILY_STATUS</th>\n",
       "      <th>NAME_HOUSING_TYPE</th>\n",
       "      <th>YEARS_BIRTH</th>\n",
       "      <th>YEARS_EMPLOYED</th>\n",
       "      <th>FLAG_MOBIL</th>\n",
       "      <th>FLAG_WORK_PHONE</th>\n",
       "      <th>FLAG_PHONE</th>\n",
       "      <th>FLAG_EMAIL</th>\n",
       "      <th>OCCUPATION_TYPE</th>\n",
       "      <th>CNT_FAM_MEMBERS</th>\n",
       "    </tr>\n",
       "  </thead>\n",
       "  <tbody>\n",
       "    <tr>\n",
       "      <th>0</th>\n",
       "      <td>5008804</td>\n",
       "      <td>M</td>\n",
       "      <td>Y</td>\n",
       "      <td>Y</td>\n",
       "      <td>0</td>\n",
       "      <td>427500.0</td>\n",
       "      <td>Working</td>\n",
       "      <td>Higher education</td>\n",
       "      <td>Civil marriage</td>\n",
       "      <td>Rented apartment</td>\n",
       "      <td>32.89</td>\n",
       "      <td>12.44</td>\n",
       "      <td>1</td>\n",
       "      <td>1</td>\n",
       "      <td>0</td>\n",
       "      <td>0</td>\n",
       "      <td>NaN</td>\n",
       "      <td>2.0</td>\n",
       "    </tr>\n",
       "    <tr>\n",
       "      <th>16</th>\n",
       "      <td>5008805</td>\n",
       "      <td>M</td>\n",
       "      <td>Y</td>\n",
       "      <td>Y</td>\n",
       "      <td>0</td>\n",
       "      <td>427500.0</td>\n",
       "      <td>Working</td>\n",
       "      <td>Higher education</td>\n",
       "      <td>Civil marriage</td>\n",
       "      <td>Rented apartment</td>\n",
       "      <td>32.89</td>\n",
       "      <td>12.44</td>\n",
       "      <td>1</td>\n",
       "      <td>1</td>\n",
       "      <td>0</td>\n",
       "      <td>0</td>\n",
       "      <td>NaN</td>\n",
       "      <td>2.0</td>\n",
       "    </tr>\n",
       "    <tr>\n",
       "      <th>31</th>\n",
       "      <td>5008806</td>\n",
       "      <td>M</td>\n",
       "      <td>Y</td>\n",
       "      <td>Y</td>\n",
       "      <td>0</td>\n",
       "      <td>112500.0</td>\n",
       "      <td>Working</td>\n",
       "      <td>Secondary / secondary special</td>\n",
       "      <td>Married</td>\n",
       "      <td>House / apartment</td>\n",
       "      <td>58.83</td>\n",
       "      <td>3.11</td>\n",
       "      <td>1</td>\n",
       "      <td>0</td>\n",
       "      <td>0</td>\n",
       "      <td>0</td>\n",
       "      <td>Security staff</td>\n",
       "      <td>2.0</td>\n",
       "    </tr>\n",
       "    <tr>\n",
       "      <th>61</th>\n",
       "      <td>5008808</td>\n",
       "      <td>F</td>\n",
       "      <td>N</td>\n",
       "      <td>Y</td>\n",
       "      <td>0</td>\n",
       "      <td>270000.0</td>\n",
       "      <td>Commercial associate</td>\n",
       "      <td>Secondary / secondary special</td>\n",
       "      <td>Single / not married</td>\n",
       "      <td>House / apartment</td>\n",
       "      <td>52.36</td>\n",
       "      <td>8.36</td>\n",
       "      <td>1</td>\n",
       "      <td>0</td>\n",
       "      <td>1</td>\n",
       "      <td>1</td>\n",
       "      <td>Sales staff</td>\n",
       "      <td>1.0</td>\n",
       "    </tr>\n",
       "    <tr>\n",
       "      <th>66</th>\n",
       "      <td>5008809</td>\n",
       "      <td>F</td>\n",
       "      <td>N</td>\n",
       "      <td>Y</td>\n",
       "      <td>0</td>\n",
       "      <td>270000.0</td>\n",
       "      <td>Commercial associate</td>\n",
       "      <td>Secondary / secondary special</td>\n",
       "      <td>Single / not married</td>\n",
       "      <td>House / apartment</td>\n",
       "      <td>52.36</td>\n",
       "      <td>8.36</td>\n",
       "      <td>1</td>\n",
       "      <td>0</td>\n",
       "      <td>1</td>\n",
       "      <td>1</td>\n",
       "      <td>Sales staff</td>\n",
       "      <td>1.0</td>\n",
       "    </tr>\n",
       "  </tbody>\n",
       "</table>\n",
       "</div>"
      ],
      "text/plain": [
       "         ID CODE_GENDER FLAG_OWN_CAR FLAG_OWN_REALTY  CNT_CHILDREN  \\\n",
       "0   5008804           M            Y               Y             0   \n",
       "16  5008805           M            Y               Y             0   \n",
       "31  5008806           M            Y               Y             0   \n",
       "61  5008808           F            N               Y             0   \n",
       "66  5008809           F            N               Y             0   \n",
       "\n",
       "    AMT_INCOME_TOTAL      NAME_INCOME_TYPE            NAME_EDUCATION_TYPE  \\\n",
       "0           427500.0               Working               Higher education   \n",
       "16          427500.0               Working               Higher education   \n",
       "31          112500.0               Working  Secondary / secondary special   \n",
       "61          270000.0  Commercial associate  Secondary / secondary special   \n",
       "66          270000.0  Commercial associate  Secondary / secondary special   \n",
       "\n",
       "      NAME_FAMILY_STATUS  NAME_HOUSING_TYPE  YEARS_BIRTH  YEARS_EMPLOYED  \\\n",
       "0         Civil marriage   Rented apartment        32.89           12.44   \n",
       "16        Civil marriage   Rented apartment        32.89           12.44   \n",
       "31               Married  House / apartment        58.83            3.11   \n",
       "61  Single / not married  House / apartment        52.36            8.36   \n",
       "66  Single / not married  House / apartment        52.36            8.36   \n",
       "\n",
       "    FLAG_MOBIL  FLAG_WORK_PHONE  FLAG_PHONE  FLAG_EMAIL OCCUPATION_TYPE  \\\n",
       "0            1                1           0           0             NaN   \n",
       "16           1                1           0           0             NaN   \n",
       "31           1                0           0           0  Security staff   \n",
       "61           1                0           1           1     Sales staff   \n",
       "66           1                0           1           1     Sales staff   \n",
       "\n",
       "    CNT_FAM_MEMBERS  \n",
       "0               2.0  \n",
       "16              2.0  \n",
       "31              2.0  \n",
       "61              1.0  \n",
       "66              1.0  "
      ]
     },
     "execution_count": 61,
     "metadata": {},
     "output_type": "execute_result"
    }
   ],
   "source": [
    "# Se eliminan todos los ID duplicados del dfAll\n",
    "# Se eliminan todos los STATUS ya que serán divididos por ese grupo y Months Balance al no depender del tiempo\n",
    "\n",
    "dfAll_m = dfAll.drop_duplicates( subset= ['ID'] , keep='first')\n",
    "dfAll_m = dfAll_m.drop(['Unnamed: 0','STATUS', 'MONTHS_BALANCE'], axis = 1)\n",
    "dfAll_m.head()"
   ]
  },
  {
   "cell_type": "code",
   "execution_count": 62,
   "metadata": {},
   "outputs": [
    {
     "data": {
      "text/plain": [
       "count    36457.000000\n",
       "mean      -162.364823\n",
       "std        377.128577\n",
       "min      -1000.670000\n",
       "25%          1.120000\n",
       "50%          4.250000\n",
       "75%          8.640000\n",
       "max         43.050000\n",
       "Name: YEARS_EMPLOYED, dtype: float64"
      ]
     },
     "execution_count": 62,
     "metadata": {},
     "output_type": "execute_result"
    }
   ],
   "source": [
    "# Se verifica valor a eliminar =  YEARS_EMPLOYED negativos\n",
    "dfAll_m['YEARS_EMPLOYED'].describe()"
   ]
  },
  {
   "cell_type": "code",
   "execution_count": 63,
   "metadata": {},
   "outputs": [],
   "source": [
    "# Verificador index lista\n",
    "\n",
    "clientes_malos = pd.DataFrame(ID_malo)\n",
    "clientes_regulares = pd.DataFrame(ID_regulares)\n",
    "clientes_vip = pd.DataFrame(ID_vip)"
   ]
  },
  {
   "cell_type": "code",
   "execution_count": 64,
   "metadata": {},
   "outputs": [
    {
     "data": {
      "text/plain": [
       "pandas.core.frame.DataFrame"
      ]
     },
     "execution_count": 64,
     "metadata": {},
     "output_type": "execute_result"
    }
   ],
   "source": [
    "type(clientes_malos)"
   ]
  },
  {
   "cell_type": "code",
   "execution_count": 65,
   "metadata": {},
   "outputs": [
    {
     "data": {
      "text/html": [
       "<div>\n",
       "<style scoped>\n",
       "    .dataframe tbody tr th:only-of-type {\n",
       "        vertical-align: middle;\n",
       "    }\n",
       "\n",
       "    .dataframe tbody tr th {\n",
       "        vertical-align: top;\n",
       "    }\n",
       "\n",
       "    .dataframe thead th {\n",
       "        text-align: right;\n",
       "    }\n",
       "</style>\n",
       "<table border=\"1\" class=\"dataframe\">\n",
       "  <thead>\n",
       "    <tr style=\"text-align: right;\">\n",
       "      <th></th>\n",
       "      <th>0</th>\n",
       "    </tr>\n",
       "  </thead>\n",
       "  <tbody>\n",
       "    <tr>\n",
       "      <th>0</th>\n",
       "      <td>5018501</td>\n",
       "    </tr>\n",
       "    <tr>\n",
       "      <th>1</th>\n",
       "      <td>5021431</td>\n",
       "    </tr>\n",
       "    <tr>\n",
       "      <th>2</th>\n",
       "      <td>5038807</td>\n",
       "    </tr>\n",
       "    <tr>\n",
       "      <th>3</th>\n",
       "      <td>5053254</td>\n",
       "    </tr>\n",
       "    <tr>\n",
       "      <th>4</th>\n",
       "      <td>5061360</td>\n",
       "    </tr>\n",
       "    <tr>\n",
       "      <th>...</th>\n",
       "      <td>...</td>\n",
       "    </tr>\n",
       "    <tr>\n",
       "      <th>1735</th>\n",
       "      <td>5146302</td>\n",
       "    </tr>\n",
       "    <tr>\n",
       "      <th>1736</th>\n",
       "      <td>5146473</td>\n",
       "    </tr>\n",
       "    <tr>\n",
       "      <th>1737</th>\n",
       "      <td>5148990</td>\n",
       "    </tr>\n",
       "    <tr>\n",
       "      <th>1738</th>\n",
       "      <td>5149119</td>\n",
       "    </tr>\n",
       "    <tr>\n",
       "      <th>1739</th>\n",
       "      <td>5149479</td>\n",
       "    </tr>\n",
       "  </tbody>\n",
       "</table>\n",
       "<p>1740 rows × 1 columns</p>\n",
       "</div>"
      ],
      "text/plain": [
       "            0\n",
       "0     5018501\n",
       "1     5021431\n",
       "2     5038807\n",
       "3     5053254\n",
       "4     5061360\n",
       "...       ...\n",
       "1735  5146302\n",
       "1736  5146473\n",
       "1737  5148990\n",
       "1738  5149119\n",
       "1739  5149479\n",
       "\n",
       "[1740 rows x 1 columns]"
      ]
     },
     "execution_count": 65,
     "metadata": {},
     "output_type": "execute_result"
    }
   ],
   "source": [
    "clientes_malos"
   ]
  },
  {
   "cell_type": "code",
   "execution_count": 66,
   "metadata": {},
   "outputs": [
    {
     "data": {
      "text/plain": [
       "0       5018501\n",
       "1       5021431\n",
       "2       5038807\n",
       "3       5053254\n",
       "4       5061360\n",
       "         ...   \n",
       "1735    5146302\n",
       "1736    5146473\n",
       "1737    5148990\n",
       "1738    5149119\n",
       "1739    5149479\n",
       "Name: 0, Length: 1740, dtype: int64"
      ]
     },
     "execution_count": 66,
     "metadata": {},
     "output_type": "execute_result"
    }
   ],
   "source": [
    "clientes_malos[0]"
   ]
  },
  {
   "cell_type": "markdown",
   "metadata": {},
   "source": [
    "#### Crear data frame de clientes malo, regular y vip"
   ]
  },
  {
   "cell_type": "code",
   "execution_count": 67,
   "metadata": {},
   "outputs": [],
   "source": [
    "# Listas de clientes y reseteo de index\n",
    "\n",
    "df_clientes_malos = dfAll_m.set_index('ID').loc[clientes_malos[0]].reset_index(inplace=False)\n",
    "df_clientes_regulares = dfAll_m.set_index('ID').loc[clientes_regulares[0]].reset_index(inplace=False)\n",
    "df_clientes_vip = dfAll_m.set_index('ID').loc[clientes_vip[0]].reset_index(inplace=False)"
   ]
  },
  {
   "cell_type": "code",
   "execution_count": 68,
   "metadata": {},
   "outputs": [
    {
     "data": {
      "text/html": [
       "<div>\n",
       "<style scoped>\n",
       "    .dataframe tbody tr th:only-of-type {\n",
       "        vertical-align: middle;\n",
       "    }\n",
       "\n",
       "    .dataframe tbody tr th {\n",
       "        vertical-align: top;\n",
       "    }\n",
       "\n",
       "    .dataframe thead th {\n",
       "        text-align: right;\n",
       "    }\n",
       "</style>\n",
       "<table border=\"1\" class=\"dataframe\">\n",
       "  <thead>\n",
       "    <tr style=\"text-align: right;\">\n",
       "      <th></th>\n",
       "      <th>ID</th>\n",
       "      <th>CODE_GENDER</th>\n",
       "      <th>FLAG_OWN_CAR</th>\n",
       "      <th>FLAG_OWN_REALTY</th>\n",
       "      <th>CNT_CHILDREN</th>\n",
       "      <th>AMT_INCOME_TOTAL</th>\n",
       "      <th>NAME_INCOME_TYPE</th>\n",
       "      <th>NAME_EDUCATION_TYPE</th>\n",
       "      <th>NAME_FAMILY_STATUS</th>\n",
       "      <th>NAME_HOUSING_TYPE</th>\n",
       "      <th>YEARS_BIRTH</th>\n",
       "      <th>YEARS_EMPLOYED</th>\n",
       "      <th>FLAG_MOBIL</th>\n",
       "      <th>FLAG_WORK_PHONE</th>\n",
       "      <th>FLAG_PHONE</th>\n",
       "      <th>FLAG_EMAIL</th>\n",
       "      <th>OCCUPATION_TYPE</th>\n",
       "      <th>CNT_FAM_MEMBERS</th>\n",
       "    </tr>\n",
       "  </thead>\n",
       "  <tbody>\n",
       "    <tr>\n",
       "      <th>0</th>\n",
       "      <td>5018501</td>\n",
       "      <td>F</td>\n",
       "      <td>Y</td>\n",
       "      <td>Y</td>\n",
       "      <td>0</td>\n",
       "      <td>90000.0</td>\n",
       "      <td>Working</td>\n",
       "      <td>Secondary / secondary special</td>\n",
       "      <td>Married</td>\n",
       "      <td>House / apartment</td>\n",
       "      <td>51.92</td>\n",
       "      <td>2.75</td>\n",
       "      <td>1</td>\n",
       "      <td>1</td>\n",
       "      <td>1</td>\n",
       "      <td>0</td>\n",
       "      <td>Cooking staff</td>\n",
       "      <td>2.0</td>\n",
       "    </tr>\n",
       "    <tr>\n",
       "      <th>1</th>\n",
       "      <td>5021431</td>\n",
       "      <td>F</td>\n",
       "      <td>N</td>\n",
       "      <td>Y</td>\n",
       "      <td>0</td>\n",
       "      <td>126000.0</td>\n",
       "      <td>Commercial associate</td>\n",
       "      <td>Higher education</td>\n",
       "      <td>Single / not married</td>\n",
       "      <td>House / apartment</td>\n",
       "      <td>51.80</td>\n",
       "      <td>6.77</td>\n",
       "      <td>1</td>\n",
       "      <td>0</td>\n",
       "      <td>0</td>\n",
       "      <td>0</td>\n",
       "      <td>Sales staff</td>\n",
       "      <td>1.0</td>\n",
       "    </tr>\n",
       "    <tr>\n",
       "      <th>2</th>\n",
       "      <td>5038807</td>\n",
       "      <td>M</td>\n",
       "      <td>Y</td>\n",
       "      <td>Y</td>\n",
       "      <td>0</td>\n",
       "      <td>202500.0</td>\n",
       "      <td>Commercial associate</td>\n",
       "      <td>Higher education</td>\n",
       "      <td>Married</td>\n",
       "      <td>House / apartment</td>\n",
       "      <td>34.68</td>\n",
       "      <td>14.72</td>\n",
       "      <td>1</td>\n",
       "      <td>0</td>\n",
       "      <td>0</td>\n",
       "      <td>1</td>\n",
       "      <td>Laborers</td>\n",
       "      <td>2.0</td>\n",
       "    </tr>\n",
       "    <tr>\n",
       "      <th>3</th>\n",
       "      <td>5053254</td>\n",
       "      <td>F</td>\n",
       "      <td>Y</td>\n",
       "      <td>Y</td>\n",
       "      <td>0</td>\n",
       "      <td>180000.0</td>\n",
       "      <td>Commercial associate</td>\n",
       "      <td>Secondary / secondary special</td>\n",
       "      <td>Married</td>\n",
       "      <td>House / apartment</td>\n",
       "      <td>51.14</td>\n",
       "      <td>5.89</td>\n",
       "      <td>1</td>\n",
       "      <td>1</td>\n",
       "      <td>0</td>\n",
       "      <td>0</td>\n",
       "      <td>Managers</td>\n",
       "      <td>2.0</td>\n",
       "    </tr>\n",
       "    <tr>\n",
       "      <th>4</th>\n",
       "      <td>5061360</td>\n",
       "      <td>M</td>\n",
       "      <td>N</td>\n",
       "      <td>Y</td>\n",
       "      <td>0</td>\n",
       "      <td>65250.0</td>\n",
       "      <td>Pensioner</td>\n",
       "      <td>Higher education</td>\n",
       "      <td>Married</td>\n",
       "      <td>House / apartment</td>\n",
       "      <td>57.18</td>\n",
       "      <td>-1000.67</td>\n",
       "      <td>1</td>\n",
       "      <td>0</td>\n",
       "      <td>0</td>\n",
       "      <td>0</td>\n",
       "      <td>NaN</td>\n",
       "      <td>2.0</td>\n",
       "    </tr>\n",
       "    <tr>\n",
       "      <th>...</th>\n",
       "      <td>...</td>\n",
       "      <td>...</td>\n",
       "      <td>...</td>\n",
       "      <td>...</td>\n",
       "      <td>...</td>\n",
       "      <td>...</td>\n",
       "      <td>...</td>\n",
       "      <td>...</td>\n",
       "      <td>...</td>\n",
       "      <td>...</td>\n",
       "      <td>...</td>\n",
       "      <td>...</td>\n",
       "      <td>...</td>\n",
       "      <td>...</td>\n",
       "      <td>...</td>\n",
       "      <td>...</td>\n",
       "      <td>...</td>\n",
       "      <td>...</td>\n",
       "    </tr>\n",
       "    <tr>\n",
       "      <th>1735</th>\n",
       "      <td>5146302</td>\n",
       "      <td>M</td>\n",
       "      <td>N</td>\n",
       "      <td>Y</td>\n",
       "      <td>0</td>\n",
       "      <td>270000.0</td>\n",
       "      <td>Commercial associate</td>\n",
       "      <td>Secondary / secondary special</td>\n",
       "      <td>Married</td>\n",
       "      <td>House / apartment</td>\n",
       "      <td>46.74</td>\n",
       "      <td>1.27</td>\n",
       "      <td>1</td>\n",
       "      <td>0</td>\n",
       "      <td>0</td>\n",
       "      <td>0</td>\n",
       "      <td>Laborers</td>\n",
       "      <td>2.0</td>\n",
       "    </tr>\n",
       "    <tr>\n",
       "      <th>1736</th>\n",
       "      <td>5146473</td>\n",
       "      <td>F</td>\n",
       "      <td>Y</td>\n",
       "      <td>Y</td>\n",
       "      <td>0</td>\n",
       "      <td>180000.0</td>\n",
       "      <td>Commercial associate</td>\n",
       "      <td>Higher education</td>\n",
       "      <td>Civil marriage</td>\n",
       "      <td>House / apartment</td>\n",
       "      <td>38.72</td>\n",
       "      <td>10.44</td>\n",
       "      <td>1</td>\n",
       "      <td>0</td>\n",
       "      <td>0</td>\n",
       "      <td>0</td>\n",
       "      <td>Sales staff</td>\n",
       "      <td>2.0</td>\n",
       "    </tr>\n",
       "    <tr>\n",
       "      <th>1737</th>\n",
       "      <td>5148990</td>\n",
       "      <td>M</td>\n",
       "      <td>Y</td>\n",
       "      <td>Y</td>\n",
       "      <td>0</td>\n",
       "      <td>112500.0</td>\n",
       "      <td>Working</td>\n",
       "      <td>Secondary / secondary special</td>\n",
       "      <td>Married</td>\n",
       "      <td>House / apartment</td>\n",
       "      <td>32.38</td>\n",
       "      <td>3.21</td>\n",
       "      <td>1</td>\n",
       "      <td>0</td>\n",
       "      <td>0</td>\n",
       "      <td>1</td>\n",
       "      <td>Security staff</td>\n",
       "      <td>2.0</td>\n",
       "    </tr>\n",
       "    <tr>\n",
       "      <th>1738</th>\n",
       "      <td>5149119</td>\n",
       "      <td>F</td>\n",
       "      <td>N</td>\n",
       "      <td>Y</td>\n",
       "      <td>0</td>\n",
       "      <td>360000.0</td>\n",
       "      <td>Working</td>\n",
       "      <td>Higher education</td>\n",
       "      <td>Separated</td>\n",
       "      <td>House / apartment</td>\n",
       "      <td>51.78</td>\n",
       "      <td>23.39</td>\n",
       "      <td>1</td>\n",
       "      <td>0</td>\n",
       "      <td>1</td>\n",
       "      <td>0</td>\n",
       "      <td>Managers</td>\n",
       "      <td>1.0</td>\n",
       "    </tr>\n",
       "    <tr>\n",
       "      <th>1739</th>\n",
       "      <td>5149479</td>\n",
       "      <td>F</td>\n",
       "      <td>Y</td>\n",
       "      <td>Y</td>\n",
       "      <td>1</td>\n",
       "      <td>135000.0</td>\n",
       "      <td>Commercial associate</td>\n",
       "      <td>Higher education</td>\n",
       "      <td>Married</td>\n",
       "      <td>House / apartment</td>\n",
       "      <td>30.90</td>\n",
       "      <td>6.80</td>\n",
       "      <td>1</td>\n",
       "      <td>0</td>\n",
       "      <td>0</td>\n",
       "      <td>0</td>\n",
       "      <td>NaN</td>\n",
       "      <td>3.0</td>\n",
       "    </tr>\n",
       "  </tbody>\n",
       "</table>\n",
       "<p>1740 rows × 18 columns</p>\n",
       "</div>"
      ],
      "text/plain": [
       "           ID CODE_GENDER FLAG_OWN_CAR FLAG_OWN_REALTY  CNT_CHILDREN  \\\n",
       "0     5018501           F            Y               Y             0   \n",
       "1     5021431           F            N               Y             0   \n",
       "2     5038807           M            Y               Y             0   \n",
       "3     5053254           F            Y               Y             0   \n",
       "4     5061360           M            N               Y             0   \n",
       "...       ...         ...          ...             ...           ...   \n",
       "1735  5146302           M            N               Y             0   \n",
       "1736  5146473           F            Y               Y             0   \n",
       "1737  5148990           M            Y               Y             0   \n",
       "1738  5149119           F            N               Y             0   \n",
       "1739  5149479           F            Y               Y             1   \n",
       "\n",
       "      AMT_INCOME_TOTAL      NAME_INCOME_TYPE            NAME_EDUCATION_TYPE  \\\n",
       "0              90000.0               Working  Secondary / secondary special   \n",
       "1             126000.0  Commercial associate               Higher education   \n",
       "2             202500.0  Commercial associate               Higher education   \n",
       "3             180000.0  Commercial associate  Secondary / secondary special   \n",
       "4              65250.0             Pensioner               Higher education   \n",
       "...                ...                   ...                            ...   \n",
       "1735          270000.0  Commercial associate  Secondary / secondary special   \n",
       "1736          180000.0  Commercial associate               Higher education   \n",
       "1737          112500.0               Working  Secondary / secondary special   \n",
       "1738          360000.0               Working               Higher education   \n",
       "1739          135000.0  Commercial associate               Higher education   \n",
       "\n",
       "        NAME_FAMILY_STATUS  NAME_HOUSING_TYPE  YEARS_BIRTH  YEARS_EMPLOYED  \\\n",
       "0                  Married  House / apartment        51.92            2.75   \n",
       "1     Single / not married  House / apartment        51.80            6.77   \n",
       "2                  Married  House / apartment        34.68           14.72   \n",
       "3                  Married  House / apartment        51.14            5.89   \n",
       "4                  Married  House / apartment        57.18        -1000.67   \n",
       "...                    ...                ...          ...             ...   \n",
       "1735               Married  House / apartment        46.74            1.27   \n",
       "1736        Civil marriage  House / apartment        38.72           10.44   \n",
       "1737               Married  House / apartment        32.38            3.21   \n",
       "1738             Separated  House / apartment        51.78           23.39   \n",
       "1739               Married  House / apartment        30.90            6.80   \n",
       "\n",
       "      FLAG_MOBIL  FLAG_WORK_PHONE  FLAG_PHONE  FLAG_EMAIL OCCUPATION_TYPE  \\\n",
       "0              1                1           1           0   Cooking staff   \n",
       "1              1                0           0           0     Sales staff   \n",
       "2              1                0           0           1        Laborers   \n",
       "3              1                1           0           0        Managers   \n",
       "4              1                0           0           0             NaN   \n",
       "...          ...              ...         ...         ...             ...   \n",
       "1735           1                0           0           0        Laborers   \n",
       "1736           1                0           0           0     Sales staff   \n",
       "1737           1                0           0           1  Security staff   \n",
       "1738           1                0           1           0        Managers   \n",
       "1739           1                0           0           0             NaN   \n",
       "\n",
       "      CNT_FAM_MEMBERS  \n",
       "0                 2.0  \n",
       "1                 1.0  \n",
       "2                 2.0  \n",
       "3                 2.0  \n",
       "4                 2.0  \n",
       "...               ...  \n",
       "1735              2.0  \n",
       "1736              2.0  \n",
       "1737              2.0  \n",
       "1738              1.0  \n",
       "1739              3.0  \n",
       "\n",
       "[1740 rows x 18 columns]"
      ]
     },
     "execution_count": 68,
     "metadata": {},
     "output_type": "execute_result"
    }
   ],
   "source": [
    "df_clientes_malos"
   ]
  },
  {
   "cell_type": "code",
   "execution_count": 69,
   "metadata": {},
   "outputs": [
    {
     "data": {
      "text/plain": [
       "((1740, 18), (14831, 18), (8283, 18))"
      ]
     },
     "execution_count": 69,
     "metadata": {},
     "output_type": "execute_result"
    }
   ],
   "source": [
    "df_clientes_malos.shape , df_clientes_regulares.shape , df_clientes_vip.shape"
   ]
  },
  {
   "cell_type": "code",
   "execution_count": 70,
   "metadata": {},
   "outputs": [],
   "source": [
    "# Para YEARS_EMPLOYED, se seleccionaron solamente los datos positivos, \n",
    "# dejando fuera a los jubilados debido a las inconsistencias entre los registros\n",
    "\n",
    "df_clientes_malos= df_clientes_malos.drop(df_clientes_malos.index[df_clientes_malos['YEARS_EMPLOYED']<0])\n",
    "df_clientes_regulares= df_clientes_regulares.drop(df_clientes_regulares.index[df_clientes_regulares['YEARS_EMPLOYED']<0])\n",
    "df_clientes_vip= df_clientes_vip.drop(df_clientes_vip.index[df_clientes_vip['YEARS_EMPLOYED']<0])"
   ]
  },
  {
   "cell_type": "code",
   "execution_count": 71,
   "metadata": {},
   "outputs": [
    {
     "data": {
      "text/plain": [
       "((1503, 18), (12286, 18), (6909, 18))"
      ]
     },
     "execution_count": 71,
     "metadata": {},
     "output_type": "execute_result"
    }
   ],
   "source": [
    "df_clientes_malos.shape , df_clientes_regulares.shape , df_clientes_vip.shape"
   ]
  },
  {
   "cell_type": "markdown",
   "metadata": {},
   "source": [
    "### Salvar Data Frames Malo Regular y VIP a Data Frame"
   ]
  },
  {
   "cell_type": "code",
   "execution_count": 72,
   "metadata": {},
   "outputs": [
    {
     "data": {
      "text/plain": [
       "'/Users/yairmartinez/Documents/GitHub/data_analysis_exercises/DB/Tablas/df_STATUSm/dfm_clientes_vip.csv'"
      ]
     },
     "execution_count": 72,
     "metadata": {},
     "output_type": "execute_result"
    }
   ],
   "source": [
    "df_clientes_malos.to_csv('dfm_clientes_malos.csv', index=False)\n",
    "df_clientes_regulares.to_csv('dfm_clientes_regulares.csv', index=False)\n",
    "df_clientes_vip.to_csv('dfm_clientes_vip.csv', index=False)\n",
    "\n",
    "pos1= '/Users/yairmartinez/Documents/GitHub/data_analysis_exercises/KPI_exercise/dfm_clientes_malos.csv'\n",
    "pos11= '/Users/yairmartinez/Documents/GitHub/data_analysis_exercises/DB/Tablas/df_STATUSm/dfm_clientes_malos.csv'\n",
    "\n",
    "pos2= '/Users/yairmartinez/Documents/GitHub/data_analysis_exercises/KPI_exercise/dfm_clientes_regulares.csv'\n",
    "pos22= '/Users/yairmartinez/Documents/GitHub/data_analysis_exercises/DB/Tablas/df_STATUSm/dfm_clientes_regulares.csv'\n",
    "\n",
    "pos3= '/Users/yairmartinez/Documents/GitHub/data_analysis_exercises/KPI_exercise/dfm_clientes_vip.csv'\n",
    "pos33= '/Users/yairmartinez/Documents/GitHub/data_analysis_exercises/DB/Tablas/df_STATUSm/dfm_clientes_vip.csv'\n",
    "\n",
    "shutil.move(pos1,pos11)\n",
    "shutil.move(pos2,pos22)\n",
    "shutil.move(pos3,pos33)"
   ]
  }
 ],
 "metadata": {
  "kernelspec": {
   "display_name": "Python 3.10.5 64-bit",
   "language": "python",
   "name": "python3"
  },
  "language_info": {
   "codemirror_mode": {
    "name": "ipython",
    "version": 3
   },
   "file_extension": ".py",
   "mimetype": "text/x-python",
   "name": "python",
   "nbconvert_exporter": "python",
   "pygments_lexer": "ipython3",
   "version": "3.10.5"
  },
  "orig_nbformat": 4,
  "vscode": {
   "interpreter": {
    "hash": "aee8b7b246df8f9039afb4144a1f6fd8d2ca17a180786b69acc140d282b71a49"
   }
  }
 },
 "nbformat": 4,
 "nbformat_minor": 2
}
