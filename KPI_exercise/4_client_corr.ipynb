{
 "cells": [
  {
   "cell_type": "code",
   "execution_count": 28,
   "metadata": {},
   "outputs": [],
   "source": [
    "import pandas as pd\n",
    "import numpy as np\n",
    "from collections import Counter\n",
    "from itertools import chain\n",
    "import shutil\n",
    "import seaborn as sns\n",
    "import matplotlib.pyplot as plt"
   ]
  },
  {
   "cell_type": "code",
   "execution_count": 29,
   "metadata": {},
   "outputs": [
    {
     "data": {
      "text/html": [
       "<div>\n",
       "<style scoped>\n",
       "    .dataframe tbody tr th:only-of-type {\n",
       "        vertical-align: middle;\n",
       "    }\n",
       "\n",
       "    .dataframe tbody tr th {\n",
       "        vertical-align: top;\n",
       "    }\n",
       "\n",
       "    .dataframe thead th {\n",
       "        text-align: right;\n",
       "    }\n",
       "</style>\n",
       "<table border=\"1\" class=\"dataframe\">\n",
       "  <thead>\n",
       "    <tr style=\"text-align: right;\">\n",
       "      <th></th>\n",
       "      <th>ID</th>\n",
       "      <th>CODE_GENDER</th>\n",
       "      <th>FLAG_OWN_CAR</th>\n",
       "      <th>FLAG_OWN_REALTY</th>\n",
       "      <th>CNT_CHILDREN</th>\n",
       "      <th>AMT_INCOME_TOTAL</th>\n",
       "      <th>NAME_INCOME_TYPE</th>\n",
       "      <th>NAME_EDUCATION_TYPE</th>\n",
       "      <th>NAME_FAMILY_STATUS</th>\n",
       "      <th>NAME_HOUSING_TYPE</th>\n",
       "      <th>YEARS_BIRTH</th>\n",
       "      <th>YEARS_EMPLOYED</th>\n",
       "      <th>FLAG_MOBIL</th>\n",
       "      <th>FLAG_WORK_PHONE</th>\n",
       "      <th>FLAG_PHONE</th>\n",
       "      <th>FLAG_EMAIL</th>\n",
       "      <th>CNT_FAM_MEMBERS</th>\n",
       "    </tr>\n",
       "  </thead>\n",
       "  <tbody>\n",
       "    <tr>\n",
       "      <th>0</th>\n",
       "      <td>5008804</td>\n",
       "      <td>M</td>\n",
       "      <td>Y</td>\n",
       "      <td>Y</td>\n",
       "      <td>0</td>\n",
       "      <td>427500.0</td>\n",
       "      <td>Working</td>\n",
       "      <td>Higher education</td>\n",
       "      <td>Civil marriage</td>\n",
       "      <td>Rented apartment</td>\n",
       "      <td>32.89</td>\n",
       "      <td>12.44</td>\n",
       "      <td>1</td>\n",
       "      <td>1</td>\n",
       "      <td>0</td>\n",
       "      <td>0</td>\n",
       "      <td>2.0</td>\n",
       "    </tr>\n",
       "    <tr>\n",
       "      <th>16</th>\n",
       "      <td>5008805</td>\n",
       "      <td>M</td>\n",
       "      <td>Y</td>\n",
       "      <td>Y</td>\n",
       "      <td>0</td>\n",
       "      <td>427500.0</td>\n",
       "      <td>Working</td>\n",
       "      <td>Higher education</td>\n",
       "      <td>Civil marriage</td>\n",
       "      <td>Rented apartment</td>\n",
       "      <td>32.89</td>\n",
       "      <td>12.44</td>\n",
       "      <td>1</td>\n",
       "      <td>1</td>\n",
       "      <td>0</td>\n",
       "      <td>0</td>\n",
       "      <td>2.0</td>\n",
       "    </tr>\n",
       "    <tr>\n",
       "      <th>31</th>\n",
       "      <td>5008806</td>\n",
       "      <td>M</td>\n",
       "      <td>Y</td>\n",
       "      <td>Y</td>\n",
       "      <td>0</td>\n",
       "      <td>112500.0</td>\n",
       "      <td>Working</td>\n",
       "      <td>Secondary / secondary special</td>\n",
       "      <td>Married</td>\n",
       "      <td>House / apartment</td>\n",
       "      <td>58.83</td>\n",
       "      <td>3.11</td>\n",
       "      <td>1</td>\n",
       "      <td>0</td>\n",
       "      <td>0</td>\n",
       "      <td>0</td>\n",
       "      <td>2.0</td>\n",
       "    </tr>\n",
       "    <tr>\n",
       "      <th>61</th>\n",
       "      <td>5008808</td>\n",
       "      <td>F</td>\n",
       "      <td>N</td>\n",
       "      <td>Y</td>\n",
       "      <td>0</td>\n",
       "      <td>270000.0</td>\n",
       "      <td>Commercial associate</td>\n",
       "      <td>Secondary / secondary special</td>\n",
       "      <td>Single / not married</td>\n",
       "      <td>House / apartment</td>\n",
       "      <td>52.36</td>\n",
       "      <td>8.36</td>\n",
       "      <td>1</td>\n",
       "      <td>0</td>\n",
       "      <td>1</td>\n",
       "      <td>1</td>\n",
       "      <td>1.0</td>\n",
       "    </tr>\n",
       "    <tr>\n",
       "      <th>66</th>\n",
       "      <td>5008809</td>\n",
       "      <td>F</td>\n",
       "      <td>N</td>\n",
       "      <td>Y</td>\n",
       "      <td>0</td>\n",
       "      <td>270000.0</td>\n",
       "      <td>Commercial associate</td>\n",
       "      <td>Secondary / secondary special</td>\n",
       "      <td>Single / not married</td>\n",
       "      <td>House / apartment</td>\n",
       "      <td>52.36</td>\n",
       "      <td>8.36</td>\n",
       "      <td>1</td>\n",
       "      <td>0</td>\n",
       "      <td>1</td>\n",
       "      <td>1</td>\n",
       "      <td>1.0</td>\n",
       "    </tr>\n",
       "  </tbody>\n",
       "</table>\n",
       "</div>"
      ],
      "text/plain": [
       "         ID CODE_GENDER FLAG_OWN_CAR FLAG_OWN_REALTY  CNT_CHILDREN  \\\n",
       "0   5008804           M            Y               Y             0   \n",
       "16  5008805           M            Y               Y             0   \n",
       "31  5008806           M            Y               Y             0   \n",
       "61  5008808           F            N               Y             0   \n",
       "66  5008809           F            N               Y             0   \n",
       "\n",
       "    AMT_INCOME_TOTAL      NAME_INCOME_TYPE            NAME_EDUCATION_TYPE  \\\n",
       "0           427500.0               Working               Higher education   \n",
       "16          427500.0               Working               Higher education   \n",
       "31          112500.0               Working  Secondary / secondary special   \n",
       "61          270000.0  Commercial associate  Secondary / secondary special   \n",
       "66          270000.0  Commercial associate  Secondary / secondary special   \n",
       "\n",
       "      NAME_FAMILY_STATUS  NAME_HOUSING_TYPE  YEARS_BIRTH  YEARS_EMPLOYED  \\\n",
       "0         Civil marriage   Rented apartment        32.89           12.44   \n",
       "16        Civil marriage   Rented apartment        32.89           12.44   \n",
       "31               Married  House / apartment        58.83            3.11   \n",
       "61  Single / not married  House / apartment        52.36            8.36   \n",
       "66  Single / not married  House / apartment        52.36            8.36   \n",
       "\n",
       "    FLAG_MOBIL  FLAG_WORK_PHONE  FLAG_PHONE  FLAG_EMAIL  CNT_FAM_MEMBERS  \n",
       "0            1                1           0           0              2.0  \n",
       "16           1                1           0           0              2.0  \n",
       "31           1                0           0           0              2.0  \n",
       "61           1                0           1           1              1.0  \n",
       "66           1                0           1           1              1.0  "
      ]
     },
     "execution_count": 29,
     "metadata": {},
     "output_type": "execute_result"
    }
   ],
   "source": [
    "dfAll = pd.read_csv('/Users/yairmartinez/Documents/GitHub/data_analysis_exercises/DB/Tablas/dfAll.csv')\n",
    "\n",
    "clientes_malos = pd.read_csv('/Users/yairmartinez/Documents/GitHub/data_analysis_exercises/DB/Tablas/class_ID_malo.csv')\n",
    "clientes_regulares = pd.read_csv('/Users/yairmartinez/Documents/GitHub/data_analysis_exercises/DB/Tablas/class_ID_regulares.csv')\n",
    "clientes_vip = pd.read_csv('/Users/yairmartinez/Documents/GitHub/data_analysis_exercises/DB/Tablas/class_ID_vip.csv')\n",
    "\n",
    "dfAll_m = dfAll.drop_duplicates( subset= ['ID'] , keep='first')\n",
    "dfAll_m = dfAll_m.drop(['Unnamed: 0','STATUS', 'OCCUPATION_TYPE', 'MONTHS_BALANCE'], axis = 1)\n",
    "dfAll_m.head()"
   ]
  },
  {
   "cell_type": "code",
   "execution_count": 30,
   "metadata": {},
   "outputs": [
    {
     "data": {
      "text/plain": [
       "Index(['ID', 'CODE_GENDER', 'FLAG_OWN_CAR', 'FLAG_OWN_REALTY', 'CNT_CHILDREN',\n",
       "       'AMT_INCOME_TOTAL', 'NAME_INCOME_TYPE', 'NAME_EDUCATION_TYPE',\n",
       "       'NAME_FAMILY_STATUS', 'NAME_HOUSING_TYPE', 'YEARS_BIRTH',\n",
       "       'YEARS_EMPLOYED', 'FLAG_MOBIL', 'FLAG_WORK_PHONE', 'FLAG_PHONE',\n",
       "       'FLAG_EMAIL', 'CNT_FAM_MEMBERS'],\n",
       "      dtype='object')"
      ]
     },
     "execution_count": 30,
     "metadata": {},
     "output_type": "execute_result"
    }
   ],
   "source": [
    "dfAll_m.columns"
   ]
  },
  {
   "cell_type": "code",
   "execution_count": 59,
   "metadata": {},
   "outputs": [
    {
     "data": {
      "text/plain": [
       "array(['Working', 'Commercial associate', 'Pensioner', 'State servant',\n",
       "       'Student'], dtype=object)"
      ]
     },
     "execution_count": 59,
     "metadata": {},
     "output_type": "execute_result"
    }
   ],
   "source": [
    "dfAll_m['NAME_INCOME_TYPE'].unique()"
   ]
  },
  {
   "cell_type": "code",
   "execution_count": 31,
   "metadata": {},
   "outputs": [
    {
     "data": {
      "text/plain": [
       "((111, 1), (14757, 1), (10539, 1))"
      ]
     },
     "execution_count": 31,
     "metadata": {},
     "output_type": "execute_result"
    }
   ],
   "source": [
    "clientes_malos.shape , clientes_regulares.shape , clientes_vip.shape"
   ]
  },
  {
   "cell_type": "code",
   "execution_count": 32,
   "metadata": {},
   "outputs": [
    {
     "data": {
      "text/plain": [
       "(RangeIndex(start=0, stop=111, step=1),\n",
       " Index(['0'], dtype='object'),\n",
       " pandas.core.frame.DataFrame)"
      ]
     },
     "execution_count": 32,
     "metadata": {},
     "output_type": "execute_result"
    }
   ],
   "source": [
    "clientes_malos.index , clientes_malos.columns, type(clientes_malos)"
   ]
  },
  {
   "cell_type": "code",
   "execution_count": 33,
   "metadata": {},
   "outputs": [
    {
     "data": {
      "text/plain": [
       "0         5008804\n",
       "16        5008805\n",
       "31        5008806\n",
       "61        5008808\n",
       "66        5008809\n",
       "           ...   \n",
       "777622    5149828\n",
       "777634    5149834\n",
       "777658    5149838\n",
       "777691    5150049\n",
       "777701    5150337\n",
       "Name: ID, Length: 36457, dtype: int64"
      ]
     },
     "execution_count": 33,
     "metadata": {},
     "output_type": "execute_result"
    }
   ],
   "source": [
    "dfAll_m.reset_index()\n",
    "dfAll_m['ID']"
   ]
  },
  {
   "cell_type": "code",
   "execution_count": 34,
   "metadata": {},
   "outputs": [
    {
     "data": {
      "text/plain": [
       "0      5018501\n",
       "1      5021431\n",
       "2      5038807\n",
       "3      5053254\n",
       "4      5061360\n",
       "        ...   \n",
       "106    5058531\n",
       "107    5117794\n",
       "108    5058532\n",
       "109    5137206\n",
       "110    5090214\n",
       "Name: 0, Length: 111, dtype: int64"
      ]
     },
     "execution_count": 34,
     "metadata": {},
     "output_type": "execute_result"
    }
   ],
   "source": [
    "clientes_malos['0']"
   ]
  },
  {
   "cell_type": "code",
   "execution_count": 35,
   "metadata": {},
   "outputs": [],
   "source": [
    "# Listas de clientes\n",
    "\n",
    "df_clientes_malos = dfAll_m.set_index('ID').loc[clientes_malos['0']].reset_index(inplace=False)\n",
    "df_clientes_regulares = dfAll_m.set_index('ID').loc[clientes_regulares['0']].reset_index(inplace=False)\n",
    "df_clientes_vip = dfAll_m.set_index('ID').loc[clientes_vip['0']].reset_index(inplace=False)"
   ]
  },
  {
   "cell_type": "code",
   "execution_count": 36,
   "metadata": {},
   "outputs": [
    {
     "data": {
      "text/plain": [
       "(count     111.000000\n",
       " mean     -130.085405\n",
       " std       345.735023\n",
       " min     -1000.670000\n",
       " 25%         1.495000\n",
       " 50%         2.530000\n",
       " 75%         6.770000\n",
       " max        28.640000\n",
       " Name: YEARS_EMPLOYED, dtype: float64,\n",
       " count    111.000000\n",
       " mean      44.760631\n",
       " std       11.330255\n",
       " min       24.400000\n",
       " 25%       36.410000\n",
       " 50%       45.510000\n",
       " 75%       51.950000\n",
       " max       67.430000\n",
       " Name: YEARS_BIRTH, dtype: float64)"
      ]
     },
     "execution_count": 36,
     "metadata": {},
     "output_type": "execute_result"
    }
   ],
   "source": [
    "df_clientes_malos['YEARS_EMPLOYED'].describe(), df_clientes_malos['YEARS_BIRTH'].describe()"
   ]
  },
  {
   "cell_type": "code",
   "execution_count": 37,
   "metadata": {},
   "outputs": [],
   "source": [
    "# Para YEARS_EMPLOYED, se seleccionaron solamente los datos positivos, dejando fuera a los jubilados debido a las inconsistencias entre los registros\n",
    "\n",
    "df_clientes_malos= df_clientes_malos.drop(df_clientes_malos.index[df_clientes_malos['YEARS_EMPLOYED']<0])\n",
    "df_clientes_regulares= df_clientes_regulares.drop(df_clientes_regulares.index[df_clientes_regulares['YEARS_EMPLOYED']<0])\n",
    "df_clientes_vip= df_clientes_vip.drop(df_clientes_vip.index[df_clientes_vip['YEARS_EMPLOYED']<0])\n"
   ]
  },
  {
   "cell_type": "code",
   "execution_count": 49,
   "metadata": {},
   "outputs": [],
   "source": [
    "# Se dan valores de Code Gender: 1 = M y 2 = F\n",
    "\n",
    "for idx, row in df_clientes_malos.iterrows():\n",
    "    if  df_clientes_malos.loc[idx,'CODE_GENDER'] == 'M':\n",
    "        df_clientes_malos.loc[idx,'CODE_GENDER'] = 1\n",
    "    if  df_clientes_malos.loc[idx,'CODE_GENDER'] == 'F':\n",
    "        df_clientes_malos.loc[idx,'CODE_GENDER'] = 2\n",
    "\n",
    "FLAG_OWN_CAR 'Y' 1 'N' 0\n",
    "FLAG_OWN_REALTY 'Y' 1 'N' 0\n",
    "\n",
    "['Working', 'Commercial associate', 'Pensioner', 'State servant',\n",
    "       'Student']\n",
    "\n",
    "# df_clientes_malos=df_clientes_malos.assign (  CODE_GENDER = lambda x: F = 2   )\n",
    "\n",
    "\n",
    "# # Definición df1 limpio\n",
    "# df1 = df1.assign(DAYS_BIRTH= lambda x: round(   ( (df1['DAYS_BIRTH'] *-1))/365   , 2  )   ,\n",
    "# DAYS_EMPLOYED=lambda x: round(  ( (df1['DAYS_EMPLOYED'] *-1)) / 365      , 2  )          )\n",
    "\n",
    "# df1.rename(columns = {'DAYS_BIRTH':'YEARS_BIRTH'}, inplace = True)\n",
    "# df1.rename(columns = {'DAYS_EMPLOYED':'YEARS_EMPLOYED'}, inplace = True)\n",
    "\n"
   ]
  },
  {
   "cell_type": "code",
   "execution_count": 50,
   "metadata": {},
   "outputs": [
    {
     "data": {
      "text/plain": [
       "0      2\n",
       "1      2\n",
       "2      1\n",
       "3      2\n",
       "5      2\n",
       "      ..\n",
       "106    1\n",
       "107    2\n",
       "108    1\n",
       "109    1\n",
       "110    1\n",
       "Name: CODE_GENDER, Length: 96, dtype: object"
      ]
     },
     "execution_count": 50,
     "metadata": {},
     "output_type": "execute_result"
    }
   ],
   "source": [
    "df_clientes_malos['CODE_GENDER']"
   ]
  },
  {
   "cell_type": "code",
   "execution_count": null,
   "metadata": {},
   "outputs": [],
   "source": []
  },
  {
   "cell_type": "code",
   "execution_count": null,
   "metadata": {},
   "outputs": [],
   "source": [
    "df_clientes_malos = df.drop(df.index[df['colA'] < 0])"
   ]
  },
  {
   "cell_type": "code",
   "execution_count": null,
   "metadata": {},
   "outputs": [],
   "source": [
    "# Se elimina ID en la correlacion para evitar valores incongruentes y YEARS_EMPLOYED se deja\n",
    "\n",
    "# df_clientes_malos = df_clientes_malos.drop(['ID', 'YEARS_EMPLOYED'], axis = 1)\n",
    "# df_clientes_regulares = df_clientes_regulares.drop(['ID', 'YEARS_EMPLOYED'], axis = 1)\n",
    "# df_clientes_vip = df_clientes_vip.drop(['ID', 'YEARS_EMPLOYED'], axis = 1)\n",
    "\n",
    "# 'FLAG_MOBIL'"
   ]
  },
  {
   "cell_type": "code",
   "execution_count": null,
   "metadata": {},
   "outputs": [],
   "source": [
    "df_clientes_malos"
   ]
  },
  {
   "cell_type": "code",
   "execution_count": null,
   "metadata": {},
   "outputs": [],
   "source": [
    "\n",
    "df_clientes_malos.shape, df_clientes_regulares.shape, df_clientes_vip.shape"
   ]
  },
  {
   "cell_type": "code",
   "execution_count": null,
   "metadata": {},
   "outputs": [],
   "source": [
    "s_clientes_malos = df_clientes_malos.corr()\n",
    "s_clientes_regulares = df_clientes_regulares.corr()\n",
    "s_clientes_vip = df_clientes_vip.corr()"
   ]
  },
  {
   "cell_type": "code",
   "execution_count": null,
   "metadata": {},
   "outputs": [],
   "source": [
    "s_clientes_malos"
   ]
  },
  {
   "cell_type": "code",
   "execution_count": null,
   "metadata": {},
   "outputs": [],
   "source": [
    "plt.figure(figsize=(16, 6))\n",
    "heatmap = sns.heatmap(s_clientes_malos, vmin=-1, vmax=1, annot=True, cmap='BrBG')\n",
    "heatmap.set_title('Clientes_malos', fontdict={'fontsize':18}, pad=12)\n",
    "\n",
    "plt.savefig('Mobil_Clientes_malos.png', dpi=300, bbox_inches='tight')\n",
    "pos1= '/Users/yairmartinez/Documents/GitHub/data_analysis_exercises/KPI_exercise/Mobil_Clientes_malos.png'\n",
    "pos2= '/Users/yairmartinez/Documents/GitHub/data_analysis_exercises/DB/Graficas/Mobil_Clientes_malos.png'\n",
    "\n",
    "shutil.move(pos1,pos2)"
   ]
  },
  {
   "cell_type": "code",
   "execution_count": null,
   "metadata": {},
   "outputs": [],
   "source": [
    "df_clientes_malos = df_clientes_malos.drop(['FLAG_MOBIL'], axis = 1)\n",
    "df_clientes_regulares = df_clientes_regulares.drop(['FLAG_MOBIL'], axis = 1)\n",
    "df_clientes_vip = df_clientes_vip.drop(['FLAG_MOBIL'], axis = 1)\n",
    "\n",
    "s_clientes_malos = df_clientes_malos.corr()\n",
    "s_clientes_regulares = df_clientes_regulares.corr()\n",
    "s_clientes_vip = df_clientes_vip.corr()"
   ]
  },
  {
   "cell_type": "code",
   "execution_count": null,
   "metadata": {},
   "outputs": [],
   "source": [
    "plt.figure(figsize=(16, 6))\n",
    "mask = np.triu(np.ones_like(s_clientes_malos, dtype=np.bool))\n",
    "heatmap = sns.heatmap(s_clientes_malos, mask= mask, vmin=-1, vmax=1, annot=True, cmap='BrBG')\n",
    "heatmap.set_title('Clientes_malos', fontdict={'fontsize':18}, pad=12);\n",
    "\n",
    "plt.savefig('Clientes_malos.png', dpi=300, bbox_inches='tight')\n",
    "pos1= '/Users/yairmartinez/Documents/GitHub/data_analysis_exercises/KPI_exercise/Clientes_malos.png'\n",
    "pos2= '/Users/yairmartinez/Documents/GitHub/data_analysis_exercises/DB/Graficas/Clientes_malos.png'\n",
    "shutil.move(pos1,pos2)"
   ]
  },
  {
   "cell_type": "code",
   "execution_count": null,
   "metadata": {},
   "outputs": [],
   "source": [
    "plt.figure(figsize=(16, 6))\n",
    "mask = np.triu(np.ones_like(s_clientes_vip, dtype=np.bool))\n",
    "heatmap = sns.heatmap(s_clientes_vip, mask= mask, vmin=-1, vmax=1, annot=True, cmap='BrBG')\n",
    "heatmap.set_title('Clientes_VIP', fontdict={'fontsize':18}, pad=12);\n",
    "\n",
    "plt.savefig('Clientes_VIP.png', dpi=300, bbox_inches='tight')\n",
    "pos1= '/Users/yairmartinez/Documents/GitHub/data_analysis_exercises/KPI_exercise/Clientes_VIP.png'\n",
    "pos2= '/Users/yairmartinez/Documents/GitHub/data_analysis_exercises/DB/Graficas/Clientes_VIP.png'\n",
    "shutil.move(pos1,pos2)"
   ]
  },
  {
   "cell_type": "code",
   "execution_count": null,
   "metadata": {},
   "outputs": [],
   "source": [
    "plt.figure(figsize=(16, 6))\n",
    "mask = np.triu(np.ones_like(s_clientes_regulares, dtype=np.bool))\n",
    "heatmap = sns.heatmap(s_clientes_regulares, mask= mask, vmin=-1, vmax=1, annot=True, cmap='BrBG')\n",
    "heatmap.set_title('Clientes_regulares', fontdict={'fontsize':18}, pad=12);\n",
    "\n",
    "plt.savefig('Clientes_regulares.png', dpi=300, bbox_inches='tight')\n",
    "pos1= '/Users/yairmartinez/Documents/GitHub/data_analysis_exercises/KPI_exercise/Clientes_regulares.png'\n",
    "pos2= '/Users/yairmartinez/Documents/GitHub/data_analysis_exercises/DB/Graficas/Clientes_regulares.png'\n",
    "shutil.move(pos1,pos2)\n"
   ]
  },
  {
   "cell_type": "code",
   "execution_count": null,
   "metadata": {},
   "outputs": [],
   "source": [
    "plt.figure(figsize=(8, 12))\n",
    "heatmap = sns.heatmap(s_clientes_vip.corr()[['AMT_INCOME_TOTAL']].sort_values(by='AMT_INCOME_TOTAL', ascending=False), vmin=-1, vmax=1, annot=True, cmap='BrBG')\n",
    "heatmap.set_title('Correlación AMT_INCOME_TOTAL_VIP', fontdict={'fontsize':18}, pad=16)\n",
    "\n",
    "plt.savefig('Correlación_AMT_INCOME_TOTAL_VIP.png', dpi=300, bbox_inches='tight')\n",
    "pos1= '/Users/yairmartinez/Documents/GitHub/data_analysis_exercises/KPI_exercise/Correlación_AMT_INCOME_TOTAL_VIP.png'\n",
    "pos2= '/Users/yairmartinez/Documents/GitHub/data_analysis_exercises/DB/Graficas/Correlación_AMT_INCOME_TOTAL_VIP.png'\n",
    "shutil.move(pos1,pos2)"
   ]
  },
  {
   "cell_type": "code",
   "execution_count": null,
   "metadata": {},
   "outputs": [],
   "source": [
    "plt.figure(figsize=(8, 12))\n",
    "heatmap = sns.heatmap(s_clientes_malos.corr()[['AMT_INCOME_TOTAL']].sort_values(by='AMT_INCOME_TOTAL', ascending=False), vmin=-1, vmax=1, annot=True, cmap='BrBG')\n",
    "heatmap.set_title('Correlación AMT_INCOME_TOTAL_malos', fontdict={'fontsize':18}, pad=16);\n",
    "\n",
    "plt.savefig('Correlación_AMT_INCOME_TOTAL_malos.png', dpi=300, bbox_inches='tight')\n",
    "pos1= '/Users/yairmartinez/Documents/GitHub/data_analysis_exercises/KPI_exercise/Correlación_AMT_INCOME_TOTAL_malos.png'\n",
    "pos2= '/Users/yairmartinez/Documents/GitHub/data_analysis_exercises/DB/Graficas/Correlación_AMT_INCOME_TOTAL_malos.png'\n",
    "shutil.move(pos1,pos2)"
   ]
  },
  {
   "cell_type": "code",
   "execution_count": null,
   "metadata": {},
   "outputs": [],
   "source": []
  }
 ],
 "metadata": {
  "interpreter": {
   "hash": "40d3a090f54c6569ab1632332b64b2c03c39dcf918b08424e98f38b5ae0af88f"
  },
  "kernelspec": {
   "display_name": "Python 3.9.7 ('base')",
   "language": "python",
   "name": "python3"
  },
  "language_info": {
   "codemirror_mode": {
    "name": "ipython",
    "version": 3
   },
   "file_extension": ".py",
   "mimetype": "text/x-python",
   "name": "python",
   "nbconvert_exporter": "python",
   "pygments_lexer": "ipython3",
   "version": "3.9.7"
  },
  "orig_nbformat": 4
 },
 "nbformat": 4,
 "nbformat_minor": 2
}
