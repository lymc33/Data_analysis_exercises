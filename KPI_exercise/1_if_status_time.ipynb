{
 "cells": [
  {
   "cell_type": "code",
   "execution_count": 1,
   "metadata": {},
   "outputs": [],
   "source": [
    "import pandas as pd\n",
    "import collections\n",
    "from collections import Counter"
   ]
  },
  {
   "cell_type": "code",
   "execution_count": 2,
   "metadata": {},
   "outputs": [],
   "source": [
    "dfAll = pd.read_csv('/Users/yairmartinez/Documents/GitHub/Data_analysis_exercises/DB/Datos_modificados/dfAll.csv')"
   ]
  },
  {
   "cell_type": "code",
   "execution_count": 3,
   "metadata": {},
   "outputs": [],
   "source": [
    "### Definicion de meses\n",
    "\n",
    "### variable_df_mes                          ###   == variable_mes\n",
    "mes_actual= dfAll[ ( dfAll['MONTHS_BALANCE'] == 0 )   ]        \n",
    "mes_m1= dfAll[ ( dfAll['MONTHS_BALANCE'] == -1 )   ]"
   ]
  },
  {
   "cell_type": "code",
   "execution_count": 6,
   "metadata": {},
   "outputs": [],
   "source": [
    "### Keys y contadores para STATUS por cada mes\n",
    "\n",
    "### variable_dic_mes         # Variable_df_mes\n",
    "dic_mes_actual = Counter(mes_actual['STATUS'])\n",
    "dic_mes_m1 = Counter(mes_m1['STATUS'])"
   ]
  },
  {
   "cell_type": "code",
   "execution_count": 5,
   "metadata": {},
   "outputs": [],
   "source": [
    "# Valores de diccionarios ordenados por keys\n",
    "\n",
    "### variable_dic_mes                                 ### variable_dic_mes\n",
    "dic_mes_actual = collections.OrderedDict(  sorted(  dic_mes_actual.items()  )  )    \n",
    "dic_mes_m1 = collections.OrderedDict(  sorted(  dic_mes_m1.items()  )  )"
   ]
  },
  {
   "cell_type": "code",
   "execution_count": 7,
   "metadata": {},
   "outputs": [
    {
     "data": {
      "text/plain": [
       "[12974, 6886, 4487, 236, 59, 6, 5, 19]"
      ]
     },
     "execution_count": 7,
     "metadata": {},
     "output_type": "execute_result"
    }
   ],
   "source": [
    "# Listas de valores , ya ordenados por keys\n",
    "\n",
    "lista_index = list(  dic_mes_actual.keys()  )\n",
    "\n",
    "# Variable_lista_mes           ### Variable_dic_mes \n",
    "lista_mes_actual = list(  dic_mes_actual.values()  )    \n",
    "lista_mes_m1 = list(  dic_mes_m1.values()  ) \n",
    "\n",
    "lista_mes_actual"
   ]
  },
  {
   "cell_type": "code",
   "execution_count": 8,
   "metadata": {},
   "outputs": [
    {
     "data": {
      "text/plain": [
       "[(12974, 12797),\n",
       " (6886, 4201),\n",
       " (4487, 7606),\n",
       " (236, 268),\n",
       " (59, 57),\n",
       " (6, 11),\n",
       " (5, 17),\n",
       " (19, 6)]"
      ]
     },
     "execution_count": 8,
     "metadata": {},
     "output_type": "execute_result"
    }
   ],
   "source": [
    "# Crear lista final\n",
    "\n",
    "lista_mes_total = list ( zip(lista_mes_actual, lista_mes_m1 ) )\n",
    "lista_mes_total"
   ]
  },
  {
   "cell_type": "code",
   "execution_count": 10,
   "metadata": {},
   "outputs": [
    {
     "data": {
      "text/html": [
       "<div>\n",
       "<style scoped>\n",
       "    .dataframe tbody tr th:only-of-type {\n",
       "        vertical-align: middle;\n",
       "    }\n",
       "\n",
       "    .dataframe tbody tr th {\n",
       "        vertical-align: top;\n",
       "    }\n",
       "\n",
       "    .dataframe thead th {\n",
       "        text-align: right;\n",
       "    }\n",
       "</style>\n",
       "<table border=\"1\" class=\"dataframe\">\n",
       "  <thead>\n",
       "    <tr style=\"text-align: right;\">\n",
       "      <th></th>\n",
       "      <th>mes_actual</th>\n",
       "      <th>mes_m1</th>\n",
       "    </tr>\n",
       "  </thead>\n",
       "  <tbody>\n",
       "    <tr>\n",
       "      <th>C</th>\n",
       "      <td>12974</td>\n",
       "      <td>12797</td>\n",
       "    </tr>\n",
       "    <tr>\n",
       "      <th>0</th>\n",
       "      <td>6886</td>\n",
       "      <td>4201</td>\n",
       "    </tr>\n",
       "    <tr>\n",
       "      <th>X</th>\n",
       "      <td>4487</td>\n",
       "      <td>7606</td>\n",
       "    </tr>\n",
       "    <tr>\n",
       "      <th>1</th>\n",
       "      <td>236</td>\n",
       "      <td>268</td>\n",
       "    </tr>\n",
       "    <tr>\n",
       "      <th>5</th>\n",
       "      <td>59</td>\n",
       "      <td>57</td>\n",
       "    </tr>\n",
       "    <tr>\n",
       "      <th>3</th>\n",
       "      <td>6</td>\n",
       "      <td>11</td>\n",
       "    </tr>\n",
       "    <tr>\n",
       "      <th>4</th>\n",
       "      <td>5</td>\n",
       "      <td>17</td>\n",
       "    </tr>\n",
       "    <tr>\n",
       "      <th>2</th>\n",
       "      <td>19</td>\n",
       "      <td>6</td>\n",
       "    </tr>\n",
       "  </tbody>\n",
       "</table>\n",
       "</div>"
      ],
      "text/plain": [
       "   mes_actual  mes_m1\n",
       "C       12974   12797\n",
       "0        6886    4201\n",
       "X        4487    7606\n",
       "1         236     268\n",
       "5          59      57\n",
       "3           6      11\n",
       "4           5      17\n",
       "2          19       6"
      ]
     },
     "execution_count": 10,
     "metadata": {},
     "output_type": "execute_result"
    }
   ],
   "source": [
    "### KPI listo\n",
    "                                                                          # lista_nombre:                                                                      \n",
    "KPI = pd.DataFrame(  lista_mes_total, index= lista_index, columns= ('mes_actual', 'mes_m1') )  \n",
    "KPI"
   ]
  },
  {
   "cell_type": "code",
   "execution_count": 17,
   "metadata": {},
   "outputs": [
    {
     "name": "stdout",
     "output_type": "stream",
     "text": [
      "[7700, 274, 19, 11, 3, 52, 12531, 4281]\n",
      "[7606, 268, 17, 6, 11, 57, 12797, 4201]\n",
      "[6886, 236, 19, 6, 5, 59, 12974, 4487]\n"
     ]
    }
   ],
   "source": [
    "                            # Fijado a -2\n",
    "\n",
    "\n",
    "for variable_mes in range (-2,1):\n",
    "    variable_df_mes = dfAll[ ( dfAll['MONTHS_BALANCE'] == variable_mes )   ] ### Definicion de meses\n",
    "    variable_dic_mes = Counter(variable_df_mes['STATUS'])  ### Keys y contadores para STATUS por cada mes\n",
    "    variable_dic_mes = collections.OrderedDict(  sorted(  variable_dic_mes.items()  )  ) # Valores de diccionarios ordenados por keys\n",
    "\n",
    "    Variable_lista_mes = list(  variable_dic_mes.values()  )      \n",
    "    print(Variable_lista_mes)\n",
    "    \n"
   ]
  },
  {
   "cell_type": "code",
   "execution_count": null,
   "metadata": {},
   "outputs": [],
   "source": [
    "\n",
    "\n",
    "# hoy=date.today()\n",
    "# lista_mes_balance = []\n",
    "\n",
    "# for x in df2['MONTHS_BALANCE']:\n",
    "#     mes_balance = hoy + relativedelta(months=x)\n",
    "#     lista_mes_balance.append(mes_balance)\n",
    "\n",
    "# df2['MONTHS_BALANCE'] = lista_mes_balance"
   ]
  }
 ],
 "metadata": {
  "interpreter": {
   "hash": "40d3a090f54c6569ab1632332b64b2c03c39dcf918b08424e98f38b5ae0af88f"
  },
  "kernelspec": {
   "display_name": "Python 3.9.7 ('base')",
   "language": "python",
   "name": "python3"
  },
  "language_info": {
   "codemirror_mode": {
    "name": "ipython",
    "version": 3
   },
   "file_extension": ".py",
   "mimetype": "text/x-python",
   "name": "python",
   "nbconvert_exporter": "python",
   "pygments_lexer": "ipython3",
   "version": "3.9.7"
  },
  "orig_nbformat": 4
 },
 "nbformat": 4,
 "nbformat_minor": 2
}
