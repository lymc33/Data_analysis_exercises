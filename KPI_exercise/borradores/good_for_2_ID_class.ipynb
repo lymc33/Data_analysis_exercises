{
 "cells": [
  {
   "cell_type": "code",
   "execution_count": 107,
   "metadata": {},
   "outputs": [],
   "source": [
    "import pandas as pd\n",
    "import numpy as np\n",
    "from collections import Counter"
   ]
  },
  {
   "cell_type": "code",
   "execution_count": 108,
   "metadata": {},
   "outputs": [
    {
     "data": {
      "text/plain": [
       "(1000, 21)"
      ]
     },
     "execution_count": 108,
     "metadata": {},
     "output_type": "execute_result"
    }
   ],
   "source": [
    "dfAll = pd.read_csv('/Users/yairmartinez/Documents/GitHub/data_analysis_exercises/DB/Tablas/dfAll.csv')\n",
    "\n",
    "df2= dfAll.iloc[:1000,]\n",
    "df2.shape"
   ]
  },
  {
   "cell_type": "code",
   "execution_count": 109,
   "metadata": {},
   "outputs": [
    {
     "name": "stderr",
     "output_type": "stream",
     "text": [
      "/var/folders/v1/3g8467xs4vvf3w4gs3sqq6qr0000gn/T/ipykernel_3507/3049359597.py:4: UserWarning: Boolean Series key will be reindexed to match DataFrame index.\n",
      "  mes_m0= df2[ ( dfAll['MONTHS_BALANCE'] == 0 )   ]\n",
      "/var/folders/v1/3g8467xs4vvf3w4gs3sqq6qr0000gn/T/ipykernel_3507/3049359597.py:5: UserWarning: Boolean Series key will be reindexed to match DataFrame index.\n",
      "  mes_m1= df2[ ( dfAll['MONTHS_BALANCE'] == -1 )   ]\n",
      "/var/folders/v1/3g8467xs4vvf3w4gs3sqq6qr0000gn/T/ipykernel_3507/3049359597.py:6: UserWarning: Boolean Series key will be reindexed to match DataFrame index.\n",
      "  mes_m12= df2[ ( dfAll['MONTHS_BALANCE'] == -12 )   ]\n"
     ]
    }
   ],
   "source": [
    "### Definicion de meses\n",
    "\n",
    "### variable_df_mes                          ###   == variable_mes\n",
    "mes_m0= df2[ ( dfAll['MONTHS_BALANCE'] == 0 )   ]        \n",
    "mes_m1= df2[ ( dfAll['MONTHS_BALANCE'] == -1 )   ]\n",
    "mes_m12= df2[ ( dfAll['MONTHS_BALANCE'] == -12 )   ]"
   ]
  },
  {
   "cell_type": "code",
   "execution_count": 110,
   "metadata": {},
   "outputs": [
    {
     "data": {
      "text/plain": [
       "((38, 21), (40, 21), (31, 21))"
      ]
     },
     "execution_count": 110,
     "metadata": {},
     "output_type": "execute_result"
    }
   ],
   "source": [
    "mes_m0.shape, mes_m1.shape, mes_m12.shape"
   ]
  },
  {
   "cell_type": "code",
   "execution_count": 111,
   "metadata": {},
   "outputs": [],
   "source": [
    "# mes_m0\n",
    "\n",
    "lista_ID_index = []\n",
    "lista_STATUS_index = []\n",
    "\n",
    "lista_ID_C_m0 = []\n",
    "\n",
    "tupla_m0 = []\n",
    "\n",
    "for i in range (0, ( len( mes_m0 )) ) :     \n",
    "    lista_ID_index.append( mes_m0.iloc[i].ID  ) # Lista registro por ID al mes\n",
    "    lista_STATUS_index.append( mes_m0.iloc[i].STATUS  ) # Lista registro por STATUS al mes\n",
    "\n",
    "    tupla_m0 = tuple(zip(lista_ID_index , lista_STATUS_index)) \n",
    "\n",
    "for j in range (0,len(tupla_m0)):\n",
    "    if tupla_m0[j][1] == 'C':\n",
    "        lista_ID_C_m0.append(tupla_m0[j][0])\n",
    "\n",
    "    \n",
    "    #lista_listas = dict.fromkeys(  lista_ID_index  ,  lista_STATUS_index  )"
   ]
  },
  {
   "cell_type": "code",
   "execution_count": 112,
   "metadata": {},
   "outputs": [
    {
     "data": {
      "text/plain": [
       "38"
      ]
     },
     "execution_count": 112,
     "metadata": {},
     "output_type": "execute_result"
    }
   ],
   "source": [
    "len(tupla_m0)"
   ]
  },
  {
   "cell_type": "code",
   "execution_count": 113,
   "metadata": {},
   "outputs": [
    {
     "name": "stdout",
     "output_type": "stream",
     "text": [
      "((5008804, 'C'), (5008805, 'C'), (5008806, 'C'), (5008808, '0'), (5008810, 'C'), (5008811, 'C'), (5008813, '0'), (5008815, '0'), (5112956, 'X'), (5008821, 'X'), (5008824, '0'), (5008825, '0'), (5008830, 'C'), (5008831, 'C'), (5008832, 'C'), (5008834, 'C'), (5008839, 'C'), (5008840, 'C'), (5008841, '0'), (5008842, '0'), (5008843, 'C'), (5008846, '0'), (5008850, '0'), (5008851, '0'), (5008852, '0'), (5008855, 'C'), (5008856, '0'), (5008857, 'X'), (5008858, 'C'), (5008859, '0'), (5008860, '0'), (5008861, '0'), (5008862, '0'), (5008864, '0'), (5008868, '0'), (5008872, '0'), (5008873, 'C'), (5008874, 'C'))\n"
     ]
    }
   ],
   "source": [
    "print(tupla_m0)"
   ]
  },
  {
   "cell_type": "code",
   "execution_count": 114,
   "metadata": {},
   "outputs": [
    {
     "name": "stdout",
     "output_type": "stream",
     "text": [
      "[5008804, 5008805, 5008806, 5008810, 5008811, 5008830, 5008831, 5008832, 5008834, 5008839, 5008840, 5008843, 5008855, 5008858, 5008873, 5008874]\n"
     ]
    }
   ],
   "source": [
    "print(lista_ID_C_m0)"
   ]
  },
  {
   "cell_type": "code",
   "execution_count": 115,
   "metadata": {},
   "outputs": [],
   "source": [
    "# mes_m1\n",
    "\n",
    "lista_ID_index = []\n",
    "lista_STATUS_index = []\n",
    "\n",
    "lista_ID_C_m1 = []\n",
    "\n",
    "tupla_m1 = []\n",
    "\n",
    "for i in range (0, ( len( mes_m1 )) ) :     \n",
    "    lista_ID_index.append( mes_m1.iloc[i].ID  ) # Lista registro por ID al mes\n",
    "    lista_STATUS_index.append( mes_m1.iloc[i].STATUS  ) # Lista registro por STATUS al mes\n",
    "\n",
    "    tupla_m1 = tuple(zip(lista_ID_index , lista_STATUS_index)) \n",
    "\n",
    "for j in range (0,len(tupla_m1)):\n",
    "    if tupla_m1[j][1] == 'C':\n",
    "        lista_ID_C_m1.append(tupla_m1[j][0])\n",
    "\n",
    "    \n",
    "    #lista_listas = dict.fromkeys(  lista_ID_index  ,  lista_STATUS_index  )"
   ]
  },
  {
   "cell_type": "code",
   "execution_count": 116,
   "metadata": {},
   "outputs": [],
   "source": [
    "# mes_m12\n",
    "\n",
    "lista_ID_index = []\n",
    "lista_STATUS_index = []\n",
    "\n",
    "lista_ID_C_m12 = []\n",
    "\n",
    "tupla_m12 = []\n",
    "\n",
    "for i in range (0, ( len( mes_m12 )) ) :     \n",
    "    lista_ID_index.append( mes_m12.iloc[i].ID  ) # Lista registro por ID al mes\n",
    "    lista_STATUS_index.append( mes_m12.iloc[i].STATUS  ) # Lista registro por STATUS al mes\n",
    "\n",
    "    tupla_m12 = tuple(zip(lista_ID_index , lista_STATUS_index)) \n",
    "\n",
    "for j in range (0,len(tupla_m12)):\n",
    "    if tupla_m12[j][1] == 'C':\n",
    "        lista_ID_C_m12.append(tupla_m12[j][0])\n",
    "\n",
    "    \n",
    "    #lista_listas = dict.fromkeys(  lista_ID_index  ,  lista_STATUS_index  )"
   ]
  },
  {
   "cell_type": "code",
   "execution_count": 117,
   "metadata": {},
   "outputs": [
    {
     "name": "stdout",
     "output_type": "stream",
     "text": [
      "[5008804, 5008805, 5008806, 5008810, 5008811, 5008830, 5008831, 5008832, 5008834, 5008839, 5008840, 5008843, 5008855, 5008858, 5008873, 5008874]\n"
     ]
    }
   ],
   "source": [
    "print(lista_ID_C_m0)"
   ]
  },
  {
   "cell_type": "code",
   "execution_count": 118,
   "metadata": {},
   "outputs": [
    {
     "name": "stdout",
     "output_type": "stream",
     "text": [
      "[5008804, 5008805, 5008806, 5008810, 5008811, 5008826, 5008830, 5008831, 5008832, 5008834, 5008839, 5008840, 5008843, 5008855, 5008873, 5008874]\n"
     ]
    }
   ],
   "source": [
    "print(lista_ID_C_m1)"
   ]
  },
  {
   "cell_type": "code",
   "execution_count": 119,
   "metadata": {},
   "outputs": [
    {
     "name": "stdout",
     "output_type": "stream",
     "text": [
      "[5008804, 5008810, 5008811, 5008826, 5008830, 5008832, 5008834, 5008836, 5008837, 5008840, 5008843, 5008844, 5008855, 5008873, 5008874]\n"
     ]
    }
   ],
   "source": [
    "print(lista_ID_C_m12)"
   ]
  },
  {
   "cell_type": "code",
   "execution_count": 120,
   "metadata": {},
   "outputs": [
    {
     "data": {
      "text/plain": [
       "(16, 16, 15)"
      ]
     },
     "execution_count": 120,
     "metadata": {},
     "output_type": "execute_result"
    }
   ],
   "source": [
    "len(lista_ID_C_m0), len(lista_ID_C_m1), len(lista_ID_C_m12)"
   ]
  },
  {
   "cell_type": "code",
   "execution_count": 121,
   "metadata": {},
   "outputs": [],
   "source": [
    "interseccion = np.intersect1d(lista_ID_C_m0, lista_ID_C_m1, lista_ID_C_m12)"
   ]
  },
  {
   "cell_type": "code",
   "execution_count": 122,
   "metadata": {},
   "outputs": [
    {
     "data": {
      "text/plain": [
       "array([5008804, 5008805, 5008806, 5008810, 5008811, 5008830, 5008831,\n",
       "       5008832, 5008834, 5008839, 5008840, 5008843, 5008855, 5008873,\n",
       "       5008874])"
      ]
     },
     "execution_count": 122,
     "metadata": {},
     "output_type": "execute_result"
    }
   ],
   "source": [
    "interseccion"
   ]
  },
  {
   "cell_type": "code",
   "execution_count": 123,
   "metadata": {},
   "outputs": [
    {
     "data": {
      "text/plain": [
       "15"
      ]
     },
     "execution_count": 123,
     "metadata": {},
     "output_type": "execute_result"
    }
   ],
   "source": [
    "len(interseccion)"
   ]
  },
  {
   "cell_type": "code",
   "execution_count": 124,
   "metadata": {},
   "outputs": [
    {
     "data": {
      "text/plain": [
       "numpy.ndarray"
      ]
     },
     "execution_count": 124,
     "metadata": {},
     "output_type": "execute_result"
    }
   ],
   "source": [
    "type(interseccion)"
   ]
  },
  {
   "cell_type": "code",
   "execution_count": 125,
   "metadata": {},
   "outputs": [
    {
     "name": "stdout",
     "output_type": "stream",
     "text": [
      "The frequency of each element is : {5008804: [1, 1, 1], 5008805: [1, 1, 0], 5008806: [1, 1, 0], 5008810: [1, 1, 1], 5008811: [1, 1, 1], 5008826: [0, 1, 1], 5008830: [1, 1, 1], 5008831: [1, 1, 0], 5008832: [1, 1, 1], 5008834: [1, 1, 1], 5008836: [0, 0, 1], 5008837: [0, 0, 1], 5008839: [1, 1, 0], 5008840: [1, 1, 1], 5008843: [1, 1, 1], 5008844: [0, 0, 1], 5008855: [1, 1, 1], 5008858: [1, 0, 0], 5008873: [1, 1, 1], 5008874: [1, 1, 1]}\n"
     ]
    }
   ],
   "source": [
    "test_list1 = lista_ID_C_m0\n",
    "test_list2 = lista_ID_C_m1\n",
    "test_list3 = lista_ID_C_m12\n",
    "\n",
    "res = {idx : [test_list1.count(idx), test_list2.count(idx), test_list3.count(idx)]\n",
    "      for idx in set(test_list1 + test_list2 + test_list3)}\n",
    "\n",
    "print (\"The frequency of each element is : \" + str(res))"
   ]
  },
  {
   "cell_type": "code",
   "execution_count": 126,
   "metadata": {},
   "outputs": [
    {
     "data": {
      "text/plain": [
       "dict"
      ]
     },
     "execution_count": 126,
     "metadata": {},
     "output_type": "execute_result"
    }
   ],
   "source": [
    "type(res)"
   ]
  },
  {
   "cell_type": "code",
   "execution_count": null,
   "metadata": {},
   "outputs": [],
   "source": []
  },
  {
   "cell_type": "code",
   "execution_count": null,
   "metadata": {},
   "outputs": [],
   "source": []
  },
  {
   "cell_type": "code",
   "execution_count": null,
   "metadata": {},
   "outputs": [],
   "source": []
  }
 ],
 "metadata": {
  "interpreter": {
   "hash": "40d3a090f54c6569ab1632332b64b2c03c39dcf918b08424e98f38b5ae0af88f"
  },
  "kernelspec": {
   "display_name": "Python 3.9.7 ('base')",
   "language": "python",
   "name": "python3"
  },
  "language_info": {
   "codemirror_mode": {
    "name": "ipython",
    "version": 3
   },
   "file_extension": ".py",
   "mimetype": "text/x-python",
   "name": "python",
   "nbconvert_exporter": "python",
   "pygments_lexer": "ipython3",
   "version": "3.9.7"
  },
  "orig_nbformat": 4
 },
 "nbformat": 4,
 "nbformat_minor": 2
}
