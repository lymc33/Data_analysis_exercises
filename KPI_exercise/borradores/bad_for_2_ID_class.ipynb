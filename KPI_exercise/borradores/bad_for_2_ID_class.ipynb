{
 "cells": [
  {
   "cell_type": "code",
   "execution_count": 1,
   "metadata": {},
   "outputs": [],
   "source": [
    "import pandas as pd\n",
    "import numpy as np\n",
    "import collections\n",
    "from collections import Counter"
   ]
  },
  {
   "cell_type": "code",
   "execution_count": 2,
   "metadata": {},
   "outputs": [],
   "source": [
    "dfAll = pd.read_csv('/Users/yairmartinez/Documents/GitHub/data_analysis_exercises/DB/Tablas/dfAll.csv')"
   ]
  },
  {
   "cell_type": "code",
   "execution_count": 3,
   "metadata": {},
   "outputs": [
    {
     "data": {
      "text/plain": [
       "(777715, 21)"
      ]
     },
     "execution_count": 3,
     "metadata": {},
     "output_type": "execute_result"
    }
   ],
   "source": [
    "dfAll.shape"
   ]
  },
  {
   "cell_type": "code",
   "execution_count": 4,
   "metadata": {},
   "outputs": [],
   "source": [
    "df2= dfAll.iloc[:100,]"
   ]
  },
  {
   "cell_type": "code",
   "execution_count": 5,
   "metadata": {},
   "outputs": [
    {
     "data": {
      "text/plain": [
       "(100, 21)"
      ]
     },
     "execution_count": 5,
     "metadata": {},
     "output_type": "execute_result"
    }
   ],
   "source": [
    "df2.shape"
   ]
  },
  {
   "cell_type": "code",
   "execution_count": 101,
   "metadata": {},
   "outputs": [
    {
     "name": "stderr",
     "output_type": "stream",
     "text": [
      "/var/folders/v1/3g8467xs4vvf3w4gs3sqq6qr0000gn/T/ipykernel_3507/3915377169.py:4: UserWarning: Boolean Series key will be reindexed to match DataFrame index.\n",
      "  mes_actual= df2[ ( dfAll['MONTHS_BALANCE'] == 0 )   ]\n",
      "/var/folders/v1/3g8467xs4vvf3w4gs3sqq6qr0000gn/T/ipykernel_3507/3915377169.py:5: UserWarning: Boolean Series key will be reindexed to match DataFrame index.\n",
      "  mes_m1= df2[ ( dfAll['MONTHS_BALANCE'] == -1 )   ]\n",
      "/var/folders/v1/3g8467xs4vvf3w4gs3sqq6qr0000gn/T/ipykernel_3507/3915377169.py:6: UserWarning: Boolean Series key will be reindexed to match DataFrame index.\n",
      "  mes_m12= df2[ ( dfAll['MONTHS_BALANCE'] == -2 )   ]\n"
     ]
    }
   ],
   "source": [
    "### Definicion de meses\n",
    "\n",
    "### variable_df_mes                          ###   == variable_mes\n",
    "mes_actual= df2[ ( dfAll['MONTHS_BALANCE'] == 0 )   ]        \n",
    "mes_m1= df2[ ( dfAll['MONTHS_BALANCE'] == -1 )   ]\n",
    "mes_m12= df2[ ( dfAll['MONTHS_BALANCE'] == -2 )   ]"
   ]
  },
  {
   "cell_type": "code",
   "execution_count": 102,
   "metadata": {},
   "outputs": [
    {
     "data": {
      "text/plain": [
       "((6, 21), (6, 21), (5, 21))"
      ]
     },
     "execution_count": 102,
     "metadata": {},
     "output_type": "execute_result"
    }
   ],
   "source": [
    "mes_actual.shape, mes_m1.shape, mes_m12.shape"
   ]
  },
  {
   "cell_type": "code",
   "execution_count": 75,
   "metadata": {},
   "outputs": [
    {
     "data": {
      "text/html": [
       "<div>\n",
       "<style scoped>\n",
       "    .dataframe tbody tr th:only-of-type {\n",
       "        vertical-align: middle;\n",
       "    }\n",
       "\n",
       "    .dataframe tbody tr th {\n",
       "        vertical-align: top;\n",
       "    }\n",
       "\n",
       "    .dataframe thead th {\n",
       "        text-align: right;\n",
       "    }\n",
       "</style>\n",
       "<table border=\"1\" class=\"dataframe\">\n",
       "  <thead>\n",
       "    <tr style=\"text-align: right;\">\n",
       "      <th></th>\n",
       "      <th>Unnamed: 0</th>\n",
       "      <th>ID</th>\n",
       "      <th>CODE_GENDER</th>\n",
       "      <th>FLAG_OWN_CAR</th>\n",
       "      <th>FLAG_OWN_REALTY</th>\n",
       "      <th>CNT_CHILDREN</th>\n",
       "      <th>AMT_INCOME_TOTAL</th>\n",
       "      <th>NAME_INCOME_TYPE</th>\n",
       "      <th>NAME_EDUCATION_TYPE</th>\n",
       "      <th>NAME_FAMILY_STATUS</th>\n",
       "      <th>...</th>\n",
       "      <th>YEARS_BIRTH</th>\n",
       "      <th>YEARS_EMPLOYED</th>\n",
       "      <th>FLAG_MOBIL</th>\n",
       "      <th>FLAG_WORK_PHONE</th>\n",
       "      <th>FLAG_PHONE</th>\n",
       "      <th>FLAG_EMAIL</th>\n",
       "      <th>OCCUPATION_TYPE</th>\n",
       "      <th>CNT_FAM_MEMBERS</th>\n",
       "      <th>MONTHS_BALANCE</th>\n",
       "      <th>STATUS</th>\n",
       "    </tr>\n",
       "  </thead>\n",
       "  <tbody>\n",
       "    <tr>\n",
       "      <th>12</th>\n",
       "      <td>12</td>\n",
       "      <td>5008804</td>\n",
       "      <td>M</td>\n",
       "      <td>Y</td>\n",
       "      <td>Y</td>\n",
       "      <td>0</td>\n",
       "      <td>427500.0</td>\n",
       "      <td>Working</td>\n",
       "      <td>Higher education</td>\n",
       "      <td>Civil marriage</td>\n",
       "      <td>...</td>\n",
       "      <td>32.89</td>\n",
       "      <td>12.44</td>\n",
       "      <td>1</td>\n",
       "      <td>1</td>\n",
       "      <td>0</td>\n",
       "      <td>0</td>\n",
       "      <td>NaN</td>\n",
       "      <td>2.0</td>\n",
       "      <td>-12</td>\n",
       "      <td>C</td>\n",
       "    </tr>\n",
       "    <tr>\n",
       "      <th>28</th>\n",
       "      <td>28</td>\n",
       "      <td>5008805</td>\n",
       "      <td>M</td>\n",
       "      <td>Y</td>\n",
       "      <td>Y</td>\n",
       "      <td>0</td>\n",
       "      <td>427500.0</td>\n",
       "      <td>Working</td>\n",
       "      <td>Higher education</td>\n",
       "      <td>Civil marriage</td>\n",
       "      <td>...</td>\n",
       "      <td>32.89</td>\n",
       "      <td>12.44</td>\n",
       "      <td>1</td>\n",
       "      <td>1</td>\n",
       "      <td>0</td>\n",
       "      <td>0</td>\n",
       "      <td>NaN</td>\n",
       "      <td>2.0</td>\n",
       "      <td>-12</td>\n",
       "      <td>1</td>\n",
       "    </tr>\n",
       "    <tr>\n",
       "      <th>43</th>\n",
       "      <td>43</td>\n",
       "      <td>5008806</td>\n",
       "      <td>M</td>\n",
       "      <td>Y</td>\n",
       "      <td>Y</td>\n",
       "      <td>0</td>\n",
       "      <td>112500.0</td>\n",
       "      <td>Working</td>\n",
       "      <td>Secondary / secondary special</td>\n",
       "      <td>Married</td>\n",
       "      <td>...</td>\n",
       "      <td>58.83</td>\n",
       "      <td>3.11</td>\n",
       "      <td>1</td>\n",
       "      <td>0</td>\n",
       "      <td>0</td>\n",
       "      <td>0</td>\n",
       "      <td>Security staff</td>\n",
       "      <td>2.0</td>\n",
       "      <td>-12</td>\n",
       "      <td>X</td>\n",
       "    </tr>\n",
       "    <tr>\n",
       "      <th>83</th>\n",
       "      <td>83</td>\n",
       "      <td>5008810</td>\n",
       "      <td>F</td>\n",
       "      <td>N</td>\n",
       "      <td>Y</td>\n",
       "      <td>0</td>\n",
       "      <td>270000.0</td>\n",
       "      <td>Commercial associate</td>\n",
       "      <td>Secondary / secondary special</td>\n",
       "      <td>Single / not married</td>\n",
       "      <td>...</td>\n",
       "      <td>52.36</td>\n",
       "      <td>8.36</td>\n",
       "      <td>1</td>\n",
       "      <td>0</td>\n",
       "      <td>1</td>\n",
       "      <td>1</td>\n",
       "      <td>Sales staff</td>\n",
       "      <td>1.0</td>\n",
       "      <td>-12</td>\n",
       "      <td>C</td>\n",
       "    </tr>\n",
       "  </tbody>\n",
       "</table>\n",
       "<p>4 rows × 21 columns</p>\n",
       "</div>"
      ],
      "text/plain": [
       "    Unnamed: 0       ID CODE_GENDER FLAG_OWN_CAR FLAG_OWN_REALTY  \\\n",
       "12          12  5008804           M            Y               Y   \n",
       "28          28  5008805           M            Y               Y   \n",
       "43          43  5008806           M            Y               Y   \n",
       "83          83  5008810           F            N               Y   \n",
       "\n",
       "    CNT_CHILDREN  AMT_INCOME_TOTAL      NAME_INCOME_TYPE  \\\n",
       "12             0          427500.0               Working   \n",
       "28             0          427500.0               Working   \n",
       "43             0          112500.0               Working   \n",
       "83             0          270000.0  Commercial associate   \n",
       "\n",
       "              NAME_EDUCATION_TYPE    NAME_FAMILY_STATUS  ... YEARS_BIRTH  \\\n",
       "12               Higher education        Civil marriage  ...       32.89   \n",
       "28               Higher education        Civil marriage  ...       32.89   \n",
       "43  Secondary / secondary special               Married  ...       58.83   \n",
       "83  Secondary / secondary special  Single / not married  ...       52.36   \n",
       "\n",
       "    YEARS_EMPLOYED  FLAG_MOBIL  FLAG_WORK_PHONE  FLAG_PHONE  FLAG_EMAIL  \\\n",
       "12           12.44           1                1           0           0   \n",
       "28           12.44           1                1           0           0   \n",
       "43            3.11           1                0           0           0   \n",
       "83            8.36           1                0           1           1   \n",
       "\n",
       "    OCCUPATION_TYPE CNT_FAM_MEMBERS  MONTHS_BALANCE  STATUS  \n",
       "12              NaN             2.0             -12       C  \n",
       "28              NaN             2.0             -12       1  \n",
       "43   Security staff             2.0             -12       X  \n",
       "83      Sales staff             1.0             -12       C  \n",
       "\n",
       "[4 rows x 21 columns]"
      ]
     },
     "execution_count": 75,
     "metadata": {},
     "output_type": "execute_result"
    }
   ],
   "source": [
    "mes_m12.head()"
   ]
  },
  {
   "cell_type": "code",
   "execution_count": 78,
   "metadata": {},
   "outputs": [
    {
     "data": {
      "text/plain": [
       "(5008808, 'X', 'C')"
      ]
     },
     "execution_count": 78,
     "metadata": {},
     "output_type": "execute_result"
    }
   ],
   "source": [
    "mes_m1.iloc[3].ID , mes_m1.iloc[3].STATUS, mes_m12.iloc[3].STATUS"
   ]
  },
  {
   "cell_type": "code",
   "execution_count": 79,
   "metadata": {},
   "outputs": [],
   "source": [
    "\n",
    "lista_ID_mes = []\n",
    "               ### variable_df_mes   ### variable_index\n",
    "lista_ID_mes.append(  mes_actual.iloc[0].STATUS  ) # Lista registro por ID al mes\n",
    "lista_ID_mes.append(  mes_m1.iloc[0].STATUS  ) # Lista registro por ID al mes -1\n",
    "lista_ID_mes.append(  mes_m12.iloc[0].STATUS  ) # Lista registro por ID al mes -12"
   ]
  },
  {
   "cell_type": "code",
   "execution_count": 80,
   "metadata": {},
   "outputs": [
    {
     "data": {
      "text/plain": [
       "['C', 'C', 'C']"
      ]
     },
     "execution_count": 80,
     "metadata": {},
     "output_type": "execute_result"
    }
   ],
   "source": [
    "lista_ID_mes"
   ]
  },
  {
   "cell_type": "code",
   "execution_count": 81,
   "metadata": {},
   "outputs": [
    {
     "data": {
      "text/plain": [
       "{5008804: ['C', 'C', 'C']}"
      ]
     },
     "execution_count": 81,
     "metadata": {},
     "output_type": "execute_result"
    }
   ],
   "source": [
    "           # variable_df_mes    ### variable_index    \n",
    "dic_prueba = {  mes_actual.iloc[0].ID : lista_ID_mes   }    \n",
    "dic_prueba"
   ]
  },
  {
   "cell_type": "code",
   "execution_count": 82,
   "metadata": {},
   "outputs": [
    {
     "data": {
      "text/plain": [
       "3"
      ]
     },
     "execution_count": 82,
     "metadata": {},
     "output_type": "execute_result"
    }
   ],
   "source": [
    "dic_prueba[5008804].count('C')"
   ]
  },
  {
   "cell_type": "code",
   "execution_count": 83,
   "metadata": {},
   "outputs": [],
   "source": [
    "variable_mes = 0\n",
    "\n",
    "variable_df_mes = df2[ ( df2['MONTHS_BALANCE'] == variable_mes )   ] ### Definicion de meses\n",
    "\n",
    "\n",
    "lista_ID_index = []\n",
    "lista_STATUS_index = []\n",
    "\n",
    "lista_listas = []\n",
    "\n",
    "lista_final = [] \n",
    "\n",
    "for i in range (0, ( len(variable_df_mes )) ) :     \n",
    "    lista_ID_index.append( variable_df_mes.iloc[i].ID  ) # Lista registro por ID al mes\n",
    "    lista_STATUS_index.append( variable_df_mes.iloc[i].STATUS  ) # Lista registro por STATUS al mes\n",
    "\n",
    "    lista_listas = tuple(zip(lista_ID_index,lista_STATUS_index)) \n",
    "    #lista_listas = dict.fromkeys(  lista_ID_index  ,  lista_STATUS_index  )\n",
    "\n",
    "    # for j in range (0 , len(lista_listas)):\n",
    "    #     lista_final.insert( 0, lista_listas[j][0], lista_listas[j][1] )\n",
    "\n",
    "        \n"
   ]
  },
  {
   "cell_type": "code",
   "execution_count": 84,
   "metadata": {},
   "outputs": [],
   "source": [
    "variable_mes = -1\n",
    "\n",
    "variable_df_mes = df2[ ( df2['MONTHS_BALANCE'] == variable_mes )   ] ### Definicion de meses\n",
    "\n",
    "\n",
    "lista_ID_index_2 = []\n",
    "lista_STATUS_index_2 = []\n",
    "\n",
    "\n",
    "for i in range (0, ( len(variable_df_mes )) ) :     \n",
    "    lista_ID_index_2.append( variable_df_mes.iloc[i].ID  ) # Lista registro por ID al mes\n",
    "    lista_STATUS_index_2.append( variable_df_mes.iloc[i].STATUS  ) # Lista registro por STATUS al mes\n",
    "\n",
    "    lista_listas_2 = tuple(zip(lista_ID_index_2,lista_STATUS_index_2)) \n",
    "\n",
    "# for j in range (0 , len(lista_listas)):\n",
    "#     lista_final.append( lista_listas_2[j][0] )\n",
    "#     lista_final.append( lista_listas_2[j][1] )"
   ]
  },
  {
   "cell_type": "code",
   "execution_count": 85,
   "metadata": {},
   "outputs": [],
   "source": [
    "variable_mes = -12\n",
    "\n",
    "variable_df_mes = df2[ ( df2['MONTHS_BALANCE'] == variable_mes )   ] ### Definicion de meses\n",
    "\n",
    "\n",
    "lista_ID_index_3 = []\n",
    "lista_STATUS_index_3 = []\n",
    "\n",
    "\n",
    "for i in range (0, ( len(variable_df_mes )) ) :     \n",
    "    lista_ID_index_3.append( variable_df_mes.iloc[i].ID  ) # Lista registro por ID al mes\n",
    "    lista_STATUS_index_3.append( variable_df_mes.iloc[i].STATUS  ) # Lista registro por STATUS al mes\n",
    "\n",
    "    lista_listas_3 = tuple(zip(lista_ID_index_3,lista_STATUS_index_3)) \n",
    "\n",
    "# for j in range (0 , len(lista_listas)):\n",
    "#     lista_final.append( lista_listas_2[j][0] )\n",
    "#     lista_final.append( lista_listas_2[j][1] )"
   ]
  },
  {
   "cell_type": "code",
   "execution_count": 105,
   "metadata": {},
   "outputs": [
    {
     "data": {
      "text/plain": [
       "tuple"
      ]
     },
     "execution_count": 105,
     "metadata": {},
     "output_type": "execute_result"
    }
   ],
   "source": [
    "type(lista_listas)"
   ]
  },
  {
   "cell_type": "code",
   "execution_count": 88,
   "metadata": {},
   "outputs": [
    {
     "data": {
      "text/plain": [
       "(((5008804, 'C'),\n",
       "  (5008805, 'C'),\n",
       "  (5008806, 'C'),\n",
       "  (5008808, '0'),\n",
       "  (5008810, 'C'),\n",
       "  (5008811, 'C')),\n",
       " ((5008804, 'C'),\n",
       "  (5008805, 'C'),\n",
       "  (5008806, 'C'),\n",
       "  (5008808, 'X'),\n",
       "  (5008810, 'C'),\n",
       "  (5008811, 'C')),\n",
       " ((5008804, 'C'), (5008805, '1'), (5008806, 'X'), (5008810, 'C')))"
      ]
     },
     "execution_count": 88,
     "metadata": {},
     "output_type": "execute_result"
    }
   ],
   "source": [
    "lista_listas , lista_listas_2, lista_listas_3"
   ]
  },
  {
   "cell_type": "code",
   "execution_count": 89,
   "metadata": {},
   "outputs": [
    {
     "data": {
      "text/plain": [
       "(tuple, tuple, tuple)"
      ]
     },
     "execution_count": 89,
     "metadata": {},
     "output_type": "execute_result"
    }
   ],
   "source": [
    "type(lista_listas) , type(lista_listas_2) , type(lista_listas_3)"
   ]
  },
  {
   "cell_type": "code",
   "execution_count": 90,
   "metadata": {},
   "outputs": [
    {
     "data": {
      "text/plain": [
       "(6, 6, 4)"
      ]
     },
     "execution_count": 90,
     "metadata": {},
     "output_type": "execute_result"
    }
   ],
   "source": [
    "len(lista_listas), len(lista_listas_2), len(lista_listas_3)"
   ]
  },
  {
   "cell_type": "code",
   "execution_count": 91,
   "metadata": {},
   "outputs": [
    {
     "data": {
      "text/plain": [
       "5008804"
      ]
     },
     "execution_count": 91,
     "metadata": {},
     "output_type": "execute_result"
    }
   ],
   "source": [
    "lista_listas[0][0]"
   ]
  },
  {
   "cell_type": "code",
   "execution_count": 92,
   "metadata": {},
   "outputs": [],
   "source": [
    "lst1 = lista_listas\n",
    "lst2 = lista_listas_2\n",
    "dict1 = dict(lst1)\n",
    "dict2 = dict(lst2)\n",
    "#lst3 = [(k, dict1[k], dict2[k]) for k in sorted(dict1)]\n",
    "lst3 = [(k, v, dict2[k]) for k, v in lst1]"
   ]
  },
  {
   "cell_type": "code",
   "execution_count": 94,
   "metadata": {},
   "outputs": [
    {
     "ename": "ValueError",
     "evalue": "dictionary update sequence element #0 has length 3; 2 is required",
     "output_type": "error",
     "traceback": [
      "\u001b[0;31m---------------------------------------------------------------------------\u001b[0m",
      "\u001b[0;31mValueError\u001b[0m                                Traceback (most recent call last)",
      "\u001b[0;32m/var/folders/v1/3g8467xs4vvf3w4gs3sqq6qr0000gn/T/ipykernel_3507/2885222105.py\u001b[0m in \u001b[0;36m<module>\u001b[0;34m\u001b[0m\n\u001b[1;32m      1\u001b[0m \u001b[0mlst1\u001b[0m \u001b[0;34m=\u001b[0m \u001b[0mlst3\u001b[0m\u001b[0;34m\u001b[0m\u001b[0;34m\u001b[0m\u001b[0m\n\u001b[1;32m      2\u001b[0m \u001b[0mlst2\u001b[0m \u001b[0;34m=\u001b[0m \u001b[0mlista_listas_3\u001b[0m\u001b[0;34m\u001b[0m\u001b[0;34m\u001b[0m\u001b[0m\n\u001b[0;32m----> 3\u001b[0;31m \u001b[0mdict1\u001b[0m \u001b[0;34m=\u001b[0m \u001b[0mdict\u001b[0m\u001b[0;34m(\u001b[0m\u001b[0mlst1\u001b[0m\u001b[0;34m)\u001b[0m\u001b[0;34m\u001b[0m\u001b[0;34m\u001b[0m\u001b[0m\n\u001b[0m\u001b[1;32m      4\u001b[0m \u001b[0mdict2\u001b[0m \u001b[0;34m=\u001b[0m \u001b[0mdict\u001b[0m\u001b[0;34m(\u001b[0m\u001b[0mlst2\u001b[0m\u001b[0;34m)\u001b[0m\u001b[0;34m\u001b[0m\u001b[0;34m\u001b[0m\u001b[0m\n\u001b[1;32m      5\u001b[0m \u001b[0;31m#lst3 = [(k, dict1[k], dict2[k]) for k in sorted(dict1)]\u001b[0m\u001b[0;34m\u001b[0m\u001b[0;34m\u001b[0m\u001b[0m\n",
      "\u001b[0;31mValueError\u001b[0m: dictionary update sequence element #0 has length 3; 2 is required"
     ]
    }
   ],
   "source": [
    "lst1 = lst3\n",
    "lst2 = lista_listas_3\n",
    "dict1 = dict(lst1)\n",
    "dict2 = dict(lst2)\n",
    "#lst3 = [(k, dict1[k], dict2[k]) for k in sorted(dict1)]\n",
    "lst3 = [(k, v, dict2[k]) for k, v in lst1]"
   ]
  },
  {
   "cell_type": "code",
   "execution_count": 64,
   "metadata": {},
   "outputs": [
    {
     "data": {
      "text/plain": [
       "list"
      ]
     },
     "execution_count": 64,
     "metadata": {},
     "output_type": "execute_result"
    }
   ],
   "source": [
    "type(lst3)"
   ]
  },
  {
   "cell_type": "code",
   "execution_count": 57,
   "metadata": {},
   "outputs": [
    {
     "data": {
      "text/plain": [
       "[(5008804, 'C', ['C']),\n",
       " (5008805, 'C', ['C']),\n",
       " (5008806, 'C', ['C']),\n",
       " (5008808, '0', ['0']),\n",
       " (5008810, 'C', ['C']),\n",
       " (5008811, 'C', ['C'])]"
      ]
     },
     "execution_count": 57,
     "metadata": {},
     "output_type": "execute_result"
    }
   ],
   "source": [
    "lst3"
   ]
  },
  {
   "cell_type": "code",
   "execution_count": 65,
   "metadata": {},
   "outputs": [],
   "source": [
    "tuple_test = tuple(zip(lst3)) "
   ]
  },
  {
   "cell_type": "code",
   "execution_count": 66,
   "metadata": {},
   "outputs": [
    {
     "data": {
      "text/plain": [
       "(((5008804, 'C', ['C']),),\n",
       " ((5008805, 'C', ['C']),),\n",
       " ((5008806, 'C', ['C']),),\n",
       " ((5008808, '0', ['0']),),\n",
       " ((5008810, 'C', ['C']),),\n",
       " ((5008811, 'C', ['C']),))"
      ]
     },
     "execution_count": 66,
     "metadata": {},
     "output_type": "execute_result"
    }
   ],
   "source": [
    "tuple_test"
   ]
  },
  {
   "cell_type": "code",
   "execution_count": null,
   "metadata": {},
   "outputs": [],
   "source": []
  },
  {
   "cell_type": "code",
   "execution_count": null,
   "metadata": {},
   "outputs": [],
   "source": []
  },
  {
   "cell_type": "code",
   "execution_count": null,
   "metadata": {},
   "outputs": [],
   "source": []
  },
  {
   "cell_type": "code",
   "execution_count": null,
   "metadata": {},
   "outputs": [],
   "source": []
  },
  {
   "cell_type": "code",
   "execution_count": 28,
   "metadata": {},
   "outputs": [],
   "source": [
    "# lista_final = []\n",
    "\n",
    "# for i in range ( len(lista_listas) ):\n",
    "#     lista_final.append( lista_listas[i][0] )\n",
    "#     lista_final.append( lista_listas[i][1] )\n",
    "#     lista_final.append( lista_listas_2[i][1] )\n",
    "\n",
    "#     tuple(zip(lista_ID_index_2,lista_STATUS_index_2))\n",
    "\n",
    "\n"
   ]
  },
  {
   "cell_type": "code",
   "execution_count": null,
   "metadata": {},
   "outputs": [],
   "source": [
    "# lista_ID_mes = []\n",
    "# lista_STATUS_mes = []\n",
    "\n",
    "# dic_ID_STATUS_mes={} \n",
    "#                             # Se fijan 12 meses para clasificacion por año\n",
    "# for variable_mes in range(0,1):\n",
    "#     variable_df_mes = df2[ ( df2['MONTHS_BALANCE'] == variable_mes )   ] ### Definicion de meses\n",
    "\n",
    "\n",
    "#     lista_ID_index = []\n",
    "#     lista_STATUS_index = []\n",
    "\n",
    "#     for i in range (0,(len(variable_df_mes))) :     \n",
    "#         lista_ID_index.append( variable_df_mes.iloc[i].ID  ) # Lista registro por ID al mes\n",
    "#         lista_STATUS_index.append( variable_df_mes.iloc[i].STATUS  ) # Lista registro por STATUS al mes    \n",
    "        \n",
    "#         dic_ID_STATUS_index = dict.fromkeys(  lista_ID_index  ,  lista_STATUS_index  ) \n",
    "\n",
    "#     lista_STATUS_mes.append( dic_ID_STATUS_index  ) # Lista registro por STATUS al mes \n",
    "\n",
    "    \n",
    "#     # dic_ID_STATUS_mes.update(dic_ID_STATUS_index) #SE MOVIO UNA SANGRIA ADENTRO\n",
    "\n",
    "    \n",
    "#     # l\n",
    "\n",
    "#     # dic_ID_STATUS_mes.update(lista_STATUS_mes) #SE MOVIO UNA SANGRIA ADENTRO\n",
    "\n",
    "\n",
    "          \n"
   ]
  }
 ],
 "metadata": {
  "interpreter": {
   "hash": "40d3a090f54c6569ab1632332b64b2c03c39dcf918b08424e98f38b5ae0af88f"
  },
  "kernelspec": {
   "display_name": "Python 3.9.7 ('base')",
   "language": "python",
   "name": "python3"
  },
  "language_info": {
   "codemirror_mode": {
    "name": "ipython",
    "version": 3
   },
   "file_extension": ".py",
   "mimetype": "text/x-python",
   "name": "python",
   "nbconvert_exporter": "python",
   "pygments_lexer": "ipython3",
   "version": "3.9.7"
  },
  "orig_nbformat": 4
 },
 "nbformat": 4,
 "nbformat_minor": 2
}
