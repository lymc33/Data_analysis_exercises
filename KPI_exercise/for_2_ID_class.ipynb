{
 "cells": [
  {
   "cell_type": "code",
   "execution_count": 186,
   "metadata": {},
   "outputs": [],
   "source": [
    "import pandas as pd\n",
    "import numpy as np\n",
    "from collections import Counter\n",
    "from itertools import chain"
   ]
  },
  {
   "cell_type": "code",
   "execution_count": 162,
   "metadata": {},
   "outputs": [
    {
     "data": {
      "text/plain": [
       "(1000, 21)"
      ]
     },
     "execution_count": 162,
     "metadata": {},
     "output_type": "execute_result"
    }
   ],
   "source": [
    "dfAll = pd.read_csv('/Users/yairmartinez/Documents/GitHub/data_analysis_exercises/DB/Tablas/dfAll.csv')\n",
    "\n",
    "df2= dfAll.iloc[:1000,]\n",
    "df2.shape"
   ]
  },
  {
   "cell_type": "code",
   "execution_count": 163,
   "metadata": {},
   "outputs": [
    {
     "name": "stderr",
     "output_type": "stream",
     "text": [
      "/var/folders/v1/3g8467xs4vvf3w4gs3sqq6qr0000gn/T/ipykernel_3507/2676705382.py:2: UserWarning: Boolean Series key will be reindexed to match DataFrame index.\n",
      "  mes_m0= df2[ ( dfAll['MONTHS_BALANCE'] == 0 )   ]\n"
     ]
    }
   ],
   "source": [
    "### variable_df_mes                          ###   == variable_mes\n",
    "mes_m0= df2[ ( dfAll['MONTHS_BALANCE'] == 0 )   ]    "
   ]
  },
  {
   "cell_type": "code",
   "execution_count": 170,
   "metadata": {},
   "outputs": [],
   "source": [
    "# lista_ID_mes = []\n",
    "# lista_STATUS_mes = []\n",
    "\n",
    "# dic_ID_STATUS_mes={} \n",
    "lista_ID_C_tot = []\n",
    "lista_ID_X_tot = []\n",
    "lista_ID_0_tot = []\n",
    "\n",
    "\n",
    "#                             # Se fijan 12 meses para clasificacion por año\n",
    "for variable_mes in range(-2,1):\n",
    "    variable_df_mes = df2[ ( df2['MONTHS_BALANCE'] == variable_mes )   ] ### Definicion de meses\n",
    "    lista_ID_index = []\n",
    "    lista_STATUS_index = []\n",
    "\n",
    "    lista_ID_C_mes = []\n",
    "    lista_ID_X_mes = []\n",
    "    lista_ID_0_mes = []\n",
    "\n",
    "    for i in range (0,(len(variable_df_mes))) :     \n",
    "        lista_ID_index.append( variable_df_mes.iloc[i].ID  ) # Lista registro por ID al mes\n",
    "        lista_STATUS_index.append( variable_df_mes.iloc[i].STATUS  ) # Lista registro por STATUS al mes    \n",
    "        \n",
    "    tupla_index = tuple(zip(lista_ID_index , lista_STATUS_index)) \n",
    "\n",
    "    for j in range (0,len(tupla_index)):\n",
    "        if tupla_index[j][1] == 'C':\n",
    "            lista_ID_C_mes.append(tupla_index[j][0])\n",
    "        elif tupla_index[j][1] == 'X':\n",
    "            lista_ID_X_mes.append(tupla_index[j][0])\n",
    "        elif tupla_index[j][1] == '0':\n",
    "            lista_ID_0_mes.append(tupla_index[j][0])\n",
    "\n",
    "    lista_ID_C_tot.append(lista_ID_C_mes)\n",
    "    lista_ID_X_tot.append(lista_ID_X_mes)\n",
    "    lista_ID_0_tot.append(lista_ID_0_mes)\n",
    "\n",
    "\n",
    "   # lista_STATUS_mes.append( dic_ID_STATUS_index  ) # Lista registro por STATUS al mes \n",
    "\n",
    "    \n",
    "    # dic_ID_STATUS_mes.update(dic_ID_STATUS_index) #SE MOVIO UNA SANGRIA ADENTRO\n",
    "\n",
    "    \n",
    "    # l\n",
    "\n",
    "    # dic_ID_STATUS_mes.update(lista_STATUS_mes) #SE MOVIO UNA SANGRIA ADENTRO\n",
    "\n",
    "\n",
    "          \n"
   ]
  },
  {
   "cell_type": "code",
   "execution_count": 183,
   "metadata": {},
   "outputs": [
    {
     "name": "stdout",
     "output_type": "stream",
     "text": [
      "[5008804, 5008805, 5008806, 5008810, 5008811, 5008830, 5008831, 5008832, 5008834, 5008839, 5008840, 5008843, 5008855, 5008858, 5008873, 5008874]\n"
     ]
    }
   ],
   "source": [
    "print(lista_ID_C_mes)"
   ]
  },
  {
   "cell_type": "code",
   "execution_count": 184,
   "metadata": {},
   "outputs": [
    {
     "name": "stdout",
     "output_type": "stream",
     "text": [
      "[[5008804, 5008805, 5008806, 5008810, 5008811, 5008826, 5008830, 5008831, 5008832, 5008834, 5008837, 5008839, 5008840, 5008843, 5008855, 5008873, 5008874], [5008804, 5008805, 5008806, 5008810, 5008811, 5008826, 5008830, 5008831, 5008832, 5008834, 5008839, 5008840, 5008843, 5008855, 5008873, 5008874], [5008804, 5008805, 5008806, 5008810, 5008811, 5008830, 5008831, 5008832, 5008834, 5008839, 5008840, 5008843, 5008855, 5008858, 5008873, 5008874], [5008804, 5008805, 5008806, 5008810, 5008811, 5008830, 5008831, 5008832, 5008834, 5008839, 5008840, 5008843, 5008855, 5008858, 5008873, 5008874]]\n"
     ]
    }
   ],
   "source": [
    "print(lista_ID_C_tot)"
   ]
  },
  {
   "cell_type": "code",
   "execution_count": 185,
   "metadata": {},
   "outputs": [
    {
     "data": {
      "text/plain": [
       "list"
      ]
     },
     "execution_count": 185,
     "metadata": {},
     "output_type": "execute_result"
    }
   ],
   "source": [
    "type(lista_ID_C_tot)"
   ]
  },
  {
   "cell_type": "code",
   "execution_count": 204,
   "metadata": {},
   "outputs": [
    {
     "data": {
      "text/plain": [
       "Counter({5008804: 1,\n",
       "         5008805: 1,\n",
       "         5008806: 1,\n",
       "         5008810: 1,\n",
       "         5008811: 1,\n",
       "         5008830: 1,\n",
       "         5008831: 1,\n",
       "         5008832: 1,\n",
       "         5008834: 1,\n",
       "         5008839: 1,\n",
       "         5008840: 1,\n",
       "         5008843: 1,\n",
       "         5008855: 1,\n",
       "         5008858: 1,\n",
       "         5008873: 1,\n",
       "         5008874: 1})"
      ]
     },
     "execution_count": 204,
     "metadata": {},
     "output_type": "execute_result"
    }
   ],
   "source": [
    "Counter(chain(lista_ID_C_mes))"
   ]
  },
  {
   "cell_type": "code",
   "execution_count": 207,
   "metadata": {},
   "outputs": [
    {
     "data": {
      "text/plain": [
       "Counter({5008804: 1,\n",
       "         5008805: 1,\n",
       "         5008806: 1,\n",
       "         5008810: 1,\n",
       "         5008811: 1,\n",
       "         5008830: 1,\n",
       "         5008831: 1,\n",
       "         5008832: 1,\n",
       "         5008834: 1,\n",
       "         5008839: 1,\n",
       "         5008840: 1,\n",
       "         5008843: 1,\n",
       "         5008855: 1,\n",
       "         5008858: 1,\n",
       "         5008873: 1,\n",
       "         5008874: 1})"
      ]
     },
     "execution_count": 207,
     "metadata": {},
     "output_type": "execute_result"
    }
   ],
   "source": [
    "Counter(chain(lista_ID_C_tot[3]))"
   ]
  },
  {
   "cell_type": "code",
   "execution_count": null,
   "metadata": {},
   "outputs": [],
   "source": []
  }
 ],
 "metadata": {
  "language_info": {
   "name": "python"
  },
  "orig_nbformat": 4
 },
 "nbformat": 4,
 "nbformat_minor": 2
}
