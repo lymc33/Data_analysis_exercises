{
 "cells": [
  {
   "cell_type": "markdown",
   "metadata": {},
   "source": [
    "### Importaciones y lecturas"
   ]
  },
  {
   "cell_type": "code",
   "execution_count": 1,
   "metadata": {},
   "outputs": [],
   "source": [
    "import pandas as pd\n",
    "import numpy as np\n",
    "from collections import Counter\n",
    "from itertools import chain\n",
    "import shutil"
   ]
  },
  {
   "cell_type": "code",
   "execution_count": 2,
   "metadata": {},
   "outputs": [],
   "source": [
    "dfAll = pd.read_csv('/Users/yairmartinez/Documents/GitHub/data_analysis_exercises/DB/Tablas/dfAll.csv')"
   ]
  },
  {
   "cell_type": "markdown",
   "metadata": {},
   "source": [
    "### Ciclo para crear diccionarios po STATUS con ID y contador por mes"
   ]
  },
  {
   "cell_type": "code",
   "execution_count": 3,
   "metadata": {},
   "outputs": [],
   "source": [
    "# lista_ID_mes = []\n",
    "# lista_STATUS_mes = []\n",
    "\n",
    "# dic_ID_STATUS_mes={} \n",
    "lista_ID_C_tot = []\n",
    "lista_ID_X_tot = []\n",
    "lista_ID_0_tot = []\n",
    "lista_ID_1_tot = []\n",
    "lista_ID_2_tot = []\n",
    "lista_ID_3_tot = []\n",
    "lista_ID_4_tot = []\n",
    "lista_ID_5_tot = []\n",
    "\n",
    "lista_TOTAL_C =[] \n",
    "lista_TOTAL_X =[] \n",
    "lista_TOTAL_0 =[] \n",
    "lista_TOTAL_1 =[] \n",
    "lista_TOTAL_2 =[] \n",
    "lista_TOTAL_3 =[] \n",
    "lista_TOTAL_4 =[] \n",
    "lista_TOTAL_5 =[] \n",
    "\n",
    "                       # Se fijan 12 meses para clasificacion por año \n",
    "for variable_mes in range(-11,1):\n",
    "    # variable_df_mes = df2[ ( df2['MONTHS_BALANCE'] == variable_mes )   ] ### Cortado \n",
    "    variable_df_mes = dfAll[ ( dfAll['MONTHS_BALANCE'] == variable_mes )   ]   ### Completo\n",
    "    lista_ID_index = []\n",
    "    lista_STATUS_index = []\n",
    "\n",
    "    lista_ID_C_mes = []\n",
    "    lista_ID_X_mes = []\n",
    "    lista_ID_0_mes = []\n",
    "    lista_ID_1_mes = []\n",
    "    lista_ID_2_mes = []\n",
    "    lista_ID_3_mes = []\n",
    "    lista_ID_4_mes = []\n",
    "    lista_ID_5_mes = []\n",
    "\n",
    "    for i in range (0,(len(variable_df_mes))) :     \n",
    "        lista_ID_index.append( variable_df_mes.iloc[i].ID  ) # Lista registro por ID al mes\n",
    "        lista_STATUS_index.append( variable_df_mes.iloc[i].STATUS  ) # Lista registro por STATUS al mes    \n",
    "        \n",
    "    tupla_index = tuple(zip(lista_ID_index , lista_STATUS_index)) \n",
    "\n",
    "    for j in range (0,len(tupla_index)):\n",
    "        if tupla_index[j][1] == 'C':\n",
    "            lista_ID_C_mes.append(tupla_index[j][0])\n",
    "        elif tupla_index[j][1] == 'X':\n",
    "            lista_ID_X_mes.append(tupla_index[j][0])\n",
    "        elif tupla_index[j][1] == '0':\n",
    "            lista_ID_0_mes.append(tupla_index[j][0])\n",
    "        elif tupla_index[j][1] == '1':\n",
    "            lista_ID_1_mes.append(tupla_index[j][0])\n",
    "        elif tupla_index[j][1] == '2':\n",
    "            lista_ID_2_mes.append(tupla_index[j][0])\n",
    "        elif tupla_index[j][1] == '3':\n",
    "            lista_ID_3_mes.append(tupla_index[j][0])\n",
    "        elif tupla_index[j][1] == '4':\n",
    "            lista_ID_4_mes.append(tupla_index[j][0])\n",
    "        elif tupla_index[j][1] == '5':\n",
    "            lista_ID_5_mes.append(tupla_index[j][0])\n",
    "\n",
    "    lista_ID_C_tot.append(lista_ID_C_mes)\n",
    "    lista_ID_X_tot.append(lista_ID_X_mes)\n",
    "    lista_ID_0_tot.append(lista_ID_0_mes)\n",
    "    lista_ID_1_tot.append(lista_ID_1_mes)\n",
    "    lista_ID_2_tot.append(lista_ID_2_mes)\n",
    "    lista_ID_3_tot.append(lista_ID_3_mes)\n",
    "    lista_ID_4_tot.append(lista_ID_4_mes)\n",
    "    lista_ID_5_tot.append(lista_ID_5_mes)\n",
    "\n",
    "for k in range(0, len(lista_ID_C_tot)):\n",
    "    lista_TOTAL_C.extend( lista_ID_C_tot[k] )\n",
    "    lista_TOTAL_X.extend( lista_ID_X_tot[k] )\n",
    "    lista_TOTAL_0.extend( lista_ID_0_tot[k] )\n",
    "    lista_TOTAL_1.extend( lista_ID_1_tot[k] )\n",
    "    lista_TOTAL_2.extend( lista_ID_2_tot[k] )\n",
    "    lista_TOTAL_3.extend( lista_ID_3_tot[k] )\n",
    "    lista_TOTAL_4.extend( lista_ID_4_tot[k] )\n",
    "    lista_TOTAL_5.extend( lista_ID_5_tot[k] )\n",
    "\n",
    "\n",
    "contador_C = Counter(chain(lista_TOTAL_C))\n",
    "contador_X = Counter(chain(lista_TOTAL_X))\n",
    "contador_0 = Counter(chain(lista_TOTAL_0))\n",
    "contador_1 = Counter(chain(lista_TOTAL_1))         \n",
    "contador_2 = Counter(chain(lista_TOTAL_2))\n",
    "contador_3 = Counter(chain(lista_TOTAL_3))    \n",
    "contador_4 = Counter(chain(lista_TOTAL_4))\n",
    "contador_5 = Counter(chain(lista_TOTAL_5))    \n"
   ]
  },
  {
   "cell_type": "markdown",
   "metadata": {},
   "source": [
    "### Clasificador de clientes"
   ]
  },
  {
   "cell_type": "markdown",
   "metadata": {},
   "source": [
    "#### Preparación de ciclo"
   ]
  },
  {
   "cell_type": "code",
   "execution_count": 4,
   "metadata": {},
   "outputs": [
    {
     "data": {
      "text/plain": [
       "Counter({5112858: 1,\n",
       "         5009744: 2,\n",
       "         5025127: 3,\n",
       "         5029028: 1,\n",
       "         5022053: 1,\n",
       "         5052877: 1,\n",
       "         5052879: 1,\n",
       "         5117787: 2,\n",
       "         5137206: 1,\n",
       "         5029311: 1,\n",
       "         5046328: 1,\n",
       "         5126463: 1,\n",
       "         5009749: 2,\n",
       "         5036590: 1,\n",
       "         5041175: 3,\n",
       "         5058531: 2,\n",
       "         5033514: 1,\n",
       "         5078801: 1,\n",
       "         5105189: 1,\n",
       "         5052659: 2,\n",
       "         5097145: 1,\n",
       "         5104947: 1,\n",
       "         5105194: 1,\n",
       "         5050606: 1,\n",
       "         5058352: 1,\n",
       "         5069307: 1,\n",
       "         5116906: 1,\n",
       "         5149828: 1,\n",
       "         5078804: 1,\n",
       "         5117794: 2,\n",
       "         5033453: 1,\n",
       "         5058532: 2,\n",
       "         5068456: 1,\n",
       "         5090214: 1,\n",
       "         5118046: 1,\n",
       "         5145690: 1,\n",
       "         5116302: 1,\n",
       "         5010868: 1,\n",
       "         5010869: 1,\n",
       "         5052661: 2,\n",
       "         5092245: 1,\n",
       "         5078805: 1,\n",
       "         5090729: 1,\n",
       "         5116455: 1,\n",
       "         5021998: 1,\n",
       "         5023831: 1,\n",
       "         5028580: 1,\n",
       "         5045902: 1,\n",
       "         5125761: 1,\n",
       "         5142456: 1,\n",
       "         5146444: 1,\n",
       "         5105196: 1,\n",
       "         5137203: 1,\n",
       "         5036660: 1,\n",
       "         5051161: 1,\n",
       "         5125763: 1})"
      ]
     },
     "execution_count": 4,
     "metadata": {},
     "output_type": "execute_result"
    }
   ],
   "source": [
    "# Por cada ID en la lista, se cuenta cuantas veces sale\n",
    "contador_4"
   ]
  },
  {
   "cell_type": "code",
   "execution_count": 5,
   "metadata": {},
   "outputs": [
    {
     "data": {
      "text/plain": [
       "dict_items([(5112858, 1), (5009744, 2), (5025127, 3), (5029028, 1), (5022053, 1), (5052877, 1), (5052879, 1), (5117787, 2), (5137206, 1), (5029311, 1), (5046328, 1), (5126463, 1), (5009749, 2), (5036590, 1), (5041175, 3), (5058531, 2), (5033514, 1), (5078801, 1), (5105189, 1), (5052659, 2), (5097145, 1), (5104947, 1), (5105194, 1), (5050606, 1), (5058352, 1), (5069307, 1), (5116906, 1), (5149828, 1), (5078804, 1), (5117794, 2), (5033453, 1), (5058532, 2), (5068456, 1), (5090214, 1), (5118046, 1), (5145690, 1), (5116302, 1), (5010868, 1), (5010869, 1), (5052661, 2), (5092245, 1), (5078805, 1), (5090729, 1), (5116455, 1), (5021998, 1), (5023831, 1), (5028580, 1), (5045902, 1), (5125761, 1), (5142456, 1), (5146444, 1), (5105196, 1), (5137203, 1), (5036660, 1), (5051161, 1), (5125763, 1)])"
      ]
     },
     "execution_count": 5,
     "metadata": {},
     "output_type": "execute_result"
    }
   ],
   "source": [
    "# Verificar llaves y valores (keys & Values)\n",
    "contador_4.items()"
   ]
  },
  {
   "cell_type": "code",
   "execution_count": 6,
   "metadata": {},
   "outputs": [
    {
     "name": "stdout",
     "output_type": "stream",
     "text": [
      "2\n"
     ]
    }
   ],
   "source": [
    "print(contador_4[5009749])"
   ]
  },
  {
   "cell_type": "code",
   "execution_count": 7,
   "metadata": {},
   "outputs": [
    {
     "data": {
      "text/plain": [
       "(138901, 49859, 88848, 2911, 229, 78, 68, 572)"
      ]
     },
     "execution_count": 7,
     "metadata": {},
     "output_type": "execute_result"
    }
   ],
   "source": [
    "# Tamaño de listas\n",
    "len(lista_TOTAL_C), len(lista_TOTAL_X) ,  len(lista_TOTAL_0), len(lista_TOTAL_1), len(lista_TOTAL_2), len(lista_TOTAL_3) , len(lista_TOTAL_4), len(lista_TOTAL_5)"
   ]
  },
  {
   "cell_type": "code",
   "execution_count": 8,
   "metadata": {},
   "outputs": [
    {
     "data": {
      "text/plain": [
       "(15198, 9872, 15040, 1631, 162, 70, 56, 104)"
      ]
     },
     "execution_count": 8,
     "metadata": {},
     "output_type": "execute_result"
    }
   ],
   "source": [
    "# En 12 meses\n",
    "len(contador_C), len(contador_X), len(contador_0), len(contador_1), len(contador_2), len(contador_3), len(contador_4), len(contador_5)"
   ]
  },
  {
   "cell_type": "markdown",
   "metadata": {},
   "source": [
    "#### Ciclo para ID Malo y VIP"
   ]
  },
  {
   "cell_type": "code",
   "execution_count": 9,
   "metadata": {},
   "outputs": [],
   "source": [
    "# ID Malo tiene al menos un valor 5 en un año  (Si paga, el STATUS va a 5,4,3,2,1 y 0 de deudas o medio año)\n",
    "# ID Malo tiene al menos dos valores 4 en un año (Si paga, el STATUS va a 4,3,2,1 y 0 de deudas o casi medio año)\n",
    "# ID Malo tiene al menos tres valores 3 en un año (Si paga, el STATUS va a 3,2,1 y 0 de deudas o un tercio de año)\n",
    "\n",
    "ID_malo_r= []\n",
    "ID_vip_r = []\n",
    "\n",
    "for key, value in contador_5.items() :\n",
    "    if contador_5[key] > 0 :\n",
    "        prueba = [] \n",
    "        prueba = [key]\n",
    "        ID_malo_r.append(prueba)\n",
    "\n",
    "\n",
    "for key, value in contador_4.items() :\n",
    "    if contador_4[key] > 1 :\n",
    "        prueba = [] \n",
    "        prueba = [key]\n",
    "        ID_malo_r.append(prueba)\n",
    "\n",
    "for key, value in contador_3.items() :\n",
    "    if contador_3[key] > 2 :\n",
    "        prueba = [] \n",
    "        prueba = [key]\n",
    "        ID_malo_r.append(prueba)\n",
    "\n",
    "\n",
    "### ID VIP tienen más de 8 pagos C en un año  \n",
    "\n",
    "for key, value in contador_C.items() :\n",
    "    if contador_C[key] > 7 :\n",
    "        prueba = [] \n",
    "        prueba = [key]\n",
    "        ID_vip_r.append(prueba)"
   ]
  },
  {
   "cell_type": "code",
   "execution_count": 10,
   "metadata": {},
   "outputs": [
    {
     "data": {
      "text/plain": [
       "(116, 10539, 24672)"
      ]
     },
     "execution_count": 10,
     "metadata": {},
     "output_type": "execute_result"
    }
   ],
   "source": [
    "len(ID_malo_r), len(ID_vip_r), len(tupla_index) # La diferencia entre el total = 24,672 y la suma de ID_malo_r y ID_vip_r son los regulares"
   ]
  },
  {
   "cell_type": "code",
   "execution_count": 11,
   "metadata": {},
   "outputs": [],
   "source": [
    "#Lista total\n",
    "\n",
    "dic_ID_todos = dict(tupla_index)\n",
    "ID_todos_r = list(dic_ID_todos.keys())"
   ]
  },
  {
   "cell_type": "code",
   "execution_count": 12,
   "metadata": {},
   "outputs": [],
   "source": [
    "#Quitar repetidos\n",
    "\n",
    "ID_malo = []\n",
    "for i in ID_malo_r:\n",
    "    if i not in ID_malo:\n",
    "        ID_malo.append(i)\n",
    "\n",
    "ID_vip = []\n",
    "for i in ID_vip_r:\n",
    "    if i not in ID_vip:\n",
    "        ID_vip.append(i)\n",
    "\n",
    "\n",
    "ID_todos = []\n",
    "for i in ID_todos_r:\n",
    "    if i not in ID_todos:\n",
    "        ID_todos.append(i)\n",
    "  "
   ]
  },
  {
   "cell_type": "code",
   "execution_count": 13,
   "metadata": {},
   "outputs": [
    {
     "data": {
      "text/plain": [
       "(116, 111, 10539, 10539, 24672, 24672)"
      ]
     },
     "execution_count": 13,
     "metadata": {},
     "output_type": "execute_result"
    }
   ],
   "source": [
    "len(ID_malo_r), len(ID_malo), len(ID_vip_r), len(ID_vip), len(ID_todos_r), len(ID_todos)"
   ]
  },
  {
   "cell_type": "markdown",
   "metadata": {},
   "source": [
    "#### Crear lista ID Regular"
   ]
  },
  {
   "cell_type": "code",
   "execution_count": 14,
   "metadata": {},
   "outputs": [],
   "source": [
    "# Quitar del total a los ID definidos como malos del total\n",
    "\n",
    "list_1 = ID_malo\n",
    "list_2 = ID_todos\n",
    "\n",
    "for element in list_1:\n",
    "    if element in list_2:\n",
    "        list_2.remove(element)\n",
    "\n",
    "ID_regulares_1 = list_2\n",
    "\n"
   ]
  },
  {
   "cell_type": "code",
   "execution_count": 15,
   "metadata": {},
   "outputs": [],
   "source": [
    "# Quitar del total anterior los ID definidos como VIP\n",
    "\n",
    "list_1 = ID_vip\n",
    "list_2 = ID_regulares_1\n",
    "\n",
    "for element in list_1:\n",
    "    if element in list_2:\n",
    "        list_2.remove(element)\n",
    "\n",
    "ID_regulares = list_2"
   ]
  },
  {
   "cell_type": "code",
   "execution_count": 16,
   "metadata": {},
   "outputs": [
    {
     "data": {
      "text/plain": [
       "25407"
      ]
     },
     "execution_count": 16,
     "metadata": {},
     "output_type": "execute_result"
    }
   ],
   "source": [
    "len(ID_malo) + len(ID_vip) + len(ID_regulares)"
   ]
  },
  {
   "cell_type": "code",
   "execution_count": 17,
   "metadata": {},
   "outputs": [
    {
     "data": {
      "text/plain": [
       "0"
      ]
     },
     "execution_count": 17,
     "metadata": {},
     "output_type": "execute_result"
    }
   ],
   "source": [
    "# Comprobación de no repetidos\n",
    "len([x for x in ID_regulares if x in ID_malo])"
   ]
  },
  {
   "cell_type": "code",
   "execution_count": 18,
   "metadata": {},
   "outputs": [
    {
     "data": {
      "text/plain": [
       "0"
      ]
     },
     "execution_count": 18,
     "metadata": {},
     "output_type": "execute_result"
    }
   ],
   "source": [
    "## Comprobación de no repetidos\n",
    "len([x for x in ID_regulares if x in ID_vip])"
   ]
  },
  {
   "cell_type": "markdown",
   "metadata": {},
   "source": [
    "### Convertir listas Malo Regular y VIP a Data Frame"
   ]
  },
  {
   "cell_type": "markdown",
   "metadata": {},
   "source": [
    "#### Limpieza de data frame total y listas de clientes"
   ]
  },
  {
   "cell_type": "code",
   "execution_count": 19,
   "metadata": {},
   "outputs": [
    {
     "data": {
      "text/html": [
       "<div>\n",
       "<style scoped>\n",
       "    .dataframe tbody tr th:only-of-type {\n",
       "        vertical-align: middle;\n",
       "    }\n",
       "\n",
       "    .dataframe tbody tr th {\n",
       "        vertical-align: top;\n",
       "    }\n",
       "\n",
       "    .dataframe thead th {\n",
       "        text-align: right;\n",
       "    }\n",
       "</style>\n",
       "<table border=\"1\" class=\"dataframe\">\n",
       "  <thead>\n",
       "    <tr style=\"text-align: right;\">\n",
       "      <th></th>\n",
       "      <th>ID</th>\n",
       "      <th>CODE_GENDER</th>\n",
       "      <th>FLAG_OWN_CAR</th>\n",
       "      <th>FLAG_OWN_REALTY</th>\n",
       "      <th>CNT_CHILDREN</th>\n",
       "      <th>AMT_INCOME_TOTAL</th>\n",
       "      <th>NAME_INCOME_TYPE</th>\n",
       "      <th>NAME_EDUCATION_TYPE</th>\n",
       "      <th>NAME_FAMILY_STATUS</th>\n",
       "      <th>NAME_HOUSING_TYPE</th>\n",
       "      <th>YEARS_BIRTH</th>\n",
       "      <th>YEARS_EMPLOYED</th>\n",
       "      <th>FLAG_MOBIL</th>\n",
       "      <th>FLAG_WORK_PHONE</th>\n",
       "      <th>FLAG_PHONE</th>\n",
       "      <th>FLAG_EMAIL</th>\n",
       "      <th>OCCUPATION_TYPE</th>\n",
       "      <th>CNT_FAM_MEMBERS</th>\n",
       "    </tr>\n",
       "  </thead>\n",
       "  <tbody>\n",
       "    <tr>\n",
       "      <th>0</th>\n",
       "      <td>5008804</td>\n",
       "      <td>M</td>\n",
       "      <td>Y</td>\n",
       "      <td>Y</td>\n",
       "      <td>0</td>\n",
       "      <td>427500.0</td>\n",
       "      <td>Working</td>\n",
       "      <td>Higher education</td>\n",
       "      <td>Civil marriage</td>\n",
       "      <td>Rented apartment</td>\n",
       "      <td>32.89</td>\n",
       "      <td>12.44</td>\n",
       "      <td>1</td>\n",
       "      <td>1</td>\n",
       "      <td>0</td>\n",
       "      <td>0</td>\n",
       "      <td>NaN</td>\n",
       "      <td>2.0</td>\n",
       "    </tr>\n",
       "    <tr>\n",
       "      <th>16</th>\n",
       "      <td>5008805</td>\n",
       "      <td>M</td>\n",
       "      <td>Y</td>\n",
       "      <td>Y</td>\n",
       "      <td>0</td>\n",
       "      <td>427500.0</td>\n",
       "      <td>Working</td>\n",
       "      <td>Higher education</td>\n",
       "      <td>Civil marriage</td>\n",
       "      <td>Rented apartment</td>\n",
       "      <td>32.89</td>\n",
       "      <td>12.44</td>\n",
       "      <td>1</td>\n",
       "      <td>1</td>\n",
       "      <td>0</td>\n",
       "      <td>0</td>\n",
       "      <td>NaN</td>\n",
       "      <td>2.0</td>\n",
       "    </tr>\n",
       "    <tr>\n",
       "      <th>31</th>\n",
       "      <td>5008806</td>\n",
       "      <td>M</td>\n",
       "      <td>Y</td>\n",
       "      <td>Y</td>\n",
       "      <td>0</td>\n",
       "      <td>112500.0</td>\n",
       "      <td>Working</td>\n",
       "      <td>Secondary / secondary special</td>\n",
       "      <td>Married</td>\n",
       "      <td>House / apartment</td>\n",
       "      <td>58.83</td>\n",
       "      <td>3.11</td>\n",
       "      <td>1</td>\n",
       "      <td>0</td>\n",
       "      <td>0</td>\n",
       "      <td>0</td>\n",
       "      <td>Security staff</td>\n",
       "      <td>2.0</td>\n",
       "    </tr>\n",
       "    <tr>\n",
       "      <th>61</th>\n",
       "      <td>5008808</td>\n",
       "      <td>F</td>\n",
       "      <td>N</td>\n",
       "      <td>Y</td>\n",
       "      <td>0</td>\n",
       "      <td>270000.0</td>\n",
       "      <td>Commercial associate</td>\n",
       "      <td>Secondary / secondary special</td>\n",
       "      <td>Single / not married</td>\n",
       "      <td>House / apartment</td>\n",
       "      <td>52.36</td>\n",
       "      <td>8.36</td>\n",
       "      <td>1</td>\n",
       "      <td>0</td>\n",
       "      <td>1</td>\n",
       "      <td>1</td>\n",
       "      <td>Sales staff</td>\n",
       "      <td>1.0</td>\n",
       "    </tr>\n",
       "    <tr>\n",
       "      <th>66</th>\n",
       "      <td>5008809</td>\n",
       "      <td>F</td>\n",
       "      <td>N</td>\n",
       "      <td>Y</td>\n",
       "      <td>0</td>\n",
       "      <td>270000.0</td>\n",
       "      <td>Commercial associate</td>\n",
       "      <td>Secondary / secondary special</td>\n",
       "      <td>Single / not married</td>\n",
       "      <td>House / apartment</td>\n",
       "      <td>52.36</td>\n",
       "      <td>8.36</td>\n",
       "      <td>1</td>\n",
       "      <td>0</td>\n",
       "      <td>1</td>\n",
       "      <td>1</td>\n",
       "      <td>Sales staff</td>\n",
       "      <td>1.0</td>\n",
       "    </tr>\n",
       "  </tbody>\n",
       "</table>\n",
       "</div>"
      ],
      "text/plain": [
       "         ID CODE_GENDER FLAG_OWN_CAR FLAG_OWN_REALTY  CNT_CHILDREN  \\\n",
       "0   5008804           M            Y               Y             0   \n",
       "16  5008805           M            Y               Y             0   \n",
       "31  5008806           M            Y               Y             0   \n",
       "61  5008808           F            N               Y             0   \n",
       "66  5008809           F            N               Y             0   \n",
       "\n",
       "    AMT_INCOME_TOTAL      NAME_INCOME_TYPE            NAME_EDUCATION_TYPE  \\\n",
       "0           427500.0               Working               Higher education   \n",
       "16          427500.0               Working               Higher education   \n",
       "31          112500.0               Working  Secondary / secondary special   \n",
       "61          270000.0  Commercial associate  Secondary / secondary special   \n",
       "66          270000.0  Commercial associate  Secondary / secondary special   \n",
       "\n",
       "      NAME_FAMILY_STATUS  NAME_HOUSING_TYPE  YEARS_BIRTH  YEARS_EMPLOYED  \\\n",
       "0         Civil marriage   Rented apartment        32.89           12.44   \n",
       "16        Civil marriage   Rented apartment        32.89           12.44   \n",
       "31               Married  House / apartment        58.83            3.11   \n",
       "61  Single / not married  House / apartment        52.36            8.36   \n",
       "66  Single / not married  House / apartment        52.36            8.36   \n",
       "\n",
       "    FLAG_MOBIL  FLAG_WORK_PHONE  FLAG_PHONE  FLAG_EMAIL OCCUPATION_TYPE  \\\n",
       "0            1                1           0           0             NaN   \n",
       "16           1                1           0           0             NaN   \n",
       "31           1                0           0           0  Security staff   \n",
       "61           1                0           1           1     Sales staff   \n",
       "66           1                0           1           1     Sales staff   \n",
       "\n",
       "    CNT_FAM_MEMBERS  \n",
       "0               2.0  \n",
       "16              2.0  \n",
       "31              2.0  \n",
       "61              1.0  \n",
       "66              1.0  "
      ]
     },
     "execution_count": 19,
     "metadata": {},
     "output_type": "execute_result"
    }
   ],
   "source": [
    "# Se eliminan todos los ID duplicados del dfAll\n",
    "# Se eliminan todos los STATUS ya que serán divididos por ese grupo y Months Balance al no depender del tiempo\n",
    "\n",
    "dfAll_m = dfAll.drop_duplicates( subset= ['ID'] , keep='first')\n",
    "dfAll_m = dfAll_m.drop(['Unnamed: 0','STATUS', 'MONTHS_BALANCE'], axis = 1)\n",
    "dfAll_m.head()"
   ]
  },
  {
   "cell_type": "code",
   "execution_count": 20,
   "metadata": {},
   "outputs": [
    {
     "data": {
      "text/plain": [
       "count    36457.000000\n",
       "mean      -162.364823\n",
       "std        377.128577\n",
       "min      -1000.670000\n",
       "25%          1.120000\n",
       "50%          4.250000\n",
       "75%          8.640000\n",
       "max         43.050000\n",
       "Name: YEARS_EMPLOYED, dtype: float64"
      ]
     },
     "execution_count": 20,
     "metadata": {},
     "output_type": "execute_result"
    }
   ],
   "source": [
    "# Se verifica valor a eliminar =  YEARS_EMPLOYED negativos\n",
    "dfAll_m['YEARS_EMPLOYED'].describe()"
   ]
  },
  {
   "cell_type": "code",
   "execution_count": 21,
   "metadata": {},
   "outputs": [],
   "source": [
    "# Verificador index lista\n",
    "\n",
    "clientes_malos = pd.DataFrame(ID_malo)\n",
    "clientes_regulares = pd.DataFrame(ID_regulares)\n",
    "clientes_vip = pd.DataFrame(ID_vip)"
   ]
  },
  {
   "cell_type": "code",
   "execution_count": 22,
   "metadata": {},
   "outputs": [
    {
     "data": {
      "text/plain": [
       "pandas.core.frame.DataFrame"
      ]
     },
     "execution_count": 22,
     "metadata": {},
     "output_type": "execute_result"
    }
   ],
   "source": [
    "type(clientes_malos)"
   ]
  },
  {
   "cell_type": "code",
   "execution_count": 23,
   "metadata": {},
   "outputs": [
    {
     "data": {
      "text/html": [
       "<div>\n",
       "<style scoped>\n",
       "    .dataframe tbody tr th:only-of-type {\n",
       "        vertical-align: middle;\n",
       "    }\n",
       "\n",
       "    .dataframe tbody tr th {\n",
       "        vertical-align: top;\n",
       "    }\n",
       "\n",
       "    .dataframe thead th {\n",
       "        text-align: right;\n",
       "    }\n",
       "</style>\n",
       "<table border=\"1\" class=\"dataframe\">\n",
       "  <thead>\n",
       "    <tr style=\"text-align: right;\">\n",
       "      <th></th>\n",
       "      <th>0</th>\n",
       "    </tr>\n",
       "  </thead>\n",
       "  <tbody>\n",
       "    <tr>\n",
       "      <th>0</th>\n",
       "      <td>5018501</td>\n",
       "    </tr>\n",
       "    <tr>\n",
       "      <th>1</th>\n",
       "      <td>5021431</td>\n",
       "    </tr>\n",
       "    <tr>\n",
       "      <th>2</th>\n",
       "      <td>5038807</td>\n",
       "    </tr>\n",
       "    <tr>\n",
       "      <th>3</th>\n",
       "      <td>5053254</td>\n",
       "    </tr>\n",
       "    <tr>\n",
       "      <th>4</th>\n",
       "      <td>5061360</td>\n",
       "    </tr>\n",
       "    <tr>\n",
       "      <th>...</th>\n",
       "      <td>...</td>\n",
       "    </tr>\n",
       "    <tr>\n",
       "      <th>106</th>\n",
       "      <td>5058531</td>\n",
       "    </tr>\n",
       "    <tr>\n",
       "      <th>107</th>\n",
       "      <td>5117794</td>\n",
       "    </tr>\n",
       "    <tr>\n",
       "      <th>108</th>\n",
       "      <td>5058532</td>\n",
       "    </tr>\n",
       "    <tr>\n",
       "      <th>109</th>\n",
       "      <td>5137206</td>\n",
       "    </tr>\n",
       "    <tr>\n",
       "      <th>110</th>\n",
       "      <td>5090214</td>\n",
       "    </tr>\n",
       "  </tbody>\n",
       "</table>\n",
       "<p>111 rows × 1 columns</p>\n",
       "</div>"
      ],
      "text/plain": [
       "           0\n",
       "0    5018501\n",
       "1    5021431\n",
       "2    5038807\n",
       "3    5053254\n",
       "4    5061360\n",
       "..       ...\n",
       "106  5058531\n",
       "107  5117794\n",
       "108  5058532\n",
       "109  5137206\n",
       "110  5090214\n",
       "\n",
       "[111 rows x 1 columns]"
      ]
     },
     "execution_count": 23,
     "metadata": {},
     "output_type": "execute_result"
    }
   ],
   "source": [
    "clientes_malos"
   ]
  },
  {
   "cell_type": "code",
   "execution_count": 24,
   "metadata": {},
   "outputs": [
    {
     "data": {
      "text/plain": [
       "0      5018501\n",
       "1      5021431\n",
       "2      5038807\n",
       "3      5053254\n",
       "4      5061360\n",
       "        ...   \n",
       "106    5058531\n",
       "107    5117794\n",
       "108    5058532\n",
       "109    5137206\n",
       "110    5090214\n",
       "Name: 0, Length: 111, dtype: int64"
      ]
     },
     "execution_count": 24,
     "metadata": {},
     "output_type": "execute_result"
    }
   ],
   "source": [
    "clientes_malos[0]"
   ]
  },
  {
   "cell_type": "markdown",
   "metadata": {},
   "source": [
    "#### Crear data frame de clientes malo, regular y vip"
   ]
  },
  {
   "cell_type": "code",
   "execution_count": 25,
   "metadata": {},
   "outputs": [],
   "source": [
    "# Listas de clientes y reseteo de index\n",
    "\n",
    "df_clientes_malos = dfAll_m.set_index('ID').loc[clientes_malos[0]].reset_index(inplace=False)\n",
    "df_clientes_regulares = dfAll_m.set_index('ID').loc[clientes_regulares[0]].reset_index(inplace=False)\n",
    "df_clientes_vip = dfAll_m.set_index('ID').loc[clientes_vip[0]].reset_index(inplace=False)"
   ]
  },
  {
   "cell_type": "code",
   "execution_count": 26,
   "metadata": {},
   "outputs": [
    {
     "data": {
      "text/html": [
       "<div>\n",
       "<style scoped>\n",
       "    .dataframe tbody tr th:only-of-type {\n",
       "        vertical-align: middle;\n",
       "    }\n",
       "\n",
       "    .dataframe tbody tr th {\n",
       "        vertical-align: top;\n",
       "    }\n",
       "\n",
       "    .dataframe thead th {\n",
       "        text-align: right;\n",
       "    }\n",
       "</style>\n",
       "<table border=\"1\" class=\"dataframe\">\n",
       "  <thead>\n",
       "    <tr style=\"text-align: right;\">\n",
       "      <th></th>\n",
       "      <th>ID</th>\n",
       "      <th>CODE_GENDER</th>\n",
       "      <th>FLAG_OWN_CAR</th>\n",
       "      <th>FLAG_OWN_REALTY</th>\n",
       "      <th>CNT_CHILDREN</th>\n",
       "      <th>AMT_INCOME_TOTAL</th>\n",
       "      <th>NAME_INCOME_TYPE</th>\n",
       "      <th>NAME_EDUCATION_TYPE</th>\n",
       "      <th>NAME_FAMILY_STATUS</th>\n",
       "      <th>NAME_HOUSING_TYPE</th>\n",
       "      <th>YEARS_BIRTH</th>\n",
       "      <th>YEARS_EMPLOYED</th>\n",
       "      <th>FLAG_MOBIL</th>\n",
       "      <th>FLAG_WORK_PHONE</th>\n",
       "      <th>FLAG_PHONE</th>\n",
       "      <th>FLAG_EMAIL</th>\n",
       "      <th>OCCUPATION_TYPE</th>\n",
       "      <th>CNT_FAM_MEMBERS</th>\n",
       "    </tr>\n",
       "  </thead>\n",
       "  <tbody>\n",
       "    <tr>\n",
       "      <th>0</th>\n",
       "      <td>5018501</td>\n",
       "      <td>F</td>\n",
       "      <td>Y</td>\n",
       "      <td>Y</td>\n",
       "      <td>0</td>\n",
       "      <td>90000.0</td>\n",
       "      <td>Working</td>\n",
       "      <td>Secondary / secondary special</td>\n",
       "      <td>Married</td>\n",
       "      <td>House / apartment</td>\n",
       "      <td>51.92</td>\n",
       "      <td>2.75</td>\n",
       "      <td>1</td>\n",
       "      <td>1</td>\n",
       "      <td>1</td>\n",
       "      <td>0</td>\n",
       "      <td>Cooking staff</td>\n",
       "      <td>2.0</td>\n",
       "    </tr>\n",
       "    <tr>\n",
       "      <th>1</th>\n",
       "      <td>5021431</td>\n",
       "      <td>F</td>\n",
       "      <td>N</td>\n",
       "      <td>Y</td>\n",
       "      <td>0</td>\n",
       "      <td>126000.0</td>\n",
       "      <td>Commercial associate</td>\n",
       "      <td>Higher education</td>\n",
       "      <td>Single / not married</td>\n",
       "      <td>House / apartment</td>\n",
       "      <td>51.80</td>\n",
       "      <td>6.77</td>\n",
       "      <td>1</td>\n",
       "      <td>0</td>\n",
       "      <td>0</td>\n",
       "      <td>0</td>\n",
       "      <td>Sales staff</td>\n",
       "      <td>1.0</td>\n",
       "    </tr>\n",
       "    <tr>\n",
       "      <th>2</th>\n",
       "      <td>5038807</td>\n",
       "      <td>M</td>\n",
       "      <td>Y</td>\n",
       "      <td>Y</td>\n",
       "      <td>0</td>\n",
       "      <td>202500.0</td>\n",
       "      <td>Commercial associate</td>\n",
       "      <td>Higher education</td>\n",
       "      <td>Married</td>\n",
       "      <td>House / apartment</td>\n",
       "      <td>34.68</td>\n",
       "      <td>14.72</td>\n",
       "      <td>1</td>\n",
       "      <td>0</td>\n",
       "      <td>0</td>\n",
       "      <td>1</td>\n",
       "      <td>Laborers</td>\n",
       "      <td>2.0</td>\n",
       "    </tr>\n",
       "    <tr>\n",
       "      <th>3</th>\n",
       "      <td>5053254</td>\n",
       "      <td>F</td>\n",
       "      <td>Y</td>\n",
       "      <td>Y</td>\n",
       "      <td>0</td>\n",
       "      <td>180000.0</td>\n",
       "      <td>Commercial associate</td>\n",
       "      <td>Secondary / secondary special</td>\n",
       "      <td>Married</td>\n",
       "      <td>House / apartment</td>\n",
       "      <td>51.14</td>\n",
       "      <td>5.89</td>\n",
       "      <td>1</td>\n",
       "      <td>1</td>\n",
       "      <td>0</td>\n",
       "      <td>0</td>\n",
       "      <td>Managers</td>\n",
       "      <td>2.0</td>\n",
       "    </tr>\n",
       "    <tr>\n",
       "      <th>4</th>\n",
       "      <td>5061360</td>\n",
       "      <td>M</td>\n",
       "      <td>N</td>\n",
       "      <td>Y</td>\n",
       "      <td>0</td>\n",
       "      <td>65250.0</td>\n",
       "      <td>Pensioner</td>\n",
       "      <td>Higher education</td>\n",
       "      <td>Married</td>\n",
       "      <td>House / apartment</td>\n",
       "      <td>57.18</td>\n",
       "      <td>-1000.67</td>\n",
       "      <td>1</td>\n",
       "      <td>0</td>\n",
       "      <td>0</td>\n",
       "      <td>0</td>\n",
       "      <td>NaN</td>\n",
       "      <td>2.0</td>\n",
       "    </tr>\n",
       "    <tr>\n",
       "      <th>...</th>\n",
       "      <td>...</td>\n",
       "      <td>...</td>\n",
       "      <td>...</td>\n",
       "      <td>...</td>\n",
       "      <td>...</td>\n",
       "      <td>...</td>\n",
       "      <td>...</td>\n",
       "      <td>...</td>\n",
       "      <td>...</td>\n",
       "      <td>...</td>\n",
       "      <td>...</td>\n",
       "      <td>...</td>\n",
       "      <td>...</td>\n",
       "      <td>...</td>\n",
       "      <td>...</td>\n",
       "      <td>...</td>\n",
       "      <td>...</td>\n",
       "      <td>...</td>\n",
       "    </tr>\n",
       "    <tr>\n",
       "      <th>106</th>\n",
       "      <td>5058531</td>\n",
       "      <td>M</td>\n",
       "      <td>N</td>\n",
       "      <td>N</td>\n",
       "      <td>0</td>\n",
       "      <td>391500.0</td>\n",
       "      <td>Working</td>\n",
       "      <td>Secondary / secondary special</td>\n",
       "      <td>Single / not married</td>\n",
       "      <td>Municipal apartment</td>\n",
       "      <td>25.32</td>\n",
       "      <td>1.39</td>\n",
       "      <td>1</td>\n",
       "      <td>0</td>\n",
       "      <td>0</td>\n",
       "      <td>0</td>\n",
       "      <td>Sales staff</td>\n",
       "      <td>1.0</td>\n",
       "    </tr>\n",
       "    <tr>\n",
       "      <th>107</th>\n",
       "      <td>5117794</td>\n",
       "      <td>F</td>\n",
       "      <td>Y</td>\n",
       "      <td>N</td>\n",
       "      <td>2</td>\n",
       "      <td>162000.0</td>\n",
       "      <td>Commercial associate</td>\n",
       "      <td>Incomplete higher</td>\n",
       "      <td>Married</td>\n",
       "      <td>House / apartment</td>\n",
       "      <td>26.47</td>\n",
       "      <td>2.18</td>\n",
       "      <td>1</td>\n",
       "      <td>1</td>\n",
       "      <td>1</td>\n",
       "      <td>0</td>\n",
       "      <td>Core staff</td>\n",
       "      <td>4.0</td>\n",
       "    </tr>\n",
       "    <tr>\n",
       "      <th>108</th>\n",
       "      <td>5058532</td>\n",
       "      <td>M</td>\n",
       "      <td>N</td>\n",
       "      <td>N</td>\n",
       "      <td>0</td>\n",
       "      <td>391500.0</td>\n",
       "      <td>Working</td>\n",
       "      <td>Secondary / secondary special</td>\n",
       "      <td>Single / not married</td>\n",
       "      <td>Municipal apartment</td>\n",
       "      <td>25.32</td>\n",
       "      <td>1.39</td>\n",
       "      <td>1</td>\n",
       "      <td>0</td>\n",
       "      <td>0</td>\n",
       "      <td>0</td>\n",
       "      <td>Sales staff</td>\n",
       "      <td>1.0</td>\n",
       "    </tr>\n",
       "    <tr>\n",
       "      <th>109</th>\n",
       "      <td>5137206</td>\n",
       "      <td>M</td>\n",
       "      <td>N</td>\n",
       "      <td>N</td>\n",
       "      <td>0</td>\n",
       "      <td>90000.0</td>\n",
       "      <td>Working</td>\n",
       "      <td>Secondary / secondary special</td>\n",
       "      <td>Single / not married</td>\n",
       "      <td>With parents</td>\n",
       "      <td>27.12</td>\n",
       "      <td>0.47</td>\n",
       "      <td>1</td>\n",
       "      <td>1</td>\n",
       "      <td>0</td>\n",
       "      <td>0</td>\n",
       "      <td>Drivers</td>\n",
       "      <td>1.0</td>\n",
       "    </tr>\n",
       "    <tr>\n",
       "      <th>110</th>\n",
       "      <td>5090214</td>\n",
       "      <td>M</td>\n",
       "      <td>Y</td>\n",
       "      <td>Y</td>\n",
       "      <td>0</td>\n",
       "      <td>135000.0</td>\n",
       "      <td>Working</td>\n",
       "      <td>Secondary / secondary special</td>\n",
       "      <td>Married</td>\n",
       "      <td>House / apartment</td>\n",
       "      <td>29.35</td>\n",
       "      <td>0.59</td>\n",
       "      <td>1</td>\n",
       "      <td>0</td>\n",
       "      <td>0</td>\n",
       "      <td>0</td>\n",
       "      <td>Laborers</td>\n",
       "      <td>2.0</td>\n",
       "    </tr>\n",
       "  </tbody>\n",
       "</table>\n",
       "<p>111 rows × 18 columns</p>\n",
       "</div>"
      ],
      "text/plain": [
       "          ID CODE_GENDER FLAG_OWN_CAR FLAG_OWN_REALTY  CNT_CHILDREN  \\\n",
       "0    5018501           F            Y               Y             0   \n",
       "1    5021431           F            N               Y             0   \n",
       "2    5038807           M            Y               Y             0   \n",
       "3    5053254           F            Y               Y             0   \n",
       "4    5061360           M            N               Y             0   \n",
       "..       ...         ...          ...             ...           ...   \n",
       "106  5058531           M            N               N             0   \n",
       "107  5117794           F            Y               N             2   \n",
       "108  5058532           M            N               N             0   \n",
       "109  5137206           M            N               N             0   \n",
       "110  5090214           M            Y               Y             0   \n",
       "\n",
       "     AMT_INCOME_TOTAL      NAME_INCOME_TYPE            NAME_EDUCATION_TYPE  \\\n",
       "0             90000.0               Working  Secondary / secondary special   \n",
       "1            126000.0  Commercial associate               Higher education   \n",
       "2            202500.0  Commercial associate               Higher education   \n",
       "3            180000.0  Commercial associate  Secondary / secondary special   \n",
       "4             65250.0             Pensioner               Higher education   \n",
       "..                ...                   ...                            ...   \n",
       "106          391500.0               Working  Secondary / secondary special   \n",
       "107          162000.0  Commercial associate              Incomplete higher   \n",
       "108          391500.0               Working  Secondary / secondary special   \n",
       "109           90000.0               Working  Secondary / secondary special   \n",
       "110          135000.0               Working  Secondary / secondary special   \n",
       "\n",
       "       NAME_FAMILY_STATUS    NAME_HOUSING_TYPE  YEARS_BIRTH  YEARS_EMPLOYED  \\\n",
       "0                 Married    House / apartment        51.92            2.75   \n",
       "1    Single / not married    House / apartment        51.80            6.77   \n",
       "2                 Married    House / apartment        34.68           14.72   \n",
       "3                 Married    House / apartment        51.14            5.89   \n",
       "4                 Married    House / apartment        57.18        -1000.67   \n",
       "..                    ...                  ...          ...             ...   \n",
       "106  Single / not married  Municipal apartment        25.32            1.39   \n",
       "107               Married    House / apartment        26.47            2.18   \n",
       "108  Single / not married  Municipal apartment        25.32            1.39   \n",
       "109  Single / not married         With parents        27.12            0.47   \n",
       "110               Married    House / apartment        29.35            0.59   \n",
       "\n",
       "     FLAG_MOBIL  FLAG_WORK_PHONE  FLAG_PHONE  FLAG_EMAIL OCCUPATION_TYPE  \\\n",
       "0             1                1           1           0   Cooking staff   \n",
       "1             1                0           0           0     Sales staff   \n",
       "2             1                0           0           1        Laborers   \n",
       "3             1                1           0           0        Managers   \n",
       "4             1                0           0           0             NaN   \n",
       "..          ...              ...         ...         ...             ...   \n",
       "106           1                0           0           0     Sales staff   \n",
       "107           1                1           1           0      Core staff   \n",
       "108           1                0           0           0     Sales staff   \n",
       "109           1                1           0           0         Drivers   \n",
       "110           1                0           0           0        Laborers   \n",
       "\n",
       "     CNT_FAM_MEMBERS  \n",
       "0                2.0  \n",
       "1                1.0  \n",
       "2                2.0  \n",
       "3                2.0  \n",
       "4                2.0  \n",
       "..               ...  \n",
       "106              1.0  \n",
       "107              4.0  \n",
       "108              1.0  \n",
       "109              1.0  \n",
       "110              2.0  \n",
       "\n",
       "[111 rows x 18 columns]"
      ]
     },
     "execution_count": 26,
     "metadata": {},
     "output_type": "execute_result"
    }
   ],
   "source": [
    "df_clientes_malos"
   ]
  },
  {
   "cell_type": "code",
   "execution_count": 27,
   "metadata": {},
   "outputs": [
    {
     "data": {
      "text/plain": [
       "((111, 18), (14757, 18), (10539, 18))"
      ]
     },
     "execution_count": 27,
     "metadata": {},
     "output_type": "execute_result"
    }
   ],
   "source": [
    "df_clientes_malos.shape , df_clientes_regulares.shape , df_clientes_vip.shape"
   ]
  },
  {
   "cell_type": "code",
   "execution_count": 28,
   "metadata": {},
   "outputs": [],
   "source": [
    "# Para YEARS_EMPLOYED, se seleccionaron solamente los datos positivos, \n",
    "# dejando fuera a los jubilados debido a las inconsistencias entre los registros\n",
    "\n",
    "df_clientes_malos= df_clientes_malos.drop(df_clientes_malos.index[df_clientes_malos['YEARS_EMPLOYED']<0])\n",
    "df_clientes_regulares= df_clientes_regulares.drop(df_clientes_regulares.index[df_clientes_regulares['YEARS_EMPLOYED']<0])\n",
    "df_clientes_vip= df_clientes_vip.drop(df_clientes_vip.index[df_clientes_vip['YEARS_EMPLOYED']<0])"
   ]
  },
  {
   "cell_type": "code",
   "execution_count": 29,
   "metadata": {},
   "outputs": [
    {
     "data": {
      "text/plain": [
       "((96, 18), (12258, 18), (8803, 18))"
      ]
     },
     "execution_count": 29,
     "metadata": {},
     "output_type": "execute_result"
    }
   ],
   "source": [
    "df_clientes_malos.shape , df_clientes_regulares.shape , df_clientes_vip.shape"
   ]
  },
  {
   "cell_type": "markdown",
   "metadata": {},
   "source": [
    "### Salvar Data Frames Malo Regular y VIP a Data Frame"
   ]
  },
  {
   "cell_type": "code",
   "execution_count": 30,
   "metadata": {},
   "outputs": [
    {
     "data": {
      "text/plain": [
       "'/Users/yairmartinez/Documents/GitHub/data_analysis_exercises/DB/Tablas/df_clientes_vip.csv'"
      ]
     },
     "execution_count": 30,
     "metadata": {},
     "output_type": "execute_result"
    }
   ],
   "source": [
    "df_clientes_malos.to_csv('df_clientes_malos.csv', index=False)\n",
    "df_clientes_regulares.to_csv('df_clientes_regulares.csv', index=False)\n",
    "df_clientes_vip.to_csv('df_clientes_vip.csv', index=False)\n",
    "\n",
    "pos1= '/Users/yairmartinez/Documents/GitHub/data_analysis_exercises/KPI_exercise/df_clientes_malos.csv'\n",
    "pos11= '/Users/yairmartinez/Documents/GitHub/data_analysis_exercises/DB/Tablas/df_clientes_malos.csv'\n",
    "\n",
    "pos2= '/Users/yairmartinez/Documents/GitHub/data_analysis_exercises/KPI_exercise/df_clientes_regulares.csv'\n",
    "pos22= '/Users/yairmartinez/Documents/GitHub/data_analysis_exercises/DB/Tablas/df_clientes_regulares.csv'\n",
    "\n",
    "pos3= '/Users/yairmartinez/Documents/GitHub/data_analysis_exercises/KPI_exercise/df_clientes_vip.csv'\n",
    "pos33= '/Users/yairmartinez/Documents/GitHub/data_analysis_exercises/DB/Tablas/df_clientes_vip.csv'\n",
    "\n",
    "shutil.move(pos1,pos11)\n",
    "shutil.move(pos2,pos22)\n",
    "shutil.move(pos3,pos33)"
   ]
  }
 ],
 "metadata": {
  "kernelspec": {
   "display_name": "Python 3.10.5 64-bit",
   "language": "python",
   "name": "python3"
  },
  "language_info": {
   "codemirror_mode": {
    "name": "ipython",
    "version": 3
   },
   "file_extension": ".py",
   "mimetype": "text/x-python",
   "name": "python",
   "nbconvert_exporter": "python",
   "pygments_lexer": "ipython3",
   "version": "3.10.5"
  },
  "orig_nbformat": 4,
  "vscode": {
   "interpreter": {
    "hash": "aee8b7b246df8f9039afb4144a1f6fd8d2ca17a180786b69acc140d282b71a49"
   }
  }
 },
 "nbformat": 4,
 "nbformat_minor": 2
}
