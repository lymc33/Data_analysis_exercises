{
 "cells": [
  {
   "cell_type": "code",
   "execution_count": 1,
   "metadata": {},
   "outputs": [],
   "source": [
    "import pandas as pd\n",
    "import numpy as np\n",
    "from collections import Counter\n",
    "from itertools import chain\n",
    "import shutil"
   ]
  },
  {
   "cell_type": "code",
   "execution_count": 2,
   "metadata": {},
   "outputs": [],
   "source": [
    "dfAll = pd.read_csv('/Users/yairmartinez/Documents/GitHub/data_analysis_exercises/DB/Tablas/dfAll.csv')\n",
    "\n",
    "# df2= dfAll.iloc[:1000,]\n",
    "# df2.shape"
   ]
  },
  {
   "cell_type": "code",
   "execution_count": 3,
   "metadata": {},
   "outputs": [],
   "source": [
    "# lista_ID_mes = []\n",
    "# lista_STATUS_mes = []\n",
    "\n",
    "# dic_ID_STATUS_mes={} \n",
    "lista_ID_C_tot = []\n",
    "lista_ID_X_tot = []\n",
    "lista_ID_0_tot = []\n",
    "lista_ID_1_tot = []\n",
    "lista_ID_2_tot = []\n",
    "lista_ID_3_tot = []\n",
    "lista_ID_4_tot = []\n",
    "lista_ID_5_tot = []\n",
    "\n",
    "lista_TOTAL_C =[] \n",
    "lista_TOTAL_X =[] \n",
    "lista_TOTAL_0 =[] \n",
    "lista_TOTAL_1 =[] \n",
    "lista_TOTAL_2 =[] \n",
    "lista_TOTAL_3 =[] \n",
    "lista_TOTAL_4 =[] \n",
    "lista_TOTAL_5 =[] \n",
    "\n",
    "                       # Se fijan 12 meses para clasificacion por año \n",
    "                       # Se fijan 6 meses para clasificacion por año\n",
    "for variable_mes in range(-11,1):\n",
    "    # variable_df_mes = df2[ ( df2['MONTHS_BALANCE'] == variable_mes )   ] ### Cortado \n",
    "    variable_df_mes = dfAll[ ( dfAll['MONTHS_BALANCE'] == variable_mes )   ]   ### Completo\n",
    "    lista_ID_index = []\n",
    "    lista_STATUS_index = []\n",
    "\n",
    "    lista_ID_C_mes = []\n",
    "    lista_ID_X_mes = []\n",
    "    lista_ID_0_mes = []\n",
    "    lista_ID_1_mes = []\n",
    "    lista_ID_2_mes = []\n",
    "    lista_ID_3_mes = []\n",
    "    lista_ID_4_mes = []\n",
    "    lista_ID_5_mes = []\n",
    "\n",
    "    for i in range (0,(len(variable_df_mes))) :     \n",
    "        lista_ID_index.append( variable_df_mes.iloc[i].ID  ) # Lista registro por ID al mes\n",
    "        lista_STATUS_index.append( variable_df_mes.iloc[i].STATUS  ) # Lista registro por STATUS al mes    \n",
    "        \n",
    "    tupla_index = tuple(zip(lista_ID_index , lista_STATUS_index)) \n",
    "\n",
    "    for j in range (0,len(tupla_index)):\n",
    "        if tupla_index[j][1] == 'C':\n",
    "            lista_ID_C_mes.append(tupla_index[j][0])\n",
    "        elif tupla_index[j][1] == 'X':\n",
    "            lista_ID_X_mes.append(tupla_index[j][0])\n",
    "        elif tupla_index[j][1] == '0':\n",
    "            lista_ID_0_mes.append(tupla_index[j][0])\n",
    "        elif tupla_index[j][1] == '1':\n",
    "            lista_ID_1_mes.append(tupla_index[j][0])\n",
    "        elif tupla_index[j][1] == '2':\n",
    "            lista_ID_2_mes.append(tupla_index[j][0])\n",
    "        elif tupla_index[j][1] == '3':\n",
    "            lista_ID_3_mes.append(tupla_index[j][0])\n",
    "        elif tupla_index[j][1] == '4':\n",
    "            lista_ID_4_mes.append(tupla_index[j][0])\n",
    "        elif tupla_index[j][1] == '5':\n",
    "            lista_ID_5_mes.append(tupla_index[j][0])\n",
    "\n",
    "    lista_ID_C_tot.append(lista_ID_C_mes)\n",
    "    lista_ID_X_tot.append(lista_ID_X_mes)\n",
    "    lista_ID_0_tot.append(lista_ID_0_mes)\n",
    "    lista_ID_1_tot.append(lista_ID_1_mes)\n",
    "    lista_ID_2_tot.append(lista_ID_2_mes)\n",
    "    lista_ID_3_tot.append(lista_ID_3_mes)\n",
    "    lista_ID_4_tot.append(lista_ID_4_mes)\n",
    "    lista_ID_5_tot.append(lista_ID_5_mes)\n",
    "\n",
    "for k in range(0, len(lista_ID_C_tot)):\n",
    "    lista_TOTAL_C.extend( lista_ID_C_tot[k] )\n",
    "    lista_TOTAL_X.extend( lista_ID_X_tot[k] )\n",
    "    lista_TOTAL_0.extend( lista_ID_0_tot[k] )\n",
    "    lista_TOTAL_1.extend( lista_ID_1_tot[k] )\n",
    "    lista_TOTAL_2.extend( lista_ID_2_tot[k] )\n",
    "    lista_TOTAL_3.extend( lista_ID_3_tot[k] )\n",
    "    lista_TOTAL_4.extend( lista_ID_4_tot[k] )\n",
    "    lista_TOTAL_5.extend( lista_ID_5_tot[k] )\n",
    "\n",
    "\n",
    "contador_C = Counter(chain(lista_TOTAL_C))\n",
    "contador_X = Counter(chain(lista_TOTAL_X))\n",
    "contador_0 = Counter(chain(lista_TOTAL_0))\n",
    "contador_1 = Counter(chain(lista_TOTAL_1))         \n",
    "contador_2 = Counter(chain(lista_TOTAL_2))\n",
    "contador_3 = Counter(chain(lista_TOTAL_3))    \n",
    "contador_4 = Counter(chain(lista_TOTAL_4))\n",
    "contador_5 = Counter(chain(lista_TOTAL_5))    \n"
   ]
  },
  {
   "cell_type": "code",
   "execution_count": 4,
   "metadata": {},
   "outputs": [
    {
     "data": {
      "text/plain": [
       "(138901, 49859, 88848, 2911, 229, 78, 68, 572)"
      ]
     },
     "execution_count": 4,
     "metadata": {},
     "output_type": "execute_result"
    }
   ],
   "source": [
    "len(lista_TOTAL_C), len(lista_TOTAL_X) ,  len(lista_TOTAL_0), len(lista_TOTAL_1), len(lista_TOTAL_2), len(lista_TOTAL_3) , len(lista_TOTAL_4), len(lista_TOTAL_5)"
   ]
  },
  {
   "cell_type": "code",
   "execution_count": 5,
   "metadata": {},
   "outputs": [
    {
     "data": {
      "text/plain": [
       "list"
      ]
     },
     "execution_count": 5,
     "metadata": {},
     "output_type": "execute_result"
    }
   ],
   "source": [
    "type(lista_TOTAL_C)"
   ]
  },
  {
   "cell_type": "code",
   "execution_count": 6,
   "metadata": {},
   "outputs": [
    {
     "data": {
      "text/plain": [
       "Counter({5112858: 1,\n",
       "         5009744: 2,\n",
       "         5025127: 3,\n",
       "         5029028: 1,\n",
       "         5022053: 1,\n",
       "         5052877: 1,\n",
       "         5052879: 1,\n",
       "         5117787: 2,\n",
       "         5137206: 1,\n",
       "         5029311: 1,\n",
       "         5046328: 1,\n",
       "         5126463: 1,\n",
       "         5009749: 2,\n",
       "         5036590: 1,\n",
       "         5041175: 3,\n",
       "         5058531: 2,\n",
       "         5033514: 1,\n",
       "         5078801: 1,\n",
       "         5105189: 1,\n",
       "         5052659: 2,\n",
       "         5097145: 1,\n",
       "         5104947: 1,\n",
       "         5105194: 1,\n",
       "         5050606: 1,\n",
       "         5058352: 1,\n",
       "         5069307: 1,\n",
       "         5116906: 1,\n",
       "         5149828: 1,\n",
       "         5078804: 1,\n",
       "         5117794: 2,\n",
       "         5033453: 1,\n",
       "         5058532: 2,\n",
       "         5068456: 1,\n",
       "         5090214: 1,\n",
       "         5118046: 1,\n",
       "         5145690: 1,\n",
       "         5116302: 1,\n",
       "         5010868: 1,\n",
       "         5010869: 1,\n",
       "         5052661: 2,\n",
       "         5092245: 1,\n",
       "         5078805: 1,\n",
       "         5090729: 1,\n",
       "         5116455: 1,\n",
       "         5021998: 1,\n",
       "         5023831: 1,\n",
       "         5028580: 1,\n",
       "         5045902: 1,\n",
       "         5125761: 1,\n",
       "         5142456: 1,\n",
       "         5146444: 1,\n",
       "         5105196: 1,\n",
       "         5137203: 1,\n",
       "         5036660: 1,\n",
       "         5051161: 1,\n",
       "         5125763: 1})"
      ]
     },
     "execution_count": 6,
     "metadata": {},
     "output_type": "execute_result"
    }
   ],
   "source": [
    "Counter(chain(lista_TOTAL_4))"
   ]
  },
  {
   "cell_type": "code",
   "execution_count": 7,
   "metadata": {},
   "outputs": [
    {
     "data": {
      "text/plain": [
       "dict_keys([5112858, 5009744, 5025127, 5029028, 5022053, 5052877, 5052879, 5117787, 5137206, 5029311, 5046328, 5126463, 5009749, 5036590, 5041175, 5058531, 5033514, 5078801, 5105189, 5052659, 5097145, 5104947, 5105194, 5050606, 5058352, 5069307, 5116906, 5149828, 5078804, 5117794, 5033453, 5058532, 5068456, 5090214, 5118046, 5145690, 5116302, 5010868, 5010869, 5052661, 5092245, 5078805, 5090729, 5116455, 5021998, 5023831, 5028580, 5045902, 5125761, 5142456, 5146444, 5105196, 5137203, 5036660, 5051161, 5125763])"
      ]
     },
     "execution_count": 7,
     "metadata": {},
     "output_type": "execute_result"
    }
   ],
   "source": [
    "contador_4.keys()"
   ]
  },
  {
   "cell_type": "code",
   "execution_count": 8,
   "metadata": {},
   "outputs": [
    {
     "data": {
      "text/plain": [
       "dict_items([(5112858, 1), (5009744, 2), (5025127, 3), (5029028, 1), (5022053, 1), (5052877, 1), (5052879, 1), (5117787, 2), (5137206, 1), (5029311, 1), (5046328, 1), (5126463, 1), (5009749, 2), (5036590, 1), (5041175, 3), (5058531, 2), (5033514, 1), (5078801, 1), (5105189, 1), (5052659, 2), (5097145, 1), (5104947, 1), (5105194, 1), (5050606, 1), (5058352, 1), (5069307, 1), (5116906, 1), (5149828, 1), (5078804, 1), (5117794, 2), (5033453, 1), (5058532, 2), (5068456, 1), (5090214, 1), (5118046, 1), (5145690, 1), (5116302, 1), (5010868, 1), (5010869, 1), (5052661, 2), (5092245, 1), (5078805, 1), (5090729, 1), (5116455, 1), (5021998, 1), (5023831, 1), (5028580, 1), (5045902, 1), (5125761, 1), (5142456, 1), (5146444, 1), (5105196, 1), (5137203, 1), (5036660, 1), (5051161, 1), (5125763, 1)])"
      ]
     },
     "execution_count": 8,
     "metadata": {},
     "output_type": "execute_result"
    }
   ],
   "source": [
    "contador_4.items()"
   ]
  },
  {
   "cell_type": "code",
   "execution_count": 9,
   "metadata": {},
   "outputs": [
    {
     "data": {
      "text/plain": [
       "dict_values([1, 2, 3, 1, 1, 1, 1, 2, 1, 1, 1, 1, 2, 1, 3, 2, 1, 1, 1, 2, 1, 1, 1, 1, 1, 1, 1, 1, 1, 2, 1, 2, 1, 1, 1, 1, 1, 1, 1, 2, 1, 1, 1, 1, 1, 1, 1, 1, 1, 1, 1, 1, 1, 1, 1, 1])"
      ]
     },
     "execution_count": 9,
     "metadata": {},
     "output_type": "execute_result"
    }
   ],
   "source": [
    "contador_4.values()"
   ]
  },
  {
   "cell_type": "code",
   "execution_count": 10,
   "metadata": {},
   "outputs": [
    {
     "name": "stdout",
     "output_type": "stream",
     "text": [
      "1\n"
     ]
    }
   ],
   "source": [
    "print(contador_4[5112858])"
   ]
  },
  {
   "cell_type": "code",
   "execution_count": 11,
   "metadata": {},
   "outputs": [
    {
     "data": {
      "text/plain": [
       "(15198, 9872, 15040, 1631, 162, 70, 56, 104)"
      ]
     },
     "execution_count": 11,
     "metadata": {},
     "output_type": "execute_result"
    }
   ],
   "source": [
    "# En 12 años, \n",
    "\n",
    "len(contador_C), len(contador_X), len(contador_0), len(contador_1), len(contador_2), len(contador_3), len(contador_4), len(contador_5)"
   ]
  },
  {
   "cell_type": "code",
   "execution_count": 12,
   "metadata": {},
   "outputs": [],
   "source": [
    "# ID Malo tiene al menos un valor 5 en un año  (Si paga, el STATUS va a 5,4,3,2,1 y 0 de deudas o medio año)\n",
    "# ID Malo tiene al menos dos valores 4 en un año (Si paga, el STATUS va a 4,3,2,1 y 0 de deudas o casi medio año)\n",
    "# ID Malo tiene al menos tres valores 3 en un año (Si paga, el STATUS va a 3,2,1 y 0 de deudas o un tercio de año)\n",
    "\n",
    "\n",
    "ID_malo_r= []\n",
    "\n",
    "ID_vip_r = []\n",
    "\n",
    "for key, value in contador_5.items() :\n",
    "    if contador_5[key] > 0 :\n",
    "        prueba = [] \n",
    "        prueba = [key]\n",
    "        ID_malo_r.append(prueba)\n",
    "\n",
    "\n",
    "for key, value in contador_4.items() :\n",
    "    if contador_4[key] > 1 :\n",
    "        prueba = [] \n",
    "        prueba = [key]\n",
    "        ID_malo_r.append(prueba)\n",
    "\n",
    "for key, value in contador_3.items() :\n",
    "    if contador_3[key] > 2 :\n",
    "        prueba = [] \n",
    "        prueba = [key]\n",
    "        ID_malo_r.append(prueba)\n",
    "\n",
    "### ID VIP tienen más de 8 pagos C en un año  \n",
    "\n",
    "for key, value in contador_C.items() :\n",
    "    if contador_C[key] > 7 :\n",
    "        prueba = [] \n",
    "        prueba = [key]\n",
    "        ID_vip_r.append(prueba)\n",
    "\n"
   ]
  },
  {
   "cell_type": "code",
   "execution_count": 13,
   "metadata": {},
   "outputs": [
    {
     "data": {
      "text/plain": [
       "(116, 10539, 24672)"
      ]
     },
     "execution_count": 13,
     "metadata": {},
     "output_type": "execute_result"
    }
   ],
   "source": [
    "len(ID_malo_r), len(ID_vip_r), len(tupla_index)"
   ]
  },
  {
   "cell_type": "code",
   "execution_count": 14,
   "metadata": {},
   "outputs": [],
   "source": [
    "#Lista total\n",
    "\n",
    "dic_ID_todos = dict(tupla_index)\n",
    "ID_todos_r = list(dic_ID_todos.keys())"
   ]
  },
  {
   "cell_type": "code",
   "execution_count": 15,
   "metadata": {},
   "outputs": [],
   "source": [
    "#Quitar repetidos\n",
    "\n",
    "ID_malo = []\n",
    "for i in ID_malo_r:\n",
    "    if i not in ID_malo:\n",
    "        ID_malo.append(i)\n",
    "\n",
    "ID_vip = []\n",
    "for i in ID_vip_r:\n",
    "    if i not in ID_vip:\n",
    "        ID_vip.append(i)\n",
    "\n",
    "\n",
    "ID_todos = []\n",
    "for i in ID_todos_r:\n",
    "    if i not in ID_todos:\n",
    "        ID_todos.append(i)\n",
    "  "
   ]
  },
  {
   "cell_type": "code",
   "execution_count": 16,
   "metadata": {},
   "outputs": [
    {
     "data": {
      "text/plain": [
       "(116, 111, 10539, 10539, 24672, 24672)"
      ]
     },
     "execution_count": 16,
     "metadata": {},
     "output_type": "execute_result"
    }
   ],
   "source": [
    "len(ID_malo_r), len(ID_malo), len(ID_vip_r), len(ID_vip), len(ID_todos_r), len(ID_todos)"
   ]
  },
  {
   "cell_type": "code",
   "execution_count": 17,
   "metadata": {},
   "outputs": [],
   "source": [
    "# Quitar del total a los ID definidos como malos del total\n",
    "\n",
    "list_1 = ID_malo\n",
    "list_2 = ID_todos\n",
    "\n",
    "for element in list_1:\n",
    "    if element in list_2:\n",
    "        list_2.remove(element)\n",
    "\n",
    "ID_regulares_1 = list_2\n",
    "\n"
   ]
  },
  {
   "cell_type": "code",
   "execution_count": 18,
   "metadata": {},
   "outputs": [],
   "source": [
    "# Quitar del total anterior los ID definidos como VIP\n",
    "\n",
    "list_1 = ID_vip\n",
    "list_2 = ID_regulares_1\n",
    "\n",
    "for element in list_1:\n",
    "    if element in list_2:\n",
    "        list_2.remove(element)\n",
    "\n",
    "ID_regulares = list_2"
   ]
  },
  {
   "cell_type": "code",
   "execution_count": 19,
   "metadata": {},
   "outputs": [
    {
     "data": {
      "text/plain": [
       "25407"
      ]
     },
     "execution_count": 19,
     "metadata": {},
     "output_type": "execute_result"
    }
   ],
   "source": [
    "len(ID_malo) + len(ID_vip) + len(ID_regulares)"
   ]
  },
  {
   "cell_type": "code",
   "execution_count": 20,
   "metadata": {},
   "outputs": [
    {
     "data": {
      "text/plain": [
       "0"
      ]
     },
     "execution_count": 20,
     "metadata": {},
     "output_type": "execute_result"
    }
   ],
   "source": [
    "# Comprovación de no repetidos\n",
    "len([x for x in ID_regulares if x in ID_malo])"
   ]
  },
  {
   "cell_type": "code",
   "execution_count": 21,
   "metadata": {},
   "outputs": [
    {
     "data": {
      "text/plain": [
       "0"
      ]
     },
     "execution_count": 21,
     "metadata": {},
     "output_type": "execute_result"
    }
   ],
   "source": [
    "# Comprovación de no repetidos\n",
    "len([x for x in ID_regulares if x in ID_vip])"
   ]
  },
  {
   "cell_type": "code",
   "execution_count": 23,
   "metadata": {},
   "outputs": [
    {
     "data": {
      "text/plain": [
       "'/Users/yairmartinez/Documents/GitHub/data_analysis_exercises/DB/Tablas/class_ID_vip.csv'"
      ]
     },
     "execution_count": 23,
     "metadata": {},
     "output_type": "execute_result"
    }
   ],
   "source": [
    "np.savetxt(\"class_ID_malo.csv\", ID_malo, delimiter =\", \", fmt ='% s')\n",
    "np.savetxt(\"class_ID_vip.csv\", ID_vip, delimiter =\", \", fmt ='% s')\n",
    "np.savetxt(\"class_ID_regulares.csv\", ID_regulares, delimiter =\", \", fmt ='% s')\n",
    "\n",
    "pos1= '/Users/yairmartinez/Documents/GitHub/data_analysis_exercises/KPI_exercise/class_ID_malo.csv'\n",
    "pos2= '/Users/yairmartinez/Documents/GitHub/data_analysis_exercises/KPI_exercise/class_ID_regulares.csv'\n",
    "pos3= '/Users/yairmartinez/Documents/GitHub/data_analysis_exercises/KPI_exercise/class_ID_vip.csv'\n",
    "\n",
    "pos11= '/Users/yairmartinez/Documents/GitHub/data_analysis_exercises/DB/Tablas/class_ID_malo.csv'\n",
    "pos22= '/Users/yairmartinez/Documents/GitHub/data_analysis_exercises/DB/Tablas/class_ID_regulares.csv'\n",
    "pos33= '/Users/yairmartinez/Documents/GitHub/data_analysis_exercises/DB/Tablas/class_ID_vip.csv'\n",
    "\n",
    "shutil.move(pos1,pos11)\n",
    "shutil.move(pos2,pos22)\n",
    "shutil.move(pos3,pos33)"
   ]
  },
  {
   "cell_type": "code",
   "execution_count": null,
   "metadata": {},
   "outputs": [],
   "source": []
  }
 ],
 "metadata": {
  "interpreter": {
   "hash": "40d3a090f54c6569ab1632332b64b2c03c39dcf918b08424e98f38b5ae0af88f"
  },
  "kernelspec": {
   "display_name": "Python 3.9.7 ('base')",
   "language": "python",
   "name": "python3"
  },
  "language_info": {
   "codemirror_mode": {
    "name": "ipython",
    "version": 3
   },
   "file_extension": ".py",
   "mimetype": "text/x-python",
   "name": "python",
   "nbconvert_exporter": "python",
   "pygments_lexer": "ipython3",
   "version": "3.9.7"
  },
  "orig_nbformat": 4
 },
 "nbformat": 4,
 "nbformat_minor": 2
}
